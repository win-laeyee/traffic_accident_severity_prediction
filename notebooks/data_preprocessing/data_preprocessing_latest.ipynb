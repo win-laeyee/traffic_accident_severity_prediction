{
  "cells": [
    {
      "cell_type": "markdown",
      "metadata": {
        "id": "z-X-nrKKTVeQ"
      },
      "source": [
        "# Importing Packages"
      ]
    },
    {
      "cell_type": "code",
      "execution_count": 422,
      "metadata": {
        "id": "loct6dfETUi1"
      },
      "outputs": [],
      "source": [
        "import pandas as pd\n",
        "import numpy as np\n",
        "import matplotlib.pyplot as plt\n",
        "import seaborn as sns\n",
        "\n",
        "from sklearn.preprocessing import LabelEncoder\n",
        "from sklearn.model_selection import train_test_split\n",
        "from sklearn.preprocessing import OneHotEncoder"
      ]
    },
    {
      "cell_type": "markdown",
      "metadata": {
        "id": "v2OJbZi6ToSr"
      },
      "source": [
        "# Loading Dataset"
      ]
    },
    {
      "cell_type": "code",
      "execution_count": 487,
      "metadata": {
        "id": "Ozw4GlpVTn_J"
      },
      "outputs": [],
      "source": [
        "traffic_data = pd.read_csv('/content/US_Accidents_March23_sampled_500k.csv')"
      ]
    },
    {
      "cell_type": "code",
      "execution_count": 488,
      "metadata": {
        "colab": {
          "base_uri": "https://localhost:8080/"
        },
        "id": "tRsxa2zemNW2",
        "outputId": "bacfbdd5-9be2-488e-8381-8648ee8851fa"
      },
      "outputs": [
        {
          "name": "stdout",
          "output_type": "stream",
          "text": [
            "               ID   Source  Severity                     Start_Time  \\\n",
            "0       A-2047758  Source2         2            2019-06-12 10:10:56   \n",
            "1       A-4694324  Source1         2  2022-12-03 23:37:14.000000000   \n",
            "2       A-5006183  Source1         2  2022-08-20 13:13:00.000000000   \n",
            "3       A-4237356  Source1         2            2022-02-21 17:43:04   \n",
            "4       A-6690583  Source1         2            2020-12-04 01:46:00   \n",
            "...           ...      ...       ...                            ...   \n",
            "499995  A-6077227  Source1         2            2021-12-15 07:30:00   \n",
            "499996  A-6323243  Source1         2            2021-12-19 16:25:00   \n",
            "499997  A-3789256  Source1         2            2022-04-13 19:28:29   \n",
            "499998  A-7030381  Source1         3            2020-05-15 17:20:56   \n",
            "499999  A-5438901  Source1         2            2022-04-02 23:23:13   \n",
            "\n",
            "                             End_Time  Start_Lat   Start_Lng    End_Lat  \\\n",
            "0                 2019-06-12 10:55:58  30.641211  -91.153481        NaN   \n",
            "1       2022-12-04 01:56:53.000000000  38.990562  -77.399070  38.990037   \n",
            "2       2022-08-20 15:22:45.000000000  34.661189 -120.492822  34.661189   \n",
            "3                 2022-02-21 19:43:23  43.680592  -92.993317  43.680574   \n",
            "4                 2020-12-04 04:13:09  35.395484 -118.985176  35.395476   \n",
            "...                               ...        ...         ...        ...   \n",
            "499995            2021-12-15 07:50:30  45.522510 -123.084104  45.520225   \n",
            "499996            2021-12-19 17:40:37  26.702570  -80.111169  26.703141   \n",
            "499997            2022-04-13 21:33:44  34.561862 -112.259620  34.566822   \n",
            "499998            2020-05-15 17:50:56  38.406680  -78.619310  38.406680   \n",
            "499999            2022-04-03 00:49:48  35.069358  -85.234410  35.070505   \n",
            "\n",
            "           End_Lng  Distance(mi)  ... Roundabout Station   Stop  \\\n",
            "0              NaN         0.000  ...      False   False  False   \n",
            "1       -77.398282         0.056  ...      False   False  False   \n",
            "2      -120.492442         0.022  ...      False   False  False   \n",
            "3       -92.972223         1.054  ...      False   False  False   \n",
            "4      -118.985995         0.046  ...      False   False  False   \n",
            "...            ...           ...  ...        ...     ...    ...   \n",
            "499995 -123.084211         0.158  ...      False   False  False   \n",
            "499996  -80.111133         0.040  ...      False   False  False   \n",
            "499997 -112.267150         0.549  ...      False   False  False   \n",
            "499998  -78.619310         0.000  ...      False   False  False   \n",
            "499999  -85.233836         0.086  ...      False   False  False   \n",
            "\n",
            "       Traffic_Calming Traffic_Signal Turning_Loop Sunrise_Sunset  \\\n",
            "0                False           True        False            Day   \n",
            "1                False          False        False          Night   \n",
            "2                False           True        False            Day   \n",
            "3                False          False        False            Day   \n",
            "4                False          False        False          Night   \n",
            "...                ...            ...          ...            ...   \n",
            "499995           False          False        False          Night   \n",
            "499996           False          False        False            Day   \n",
            "499997           False           True        False          Night   \n",
            "499998           False           True        False            Day   \n",
            "499999           False          False        False          Night   \n",
            "\n",
            "       Civil_Twilight Nautical_Twilight Astronomical_Twilight  \n",
            "0                 Day               Day                   Day  \n",
            "1               Night             Night                 Night  \n",
            "2                 Day               Day                   Day  \n",
            "3                 Day               Day                   Day  \n",
            "4               Night             Night                 Night  \n",
            "...               ...               ...                   ...  \n",
            "499995            Day               Day                   Day  \n",
            "499996            Day               Day                   Day  \n",
            "499997          Night               Day                   Day  \n",
            "499998            Day               Day                   Day  \n",
            "499999          Night             Night                 Night  \n",
            "\n",
            "[500000 rows x 46 columns]\n"
          ]
        }
      ],
      "source": [
        "print(traffic_data)"
      ]
    },
    {
      "cell_type": "markdown",
      "metadata": {
        "id": "Xvh1f1QgSlp2"
      },
      "source": [
        "# Data Cleaning"
      ]
    },
    {
      "cell_type": "code",
      "execution_count": 489,
      "metadata": {
        "colab": {
          "base_uri": "https://localhost:8080/",
          "height": 487
        },
        "id": "X-kdqIRaaI21",
        "outputId": "93de91c0-cb7c-4294-dfe9-c702a01bbe4a"
      },
      "outputs": [
        {
          "data": {
            "image/png": "[encoded data removed]",
            "text/plain": [
              "<Figure size 800x500 with 1 Axes>"
            ]
          },
          "metadata": {},
          "output_type": "display_data"
        }
      ],
      "source": [
        "# Bar chart of country\n",
        "country_counts = traffic_data['Country'].value_counts()\n",
        "\n",
        "plt.figure(figsize=(8, 5))\n",
        "ax = sns.barplot(x=country_counts.index, y=country_counts.values, hue=country_counts.index, palette='dark:skyblue')\n",
        "\n",
        "plt.xlabel(\"Country\")\n",
        "plt.ylabel(\"Number of Accidents\")\n",
        "plt.title(\"Count of Accidents by Country\")\n",
        "plt.show()"
      ]
    },
    {
      "cell_type": "markdown",
      "metadata": {
        "id": "mq2l_UlkbVg9"
      },
      "source": [
        "## Drop useless columns"
      ]
    },
    {
      "cell_type": "code",
      "execution_count": 490,
      "metadata": {
        "colab": {
          "base_uri": "https://localhost:8080/"
        },
        "id": "PHLyxHlVbVKo",
        "outputId": "5e47275e-08ce-4201-c727-30cf60871b3c"
      },
      "outputs": [
        {
          "name": "stdout",
          "output_type": "stream",
          "text": [
            "(500000, 30)\n"
          ]
        }
      ],
      "source": [
        "traffic_data = traffic_data.drop(['Source', 'Start_Lat', 'Start_Lng', 'End_Lat', 'End_Lng', 'Street', 'County', 'Country', 'Timezone', 'Airport_Code', 'Wind_Chill(F)', 'Sunrise_Sunset', 'Civil_Twilight', 'Nautical_Twilight', 'Astronomical_Twilight','Description'], axis=1)\n",
        "print(traffic_data.shape)"
      ]
    },
    {
      "cell_type": "markdown",
      "metadata": {
        "id": "Z7cxg4WjYZZM"
      },
      "source": [
        "## Removing Missing Values"
      ]
    },
    {
      "cell_type": "code",
      "execution_count": 491,
      "metadata": {
        "colab": {
          "base_uri": "https://localhost:8080/"
        },
        "id": "vat_NRtLR3XY",
        "outputId": "fdba803b-14d4-4be2-9884-4c59e57fdd31"
      },
      "outputs": [
        {
          "name": "stdout",
          "output_type": "stream",
          "text": [
            "Index(['ID', 'Severity', 'Start_Time', 'End_Time', 'Distance(mi)', 'City',\n",
            "       'State', 'Zipcode', 'Weather_Timestamp', 'Temperature(F)',\n",
            "       'Humidity(%)', 'Pressure(in)', 'Visibility(mi)', 'Wind_Direction',\n",
            "       'Wind_Speed(mph)', 'Precipitation(in)', 'Weather_Condition', 'Amenity',\n",
            "       'Bump', 'Crossing', 'Give_Way', 'Junction', 'No_Exit', 'Railway',\n",
            "       'Roundabout', 'Station', 'Stop', 'Traffic_Calming', 'Traffic_Signal',\n",
            "       'Turning_Loop'],\n",
            "      dtype='object')\n"
          ]
        }
      ],
      "source": [
        "print(traffic_data.columns)"
      ]
    },
    {
      "cell_type": "code",
      "execution_count": 492,
      "metadata": {
        "colab": {
          "base_uri": "https://localhost:8080/"
        },
        "id": "ZVcEULHCYZGh",
        "outputId": "102370a6-392e-468d-bd01-adef8b5a6f40"
      },
      "outputs": [
        {
          "name": "stdout",
          "output_type": "stream",
          "text": [
            "City                     19\n",
            "Zipcode                 116\n",
            "Weather_Timestamp      7674\n",
            "Temperature(F)        10466\n",
            "Humidity(%)           11130\n",
            "Pressure(in)           8928\n",
            "Visibility(mi)        11291\n",
            "Wind_Direction        11197\n",
            "Wind_Speed(mph)       36987\n",
            "Precipitation(in)    142616\n",
            "Weather_Condition     11101\n",
            "dtype: int64 \n",
            "\n",
            "Precipitation(in)    28.5232\n",
            "Wind_Speed(mph)       7.3974\n",
            "Visibility(mi)        2.2582\n",
            "Wind_Direction        2.2394\n",
            "Humidity(%)           2.2260\n",
            "Weather_Condition     2.2202\n",
            "Temperature(F)        2.0932\n",
            "Pressure(in)          1.7856\n",
            "Weather_Timestamp     1.5348\n",
            "Zipcode               0.0232\n",
            "City                  0.0038\n",
            "ID                    0.0000\n",
            "Distance(mi)          0.0000\n",
            "Severity              0.0000\n",
            "State                 0.0000\n",
            "Start_Time            0.0000\n",
            "End_Time              0.0000\n",
            "Amenity               0.0000\n",
            "Bump                  0.0000\n",
            "Crossing              0.0000\n",
            "Give_Way              0.0000\n",
            "Junction              0.0000\n",
            "No_Exit               0.0000\n",
            "Railway               0.0000\n",
            "Roundabout            0.0000\n",
            "Station               0.0000\n",
            "Stop                  0.0000\n",
            "Traffic_Calming       0.0000\n",
            "Traffic_Signal        0.0000\n",
            "Turning_Loop          0.0000\n",
            "dtype: float64\n"
          ]
        }
      ],
      "source": [
        "missing_values = traffic_data.isnull().sum()\n",
        "print(missing_values[missing_values > 0], '\\n')\n",
        "\n",
        "missing_percentage = (traffic_data.isna().sum() / len(traffic_data)) * 100\n",
        "print(missing_percentage.sort_values(ascending=False))"
      ]
    },
    {
      "cell_type": "code",
      "execution_count": 493,
      "metadata": {
        "colab": {
          "base_uri": "https://localhost:8080/"
        },
        "id": "btrRAvd0ZBGv",
        "outputId": "32d6609d-a121-48d2-f451-73ff17d21a20"
      },
      "outputs": [
        {
          "name": "stdout",
          "output_type": "stream",
          "text": [
            "(348687, 30)\n"
          ]
        }
      ],
      "source": [
        "traffic_data_cleaned = traffic_data.dropna()\n",
        "print(traffic_data_cleaned.shape)"
      ]
    },
    {
      "cell_type": "markdown",
      "metadata": {
        "id": "2J30FJE-Wub7"
      },
      "source": [
        "## Data Sampling"
      ]
    },
    {
      "cell_type": "code",
      "execution_count": 494,
      "metadata": {
        "colab": {
          "base_uri": "https://localhost:8080/",
          "height": 0
        },
        "id": "zkZjLtC_VD6P",
        "outputId": "99164ec3-8ef9-41d2-ce27-80fa9e958752"
      },
      "outputs": [
        {
          "data": {
            "image/png": "[encoded data removed]",
            "text/plain": [
              "<Figure size 800x500 with 1 Axes>"
            ]
          },
          "metadata": {},
          "output_type": "display_data"
        }
      ],
      "source": [
        "# Bar chart of severity\n",
        "severity_counts = traffic_data_cleaned['Severity'].value_counts()\n",
        "\n",
        "plt.figure(figsize=(8, 5))\n",
        "ax = sns.barplot(x=severity_counts.index, y=severity_counts.values, hue=severity_counts.index, palette='dark:skyblue')\n",
        "\n",
        "plt.xlabel(\"Severity\")\n",
        "plt.ylabel(\"Number of Accidents\")\n",
        "plt.title(\"Count of Accidents by Severity\")\n",
        "plt.show()"
      ]
    },
    {
      "cell_type": "code",
      "execution_count": 495,
      "metadata": {
        "colab": {
          "base_uri": "https://localhost:8080/"
        },
        "id": "BfRHjB-MJahT",
        "outputId": "a40e1be5-3364-48b8-f345-320d170112ea"
      },
      "outputs": [
        {
          "name": "stdout",
          "output_type": "stream",
          "text": [
            "[294796  41575   8388   3928]\n",
            "Index([2, 3, 4, 1], dtype='int64', name='Severity')\n"
          ]
        }
      ],
      "source": [
        "print(severity_counts.values)\n",
        "print(severity_counts.index)"
      ]
    },
    {
      "cell_type": "markdown",
      "metadata": {
        "id": "phx6nJc4KX5E"
      },
      "source": [
        "### Random Sampling for Valid-Test set\n",
        "Sample valid and test set first to keep original class distribution"
      ]
    },
    {
      "cell_type": "code",
      "execution_count": 496,
      "metadata": {
        "colab": {
          "base_uri": "https://localhost:8080/"
        },
        "id": "Tgxt-Cl2W3oU",
        "outputId": "777699e9-2b2c-460c-9e4c-6471d81e2789"
      },
      "outputs": [
        {
          "name": "stdout",
          "output_type": "stream",
          "text": [
            "(2000, 30)\n"
          ]
        }
      ],
      "source": [
        "valid_test_df = traffic_data_cleaned.sample(n=2000, random_state=42)\n",
        "\n",
        "## dropped rows of data that are being used for valid-test set\n",
        "remaining_df = traffic_data_cleaned.drop(valid_test_df.index)\n",
        "\n",
        "print(valid_test_df.shape)\n",
        "\n",
        "# valid_df, test_df = train_test_split(valid_test_df, test_size=0.5, random_state=42)"
      ]
    },
    {
      "cell_type": "code",
      "execution_count": 497,
      "metadata": {
        "colab": {
          "base_uri": "https://localhost:8080/"
        },
        "id": "tyrq18KKYOyU",
        "outputId": "93769040-e32d-465d-9661-86a082d1906a"
      },
      "outputs": [
        {
          "name": "stdout",
          "output_type": "stream",
          "text": [
            "346687\n"
          ]
        }
      ],
      "source": [
        "print(len(remaining_df))"
      ]
    },
    {
      "cell_type": "markdown",
      "metadata": {
        "id": "LegXpXvma516"
      },
      "source": [
        "### Stratefied Sampling for Training set to ensure balanced training data\n",
        "Use the remaining dataset from previous step, avoid overlapping data in train-test sets"
      ]
    },
    {
      "cell_type": "code",
      "execution_count": 498,
      "metadata": {
        "colab": {
          "base_uri": "https://localhost:8080/"
        },
        "id": "nnv2GXvdJ2D8",
        "outputId": "1f63fae8-4fbc-4c41-bc15-4a006bbda0ed"
      },
      "outputs": [
        {
          "name": "stdout",
          "output_type": "stream",
          "text": [
            "(8000, 30)\n"
          ]
        },
        {
          "name": "stderr",
          "output_type": "stream",
          "text": [
            "<ipython-input-498-17042f7aea20>:1: DeprecationWarning: DataFrameGroupBy.apply operated on the grouping columns. This behavior is deprecated, and in a future version of pandas the grouping columns will be excluded from the operation. Either pass `include_groups=False` to exclude the groupings or explicitly select the grouping columns after groupby to silence this warning.\n",
            "  train_df = remaining_df.groupby('Severity', group_keys=False).apply(lambda x: x.sample(2000, random_state=42))\n"
          ]
        }
      ],
      "source": [
        "train_df = remaining_df.groupby('Severity', group_keys=False).apply(lambda x: x.sample(2000, random_state=42))\n",
        "\n",
        "print(train_df.shape)\n",
        "# remaining_df = traffic_data_cleaned.drop(train_df.index)"
      ]
    },
    {
      "cell_type": "markdown",
      "metadata": {
        "id": "Juu_8uR0P_F3"
      },
      "source": [
        "### Random Sampling for 20k Test Set\n",
        "Use the remaining dataset from previous step, avoid overlapping data in train-test sets"
      ]
    },
    {
      "cell_type": "code",
      "execution_count": 499,
      "metadata": {
        "colab": {
          "base_uri": "https://localhost:8080/"
        },
        "id": "iKoZoh1yP-vl",
        "outputId": "beaf54ba-6631-426a-e4fa-47ee91d2fe8e"
      },
      "outputs": [
        {
          "name": "stdout",
          "output_type": "stream",
          "text": [
            "(338687, 30)\n"
          ]
        }
      ],
      "source": [
        "remaining_df = remaining_df.drop(train_df.index)\n",
        "print(remaining_df.shape)"
      ]
    },
    {
      "cell_type": "code",
      "execution_count": 500,
      "metadata": {
        "colab": {
          "base_uri": "https://localhost:8080/"
        },
        "id": "XXQa_HD8QSj6",
        "outputId": "c2143189-083c-4ea3-c0da-2978fab12bfd"
      },
      "outputs": [
        {
          "name": "stdout",
          "output_type": "stream",
          "text": [
            "(20000, 30)\n"
          ]
        }
      ],
      "source": [
        "test_20k_df = remaining_df.sample(n=20000, random_state=42)\n",
        "print(test_20k_df.shape)"
      ]
    },
    {
      "cell_type": "markdown",
      "metadata": {
        "id": "_q4T-038bEeo"
      },
      "source": [
        "### Visualize Class Distribution"
      ]
    },
    {
      "cell_type": "code",
      "execution_count": 501,
      "metadata": {
        "colab": {
          "base_uri": "https://localhost:8080/",
          "height": 0
        },
        "id": "U9n-hmulM88J",
        "outputId": "c9beb323-5856-404b-ab0f-db66c7bca742"
      },
      "outputs": [
        {
          "data": {
            "image/png": "[encoded data removed]",
            "text/plain": [
              "<Figure size 800x500 with 1 Axes>"
            ]
          },
          "metadata": {},
          "output_type": "display_data"
        }
      ],
      "source": [
        "# Bar chart of severity\n",
        "severity_counts = train_df['Severity'].value_counts()\n",
        "\n",
        "plt.figure(figsize=(8, 5))\n",
        "ax = sns.barplot(x=severity_counts.index, y=severity_counts.values, hue=severity_counts.index, palette='dark:skyblue')\n",
        "\n",
        "plt.xlabel(\"Severity\")\n",
        "plt.ylabel(\"Number of Accidents\")\n",
        "plt.title(\"Severity Distribution for Train Set\")\n",
        "plt.show()"
      ]
    },
    {
      "cell_type": "code",
      "execution_count": 502,
      "metadata": {
        "colab": {
          "base_uri": "https://localhost:8080/",
          "height": 0
        },
        "id": "-ZCr693JN-mZ",
        "outputId": "b2e459e8-dfc0-4a1d-8296-2d20d5e390c2"
      },
      "outputs": [
        {
          "data": {
            "image/png": "[encoded data removed]",
            "text/plain": [
              "<Figure size 800x500 with 1 Axes>"
            ]
          },
          "metadata": {},
          "output_type": "display_data"
        }
      ],
      "source": [
        "severity_counts = valid_test_df['Severity'].value_counts()\n",
        "\n",
        "plt.figure(figsize=(8, 5))\n",
        "ax = sns.barplot(x=severity_counts.index, y=severity_counts.values, hue=severity_counts.index, palette='dark:skyblue')\n",
        "\n",
        "plt.xlabel(\"Severity\")\n",
        "plt.ylabel(\"Number of Accidents\")\n",
        "plt.title(\"Severity Distribution for Validation-Test Set\")\n",
        "plt.show()"
      ]
    },
    {
      "cell_type": "code",
      "execution_count": 503,
      "metadata": {
        "colab": {
          "base_uri": "https://localhost:8080/",
          "height": 0
        },
        "id": "b9iA7KWAQnTn",
        "outputId": "2d42876a-a6fb-4e53-ad82-f31d94d8ecc7"
      },
      "outputs": [
        {
          "data": {
            "image/png": "[encoded data removed]",
            "text/plain": [
              "<Figure size 800x500 with 1 Axes>"
            ]
          },
          "metadata": {},
          "output_type": "display_data"
        }
      ],
      "source": [
        "severity_counts = test_20k_df['Severity'].value_counts()\n",
        "\n",
        "plt.figure(figsize=(8, 5))\n",
        "ax = sns.barplot(x=severity_counts.index, y=severity_counts.values, hue=severity_counts.index, palette='dark:skyblue')\n",
        "\n",
        "plt.xlabel(\"Severity\")\n",
        "plt.ylabel(\"Number of Accidents\")\n",
        "plt.title(\"Severity Distribution for 20K Test Set\")\n",
        "plt.show()"
      ]
    },
    {
      "cell_type": "markdown",
      "metadata": {
        "id": "rFY3W-tvdFcT"
      },
      "source": [
        "# Data Preparation"
      ]
    },
    {
      "cell_type": "code",
      "execution_count": 504,
      "metadata": {
        "colab": {
          "base_uri": "https://localhost:8080/"
        },
        "id": "KS1Radq7bMZw",
        "outputId": "c4149f2f-62e9-4b07-a214-3cf3b0e4fe9c"
      },
      "outputs": [
        {
          "name": "stdout",
          "output_type": "stream",
          "text": [
            "(10000, 30)\n"
          ]
        }
      ],
      "source": [
        "## Combine the dataset first since we would need to go through some standardized data preprocessing\n",
        "sampled_data = pd.concat([train_df, valid_test_df], axis=0)\n",
        "print(sampled_data.shape)"
      ]
    },
    {
      "cell_type": "code",
      "execution_count": 505,
      "metadata": {
        "colab": {
          "base_uri": "https://localhost:8080/"
        },
        "id": "zSfLnCKsd02b",
        "outputId": "d3109308-df05-4f63-9751-cee3c5668c83"
      },
      "outputs": [
        {
          "name": "stdout",
          "output_type": "stream",
          "text": [
            "object\n",
            "datetime64[ns]\n",
            "datetime64[ns]\n"
          ]
        }
      ],
      "source": [
        "# Check data type of Start_Time\n",
        "print(sampled_data['Start_Time'].dtype)\n",
        "\n",
        "#Convert Start_Time to datetime\n",
        "sampled_data['Start_Time'] = sampled_data['Start_Time'].str.split('.').str[0]  # Remove nanoseconds\n",
        "sampled_data['Start_Time'] = pd.to_datetime(sampled_data['Start_Time'], format='%Y-%m-%d %H:%M:%S')\n",
        "\n",
        "# Check data type of Start_Time\n",
        "print(sampled_data['Start_Time'].dtype)\n",
        "\n",
        "# Do the same on the 20k Test Set\n",
        "test_20k_df['Start_Time'] = test_20k_df['Start_Time'].str.split('.').str[0]  # Remove nanoseconds\n",
        "test_20k_df['Start_Time'] = pd.to_datetime(test_20k_df['Start_Time'], format='%Y-%m-%d %H:%M:%S')\n",
        "print(test_20k_df['Start_Time'].dtype)"
      ]
    },
    {
      "cell_type": "code",
      "execution_count": 506,
      "metadata": {
        "colab": {
          "base_uri": "https://localhost:8080/"
        },
        "id": "wa2PY236TOAJ",
        "outputId": "60936d10-0ee9-48e0-b75e-0914a38c1a22"
      },
      "outputs": [
        {
          "name": "stdout",
          "output_type": "stream",
          "text": [
            "object\n",
            "datetime64[ns]\n",
            "datetime64[ns]\n"
          ]
        }
      ],
      "source": [
        "# Check data type of End_Time\n",
        "print(sampled_data['End_Time'].dtype)\n",
        "\n",
        "#Convert End_Time to datetime\n",
        "sampled_data['End_Time'] = sampled_data['End_Time'].str.split('.').str[0]  # Remove nanoseconds\n",
        "sampled_data['End_Time'] = pd.to_datetime(sampled_data['End_Time'], format='%Y-%m-%d %H:%M:%S')\n",
        "\n",
        "# Check data type of End_Time\n",
        "print(sampled_data['End_Time'].dtype)\n",
        "\n",
        "# Do the same on the 20k Test Set\n",
        "test_20k_df['End_Time'] = test_20k_df['End_Time'].str.split('.').str[0]  # Remove nanoseconds\n",
        "test_20k_df['End_Time'] = pd.to_datetime(test_20k_df['End_Time'], format='%Y-%m-%d %H:%M:%S')\n",
        "print(test_20k_df['End_Time'].dtype)"
      ]
    },
    {
      "cell_type": "markdown",
      "metadata": {
        "id": "HyQo38x_JyYb"
      },
      "source": [
        "## Compute Duration Column using Start_Time and End_Time"
      ]
    },
    {
      "cell_type": "code",
      "execution_count": 507,
      "metadata": {
        "colab": {
          "base_uri": "https://localhost:8080/"
        },
        "id": "__TFiiH5d1f-",
        "outputId": "e6af4ba2-3c88-4784-82bc-f366b79cc28e"
      },
      "outputs": [
        {
          "name": "stdout",
          "output_type": "stream",
          "text": [
            "239235   0 days 00:30:00\n",
            "355666   0 days 00:15:00\n",
            "246955   0 days 00:29:40\n",
            "264362   0 days 00:29:36\n",
            "195152   0 days 01:16:59\n",
            "               ...      \n",
            "395634   0 days 02:11:15\n",
            "492951   0 days 05:10:04\n",
            "15664    0 days 01:39:00\n",
            "393801   0 days 00:36:00\n",
            "423606   0 days 01:51:30\n",
            "Name: Duration, Length: 10000, dtype: timedelta64[ns]\n"
          ]
        }
      ],
      "source": [
        "sampled_data['Duration'] = sampled_data['End_Time'] - sampled_data['Start_Time']\n",
        "\n",
        "print(sampled_data['Duration'])"
      ]
    },
    {
      "cell_type": "code",
      "execution_count": 508,
      "metadata": {
        "colab": {
          "base_uri": "https://localhost:8080/"
        },
        "id": "oeuVwOxKRvLS",
        "outputId": "8a53ffad-34e6-4f96-bdda-bc0cb7ca0066"
      },
      "outputs": [
        {
          "name": "stdout",
          "output_type": "stream",
          "text": [
            "236564   0 days 00:29:42\n",
            "173706   0 days 01:19:05\n",
            "248802   0 days 00:27:30\n",
            "437866   0 days 01:14:31\n",
            "87250    0 days 02:07:05\n",
            "               ...      \n",
            "496433   0 days 02:02:35\n",
            "129370   0 days 06:00:00\n",
            "304149   0 days 00:29:18\n",
            "280611   0 days 01:22:52\n",
            "4458     0 days 00:28:12\n",
            "Name: Duration, Length: 20000, dtype: timedelta64[ns]\n"
          ]
        }
      ],
      "source": [
        "#Do the same for 20k Test Set\n",
        "test_20k_df['Duration'] = test_20k_df['End_Time'] - test_20k_df['Start_Time']\n",
        "print(test_20k_df['Duration'])"
      ]
    },
    {
      "cell_type": "code",
      "execution_count": 509,
      "metadata": {
        "colab": {
          "base_uri": "https://localhost:8080/"
        },
        "id": "ER0mIAwnJyYb",
        "outputId": "eb1a3893-0795-4339-d026-70845b30562a"
      },
      "outputs": [
        {
          "name": "stdout",
          "output_type": "stream",
          "text": [
            "239235     30.000000\n",
            "355666     15.000000\n",
            "246955     29.666667\n",
            "264362     29.600000\n",
            "195152     76.983333\n",
            "             ...    \n",
            "395634    131.250000\n",
            "492951    310.066667\n",
            "15664      99.000000\n",
            "393801     36.000000\n",
            "423606    111.500000\n",
            "Name: Duration, Length: 10000, dtype: float64\n"
          ]
        }
      ],
      "source": [
        "# duration in minutes\n",
        "sampled_data['Duration'] = sampled_data['Duration'].dt.total_seconds() / 60\n",
        "\n",
        "print(sampled_data['Duration'])"
      ]
    },
    {
      "cell_type": "code",
      "execution_count": 510,
      "metadata": {
        "colab": {
          "base_uri": "https://localhost:8080/"
        },
        "id": "ABVwqZ8wR7LG",
        "outputId": "3098cc83-9756-4fe3-e74e-ff8a8a5ba5ad"
      },
      "outputs": [
        {
          "name": "stdout",
          "output_type": "stream",
          "text": [
            "236564     29.700000\n",
            "173706     79.083333\n",
            "248802     27.500000\n",
            "437866     74.516667\n",
            "87250     127.083333\n",
            "             ...    \n",
            "496433    122.583333\n",
            "129370    360.000000\n",
            "304149     29.300000\n",
            "280611     82.866667\n",
            "4458       28.200000\n",
            "Name: Duration, Length: 20000, dtype: float64\n"
          ]
        }
      ],
      "source": [
        "#Do the same for 20k Test Set\n",
        "test_20k_df['Duration'] = test_20k_df['Duration'].dt.total_seconds() / 60\n",
        "print(test_20k_df['Duration'])"
      ]
    },
    {
      "cell_type": "markdown",
      "metadata": {
        "id": "ZjIIpxsIdMCE"
      },
      "source": [
        "## Data Encoding for Start_Time Column (convert to minutes after midnight)"
      ]
    },
    {
      "cell_type": "code",
      "execution_count": 511,
      "metadata": {
        "colab": {
          "base_uri": "https://localhost:8080/"
        },
        "id": "mTy1_gBVSSUN",
        "outputId": "7c07c2c8-76a8-4f3d-c5f1-e1e0b6908962"
      },
      "outputs": [
        {
          "name": "stdout",
          "output_type": "stream",
          "text": [
            "239235      33\n",
            "355666     484\n",
            "246955     809\n",
            "264362     458\n",
            "195152     349\n",
            "          ... \n",
            "395634     861\n",
            "492951     354\n",
            "15664     1251\n",
            "393801     832\n",
            "423606     413\n",
            "Name: Start_Time, Length: 10000, dtype: int32\n"
          ]
        }
      ],
      "source": [
        "#Convert to Minutes After Midnight\n",
        "sampled_data['Start_Time'] = (\n",
        "    sampled_data['Start_Time'].dt.hour * 60 + sampled_data['Start_Time'].dt.minute\n",
        ")\n",
        "\n",
        "print(sampled_data['Start_Time'])"
      ]
    },
    {
      "cell_type": "code",
      "execution_count": 512,
      "metadata": {
        "colab": {
          "base_uri": "https://localhost:8080/"
        },
        "id": "IsTy-x2VSQ6A",
        "outputId": "f65c093b-9f8a-4992-ce7e-325fea34a4eb"
      },
      "outputs": [
        {
          "name": "stdout",
          "output_type": "stream",
          "text": [
            "236564    1087\n",
            "173706      84\n",
            "248802    1409\n",
            "437866     716\n",
            "87250     1359\n",
            "          ... \n",
            "496433    1061\n",
            "129370     528\n",
            "304149    1056\n",
            "280611     417\n",
            "4458       719\n",
            "Name: Start_Time, Length: 20000, dtype: int32\n"
          ]
        }
      ],
      "source": [
        "# Do the same for 20k Test Set\n",
        "test_20k_df['Start_Time'] = (\n",
        "    test_20k_df['Start_Time'].dt.hour * 60 + test_20k_df['Start_Time'].dt.minute\n",
        ")\n",
        "print(test_20k_df['Start_Time'])"
      ]
    },
    {
      "cell_type": "markdown",
      "metadata": {
        "id": "23D97Ml7TI6o"
      },
      "source": [
        "## Data Encoding for End_Time Column (convert to minutes after midnight)"
      ]
    },
    {
      "cell_type": "code",
      "execution_count": 513,
      "metadata": {
        "colab": {
          "base_uri": "https://localhost:8080/"
        },
        "id": "7BtpYBi6TYOC",
        "outputId": "48155248-7f47-48ae-dc98-dc11b8261440"
      },
      "outputs": [
        {
          "name": "stdout",
          "output_type": "stream",
          "text": [
            "239235      63\n",
            "355666     499\n",
            "246955     839\n",
            "264362     488\n",
            "195152     426\n",
            "          ... \n",
            "395634     992\n",
            "492951     664\n",
            "15664     1350\n",
            "393801     868\n",
            "423606     525\n",
            "Name: End_Time, Length: 10000, dtype: int32\n"
          ]
        }
      ],
      "source": [
        "#Convert to Minutes After Midnight\n",
        "sampled_data['End_Time'] = (\n",
        "    sampled_data['End_Time'].dt.hour * 60 + sampled_data['End_Time'].dt.minute\n",
        ")\n",
        "\n",
        "print(sampled_data['End_Time'])"
      ]
    },
    {
      "cell_type": "code",
      "execution_count": 514,
      "metadata": {
        "colab": {
          "base_uri": "https://localhost:8080/"
        },
        "id": "uMWCz8IlSbeZ",
        "outputId": "8f5cf154-c7c6-484e-de6b-b0bbae8be2d3"
      },
      "outputs": [
        {
          "name": "stdout",
          "output_type": "stream",
          "text": [
            "236564    1117\n",
            "173706     163\n",
            "248802    1436\n",
            "437866     791\n",
            "87250       46\n",
            "          ... \n",
            "496433    1183\n",
            "129370     888\n",
            "304149    1085\n",
            "280611     500\n",
            "4458       747\n",
            "Name: End_Time, Length: 20000, dtype: int32\n"
          ]
        }
      ],
      "source": [
        "# Do the same for 20k Test Set\n",
        "test_20k_df['End_Time'] = (\n",
        "    test_20k_df['End_Time'].dt.hour * 60 + test_20k_df['End_Time'].dt.minute\n",
        ")\n",
        "print(test_20k_df['End_Time'])"
      ]
    },
    {
      "cell_type": "markdown",
      "metadata": {
        "id": "LrZ1mdkidy2E"
      },
      "source": [
        "## Encode Zipcode into Region using First Digit"
      ]
    },
    {
      "cell_type": "code",
      "execution_count": 515,
      "metadata": {
        "colab": {
          "base_uri": "https://localhost:8080/",
          "height": 0
        },
        "id": "gXCq79EMfjuP",
        "outputId": "4d4e2367-5531-4e4d-e820-264b0905692c"
      },
      "outputs": [
        {
          "data": {
            "image/png": "[encoded data removed]",
            "text/plain": [
              "<Figure size 800x500 with 1 Axes>"
            ]
          },
          "metadata": {},
          "output_type": "display_data"
        }
      ],
      "source": [
        "# Bar chart of zipcode\n",
        "# Extract the first digit of the zip code (assuming the zip code is a string or integer)\n",
        "sampled_data['Region'] = sampled_data['Zipcode'].str[0]\n",
        "\n",
        "zipcode_counts = sampled_data['Region'].value_counts().sort_index()\n",
        "\n",
        "plt.figure(figsize=(8, 5))\n",
        "ax = sns.barplot(x=zipcode_counts.index, y=zipcode_counts.values)\n",
        "\n",
        "plt.xlabel(\"Zipcode First Digit\")\n",
        "plt.ylabel(\"Number of Accidents\")\n",
        "plt.title(\"Count of Accidents by Zipcode First Digit\")\n",
        "plt.show()"
      ]
    },
    {
      "cell_type": "code",
      "execution_count": 516,
      "metadata": {
        "id": "DKdKwCunJyYc"
      },
      "outputs": [],
      "source": [
        "sampled_data['Region'] = sampled_data['Region'].astype(int)"
      ]
    },
    {
      "cell_type": "code",
      "execution_count": 517,
      "metadata": {
        "colab": {
          "base_uri": "https://localhost:8080/"
        },
        "id": "ihBSKuYlJyYc",
        "outputId": "974132dd-7a19-4892-f6bd-3dc1e3bbbb53"
      },
      "outputs": [
        {
          "name": "stdout",
          "output_type": "stream",
          "text": [
            "(10000, 32)\n",
            "(10000, 31)\n"
          ]
        }
      ],
      "source": [
        "print(sampled_data.shape)\n",
        "sampled_data.drop(columns=['Zipcode'], inplace=True)\n",
        "print(sampled_data.shape)\n"
      ]
    },
    {
      "cell_type": "code",
      "execution_count": 518,
      "metadata": {
        "id": "RADTqSmgSlNA"
      },
      "outputs": [],
      "source": [
        "test_20k_df['Region'] = test_20k_df['Zipcode'].str[0]\n",
        "test_20k_df['Region'] = test_20k_df['Region'].astype(int)"
      ]
    },
    {
      "cell_type": "code",
      "execution_count": 519,
      "metadata": {
        "colab": {
          "base_uri": "https://localhost:8080/"
        },
        "id": "bLLyYZn6Sudy",
        "outputId": "b7e8cfa6-6471-4c8e-bba2-89042ab65d93"
      },
      "outputs": [
        {
          "name": "stdout",
          "output_type": "stream",
          "text": [
            "(20000, 32)\n",
            "(20000, 31)\n"
          ]
        }
      ],
      "source": [
        "print(test_20k_df.shape)\n",
        "test_20k_df.drop(columns=['Zipcode'], inplace=True)\n",
        "print(test_20k_df.shape)"
      ]
    },
    {
      "cell_type": "code",
      "execution_count": 520,
      "metadata": {
        "colab": {
          "base_uri": "https://localhost:8080/",
          "height": 0
        },
        "id": "mXoB-cjCcGGn",
        "outputId": "fb4c2c6c-0317-4e75-bda6-e5c4b4772e54"
      },
      "outputs": [
        {
          "data": {
            "image/png": "[encoded data removed]",
            "text/plain": [
              "<Figure size 800x500 with 1 Axes>"
            ]
          },
          "metadata": {},
          "output_type": "display_data"
        }
      ],
      "source": [
        "## Compare the distribution with original dataset\n",
        "traffic_data['Region'] = traffic_data['Zipcode'].str[0]\n",
        "\n",
        "zipcode_counts = traffic_data['Region'].value_counts().sort_index()\n",
        "\n",
        "plt.figure(figsize=(8, 5))\n",
        "ax = sns.barplot(x=zipcode_counts.index, y=zipcode_counts.values)\n",
        "\n",
        "plt.xlabel(\"Zipcode First Digit\")\n",
        "plt.ylabel(\"Number of Accidents\")\n",
        "plt.title(\"Count of Accidents by Zipcode First Digit\")\n",
        "plt.show()"
      ]
    },
    {
      "cell_type": "markdown",
      "metadata": {
        "id": "tZx1L5rykoDy"
      },
      "source": [
        "## Encode 'State' into Top 3 States and Others"
      ]
    },
    {
      "cell_type": "code",
      "execution_count": 521,
      "metadata": {
        "colab": {
          "base_uri": "https://localhost:8080/",
          "height": 0
        },
        "id": "orwC_9C_fGrd",
        "outputId": "b9379a8d-e0fb-450a-ac11-261cbe9b83c8"
      },
      "outputs": [
        {
          "data": {
            "image/png": "[encoded data removed]",
            "text/plain": [
              "<Figure size 800x500 with 1 Axes>"
            ]
          },
          "metadata": {},
          "output_type": "display_data"
        }
      ],
      "source": [
        "# Bar chart of state\n",
        "## Use the original traffic data since the sampled data distribution might be distorted due to stratefied sampling\n",
        "state_counts = traffic_data['State'].value_counts()\n",
        "\n",
        "plt.figure(figsize=(8, 5))\n",
        "ax = sns.barplot(x=state_counts.index, y=state_counts.values, hue=state_counts.index, palette='dark:skyblue')\n",
        "\n",
        "plt.xlabel(\"State\")\n",
        "plt.ylabel(\"Number of Accidents\")\n",
        "plt.title(\"Count of Accidents by State\")\n",
        "plt.show()"
      ]
    },
    {
      "cell_type": "code",
      "execution_count": 522,
      "metadata": {
        "colab": {
          "base_uri": "https://localhost:8080/"
        },
        "id": "CF_qu6ZTUCJv",
        "outputId": "ac806953-5ffd-46eb-c009-a28f6ea73196"
      },
      "outputs": [
        {
          "name": "stdout",
          "output_type": "stream",
          "text": [
            "['CA' 'WA' 'NM' 'FL' 'PA' 'SC' 'NC' 'VA' 'MI' 'AZ' 'OH' 'OK' 'CO' 'AL'\n",
            " 'NY' 'WI' 'TN' 'IN' 'LA' 'CT' 'GA' 'TX' 'RI' 'OR' 'MA' 'DC' 'MN' 'NJ'\n",
            " 'MD' 'KY' 'IL' 'UT' 'MO' 'DE' 'KS' 'NV' 'NE' 'MS' 'ID' 'IA' 'AR' 'MT'\n",
            " 'NH' 'WV' 'ME' 'VT' 'WY' 'ND' 'SD']\n"
          ]
        }
      ],
      "source": [
        "print(sampled_data['State'].unique())"
      ]
    },
    {
      "cell_type": "code",
      "execution_count": 523,
      "metadata": {
        "colab": {
          "base_uri": "https://localhost:8080/"
        },
        "id": "LL4jMRHBUJMW",
        "outputId": "4102e8fe-d263-493f-e049-ea9d276d6b2a"
      },
      "outputs": [
        {
          "name": "stdout",
          "output_type": "stream",
          "text": [
            "['AZ' 'NY' 'FL' 'IL' 'CA' 'OR' 'NC' 'TX' 'LA' 'MT' 'SC' 'OK' 'UT' 'MN'\n",
            " 'TN' 'IN' 'PA' 'NJ' 'GA' 'VA' 'WA' 'MD' 'CT' 'MI' 'CO' 'AL' 'OH' 'ID'\n",
            " 'DC' 'MA' 'AR' 'RI' 'IA' 'MS' 'MO' 'DE' 'WY' 'KS' 'ND' 'NH' 'WV' 'WI'\n",
            " 'KY' 'NV' 'NM' 'ME' 'NE' 'SD']\n"
          ]
        }
      ],
      "source": [
        "print(test_20k_df['State'].unique())"
      ]
    },
    {
      "cell_type": "code",
      "execution_count": 524,
      "metadata": {
        "colab": {
          "base_uri": "https://localhost:8080/",
          "height": 0
        },
        "id": "Dq9ERApJkzxq",
        "outputId": "ab4e2d28-cf0e-4d36-f7d1-ad756d7af297"
      },
      "outputs": [
        {
          "data": {
            "image/png": "[encoded data removed]",
            "text/plain": [
              "<Figure size 800x500 with 1 Axes>"
            ]
          },
          "metadata": {},
          "output_type": "display_data"
        }
      ],
      "source": [
        "# Get the top 3 states\n",
        "top_3 = state_counts.nlargest(3)\n",
        "\n",
        "# Create a mapping where top 3 states are kept, and others are labeled as 'Others'\n",
        "state_mapping = state_counts.index.to_series().apply(lambda x: x if x in top_3.index else 'Others')\n",
        "\n",
        "# Apply the mapping to the 'State' column\n",
        "sampled_data['State'] = sampled_data['State'].map(state_mapping)\n",
        "\n",
        "# new Bar Chart for State\n",
        "state_counts = sampled_data['State'].value_counts()\n",
        "plt.figure(figsize=(8, 5))\n",
        "ax = sns.barplot(x=state_counts.index, y=state_counts.values, hue=state_counts.index, palette='dark:skyblue')\n",
        "\n",
        "plt.xlabel(\"State\")\n",
        "plt.ylabel(\"Number of Accidents\")\n",
        "plt.title(\"Count of Accidents by State (Modified)\")\n",
        "plt.show()"
      ]
    },
    {
      "cell_type": "code",
      "execution_count": 525,
      "metadata": {
        "colab": {
          "base_uri": "https://localhost:8080/"
        },
        "id": "X8r1rH9uUYMM",
        "outputId": "83eebf19-160d-44ad-cc25-06bba04bbc94"
      },
      "outputs": [
        {
          "name": "stdout",
          "output_type": "stream",
          "text": [
            "['Others' 'FL' 'CA' 'TX']\n"
          ]
        }
      ],
      "source": [
        "# Do the same for 20k Test Set\n",
        "test_20k_df['State'] = test_20k_df['State'].map(state_mapping)\n",
        "print(test_20k_df['State'].unique())"
      ]
    },
    {
      "cell_type": "code",
      "execution_count": 526,
      "metadata": {
        "colab": {
          "base_uri": "https://localhost:8080/",
          "height": 0
        },
        "id": "uqyy3IRXTLha",
        "outputId": "a8fdc6dd-1bf0-427e-cc54-efa4f88d22f6"
      },
      "outputs": [
        {
          "data": {
            "image/png": "[encoded data removed]",
            "text/plain": [
              "<Figure size 800x500 with 1 Axes>"
            ]
          },
          "metadata": {},
          "output_type": "display_data"
        }
      ],
      "source": [
        "state_counts = test_20k_df['State'].value_counts()\n",
        "plt.figure(figsize=(8, 5))\n",
        "ax = sns.barplot(x=state_counts.index, y=state_counts.values, hue=state_counts.index, palette='dark:skyblue')\n",
        "\n",
        "plt.xlabel(\"State\")\n",
        "plt.ylabel(\"Number of Accidents\")\n",
        "plt.title(\"Count of Accidents by State (for 20K Test Set)\")\n",
        "plt.show()"
      ]
    },
    {
      "cell_type": "code",
      "execution_count": 527,
      "metadata": {
        "colab": {
          "base_uri": "https://localhost:8080/"
        },
        "id": "sCzvSdAZVb7y",
        "outputId": "363ffebe-427b-4c88-f181-adecad4c6f70"
      },
      "outputs": [
        {
          "name": "stdout",
          "output_type": "stream",
          "text": [
            "               ID  Severity  Start_Time  End_Time  Distance(mi)         City  \\\n",
            "239235  A-7056206         1          33        63          0.00  Pope Valley   \n",
            "355666  A-7143912         1         484       499          0.00    Sausalito   \n",
            "246955   A-540674         1         809       839          0.15       Sumner   \n",
            "264362   A-633728         1         458       488          0.00  Albuquerque   \n",
            "195152   A-614503         1         349       426          0.00        Miami   \n",
            "\n",
            "          Weather_Timestamp  Temperature(F)  Humidity(%)  Pressure(in)  ...  \\\n",
            "239235  2020-06-24 00:53:00            56.0         90.0         29.71  ...   \n",
            "355666  2020-03-29 07:56:00            52.0         86.0         30.10  ...   \n",
            "246955  2022-08-10 13:08:00            68.0         83.0         29.71  ...   \n",
            "264362  2022-04-29 07:52:00            56.0         20.0         24.61  ...   \n",
            "195152  2022-05-23 05:53:00            79.0         77.0         30.07  ...   \n",
            "\n",
            "         Stop Traffic_Calming  Traffic_Signal  Turning_Loop   Duration  \\\n",
            "239235  False           False           False         False  30.000000   \n",
            "355666  False           False           False         False  15.000000   \n",
            "246955  False           False           False         False  29.666667   \n",
            "264362  False           False           False         False  29.600000   \n",
            "195152  False           False           False         False  76.983333   \n",
            "\n",
            "        Region  State_CA  State_FL  State_Others  State_TX  \n",
            "239235       9         1         0             0         0  \n",
            "355666       9         1         0             0         0  \n",
            "246955       9         0         0             1         0  \n",
            "264362       8         0         0             1         0  \n",
            "195152       3         0         1             0         0  \n",
            "\n",
            "[5 rows x 34 columns]\n"
          ]
        }
      ],
      "source": [
        "# Perform One-Hot Encoding on the 'State' column\n",
        "state_dummies = pd.get_dummies(sampled_data['State'], prefix='State')\n",
        "\n",
        "# Convert True/False to 1/0 explicitly\n",
        "state_dummies = state_dummies.astype(int)\n",
        "\n",
        "# Concatenate the new columns with the original dataframe\n",
        "sampled_data = pd.concat([sampled_data, state_dummies], axis=1)\n",
        "\n",
        "# Drop the original 'State' column\n",
        "sampled_data.drop(columns=['State'], inplace=True)\n",
        "\n",
        "print(sampled_data.head())"
      ]
    },
    {
      "cell_type": "code",
      "execution_count": 528,
      "metadata": {
        "colab": {
          "base_uri": "https://localhost:8080/"
        },
        "id": "4fH3nrD0UhqC",
        "outputId": "f18f179b-5a12-4fae-df76-63f965a17b3e"
      },
      "outputs": [
        {
          "name": "stdout",
          "output_type": "stream",
          "text": [
            "               ID  Severity  Start_Time  End_Time  Distance(mi)        City  \\\n",
            "236564   A-681343         2        1087      1117         0.000      Tucson   \n",
            "173706  A-4161749         2          84       163         1.483    New York   \n",
            "248802  A-6395391         2        1409      1436         0.912  Fort Myers   \n",
            "437866  A-1305496         3         716       791         0.000     Lansing   \n",
            "87250   A-3670719         2        1359        46         0.081       Chino   \n",
            "\n",
            "          Weather_Timestamp  Temperature(F)  Humidity(%)  Pressure(in)  ...  \\\n",
            "236564  2022-03-10 17:58:00            66.0         19.0         26.99  ...   \n",
            "173706  2022-02-28 01:51:00            32.0         48.0         29.96  ...   \n",
            "248802  2021-02-13 23:53:00            75.0         82.0         29.91  ...   \n",
            "437866  2020-09-19 11:55:00            60.0         46.0         29.74  ...   \n",
            "87250   2023-02-25 22:53:00            42.0         85.0         29.25  ...   \n",
            "\n",
            "         Stop Traffic_Calming  Traffic_Signal  Turning_Loop    Duration  \\\n",
            "236564  False           False           False         False   29.700000   \n",
            "173706  False           False           False         False   79.083333   \n",
            "248802  False           False           False         False   27.500000   \n",
            "437866  False           False           False         False   74.516667   \n",
            "87250   False           False           False         False  127.083333   \n",
            "\n",
            "        Region  State_CA  State_FL  State_Others  State_TX  \n",
            "236564       8         0         0             1         0  \n",
            "173706       1         0         0             1         0  \n",
            "248802       3         0         1             0         0  \n",
            "437866       6         0         0             1         0  \n",
            "87250        9         1         0             0         0  \n",
            "\n",
            "[5 rows x 34 columns]\n"
          ]
        }
      ],
      "source": [
        "#Do the same for 20k Test Set\n",
        "state_dummies = pd.get_dummies(test_20k_df['State'], prefix='State')\n",
        "\n",
        "# Convert True/False to 1/0 explicitly\n",
        "state_dummies = state_dummies.astype(int)\n",
        "\n",
        "# Concatenate the new columns with the original dataframe\n",
        "test_20k_df = pd.concat([test_20k_df, state_dummies], axis=1)\n",
        "\n",
        "# Drop the original 'State' column\n",
        "test_20k_df.drop(columns=['State'], inplace=True)\n",
        "\n",
        "print(test_20k_df.head())"
      ]
    },
    {
      "cell_type": "markdown",
      "metadata": {
        "id": "zO1yvCXLk0T-"
      },
      "source": [
        "## Encode 'City' into Top 5 Cities and Others"
      ]
    },
    {
      "cell_type": "code",
      "execution_count": 529,
      "metadata": {
        "colab": {
          "base_uri": "https://localhost:8080/",
          "height": 0
        },
        "id": "5DVBgrY9n5dq",
        "outputId": "748d9377-c092-452c-97c7-03786c74d259"
      },
      "outputs": [
        {
          "data": {
            "image/png": "[encoded data removed]",
            "text/plain": [
              "<Figure size 800x500 with 1 Axes>"
            ]
          },
          "metadata": {},
          "output_type": "display_data"
        }
      ],
      "source": [
        "# Bar chart of city\n",
        "## Use remaining_df (original dataset without valid-test set, to prevent data leakage and maintaining original data distribution)\n",
        "city_counts = remaining_df['City'].value_counts()\n",
        "\n",
        "plt.figure(figsize=(8, 5))\n",
        "ax = sns.barplot(x=city_counts.index, y=city_counts.values, hue=city_counts.index, palette='dark:skyblue')\n",
        "\n",
        "plt.xlabel(\"City\")\n",
        "plt.ylabel(\"Number of Accidents\")\n",
        "plt.title(\"Count of Accidents by City\")\n",
        "plt.show()"
      ]
    },
    {
      "cell_type": "code",
      "execution_count": 530,
      "metadata": {
        "colab": {
          "base_uri": "https://localhost:8080/",
          "height": 0
        },
        "id": "ScOGj2Y24SbS",
        "outputId": "28f28242-b1c0-4102-8055-71bec74bad3b"
      },
      "outputs": [
        {
          "data": {
            "image/png": "[encoded data removed]",
            "text/plain": [
              "<Figure size 800x500 with 1 Axes>"
            ]
          },
          "metadata": {},
          "output_type": "display_data"
        }
      ],
      "source": [
        "# Get the top 5 cities\n",
        "top_5 = city_counts.nlargest(5)\n",
        "\n",
        "# Create a mapping where top 5 cities are kept, and others are labeled as 'Others'\n",
        "city_mapping = city_counts.index.to_series().apply(lambda x: x if x in top_5.index else 'Others')\n",
        "\n",
        "# Apply the mapping to the 'City' column\n",
        "sampled_data['City'] = sampled_data['City'].map(city_mapping)\n",
        "\n",
        "# new Bar Chart for City\n",
        "city_counts = sampled_data['City'].value_counts()\n",
        "plt.figure(figsize=(8, 5))\n",
        "ax = sns.barplot(x=city_counts.index, y=city_counts.values, hue=city_counts.index, palette='dark:skyblue')\n",
        "\n",
        "plt.xlabel(\"City\")\n",
        "plt.ylabel(\"Number of Accidents\")\n",
        "plt.title(\"Count of Accidents by City (Modified)\")\n",
        "plt.show()"
      ]
    },
    {
      "cell_type": "code",
      "execution_count": 531,
      "metadata": {
        "colab": {
          "base_uri": "https://localhost:8080/",
          "height": 0
        },
        "id": "uK1CxNOjVRXw",
        "outputId": "6c25bb10-3828-4d77-ecd5-a261badfc528"
      },
      "outputs": [
        {
          "name": "stdout",
          "output_type": "stream",
          "text": [
            "['Others' 'Charlotte' 'Houston' 'Miami' 'Orlando' 'Los Angeles']\n"
          ]
        },
        {
          "data": {
            "image/png": "[encoded data removed]",
            "text/plain": [
              "<Figure size 800x500 with 1 Axes>"
            ]
          },
          "metadata": {},
          "output_type": "display_data"
        }
      ],
      "source": [
        "# Do the same for 20k Test Set\n",
        "test_20k_df['City'] = test_20k_df['City'].map(city_mapping)\n",
        "print(test_20k_df['City'].unique())\n",
        "\n",
        "city_counts = test_20k_df['City'].value_counts()\n",
        "plt.figure(figsize=(8, 5))\n",
        "ax = sns.barplot(x=city_counts.index, y=city_counts.values, hue=city_counts.index, palette='dark:skyblue')\n",
        "\n",
        "plt.xlabel(\"City\")\n",
        "plt.ylabel(\"Number of Accidents\")\n",
        "plt.title(\"Count of Accidents by City (for 20K Test Set)\")\n",
        "plt.show()"
      ]
    },
    {
      "cell_type": "code",
      "execution_count": 532,
      "metadata": {
        "id": "D0wFuSeQWFf-"
      },
      "outputs": [],
      "source": [
        "# Perform One-Hot Encoding on the 'City' column\n",
        "city_dummies = pd.get_dummies(sampled_data['City'], prefix='City')\n",
        "\n",
        "# Convert True/False to 1/0 explicitly\n",
        "city_dummies = city_dummies.astype(int)\n",
        "\n",
        "# Concatenate the new columns with the original dataframe\n",
        "sampled_data = pd.concat([sampled_data, city_dummies], axis=1)\n",
        "\n",
        "# Drop the original 'City' column\n",
        "sampled_data.drop(columns=['City'], inplace=True)\n",
        "\n",
        "#print(sampled_data.head())"
      ]
    },
    {
      "cell_type": "code",
      "execution_count": 533,
      "metadata": {
        "colab": {
          "base_uri": "https://localhost:8080/"
        },
        "id": "_Lep3__PXx8W",
        "outputId": "14fc5f82-cf49-4b59-df26-504a07b92b3d"
      },
      "outputs": [
        {
          "name": "stdout",
          "output_type": "stream",
          "text": [
            "               ID  Severity  Start_Time  End_Time  Distance(mi)  \\\n",
            "236564   A-681343         2        1087      1117         0.000   \n",
            "173706  A-4161749         2          84       163         1.483   \n",
            "248802  A-6395391         2        1409      1436         0.912   \n",
            "437866  A-1305496         3         716       791         0.000   \n",
            "87250   A-3670719         2        1359        46         0.081   \n",
            "\n",
            "          Weather_Timestamp  Temperature(F)  Humidity(%)  Pressure(in)  \\\n",
            "236564  2022-03-10 17:58:00            66.0         19.0         26.99   \n",
            "173706  2022-02-28 01:51:00            32.0         48.0         29.96   \n",
            "248802  2021-02-13 23:53:00            75.0         82.0         29.91   \n",
            "437866  2020-09-19 11:55:00            60.0         46.0         29.74   \n",
            "87250   2023-02-25 22:53:00            42.0         85.0         29.25   \n",
            "\n",
            "        Visibility(mi)  ... State_CA  State_FL  State_Others State_TX  \\\n",
            "236564            10.0  ...        0         0             1        0   \n",
            "173706            10.0  ...        0         0             1        0   \n",
            "248802            10.0  ...        0         1             0        0   \n",
            "437866            10.0  ...        0         0             1        0   \n",
            "87250              7.0  ...        1         0             0        0   \n",
            "\n",
            "        City_Charlotte  City_Houston  City_Los Angeles  City_Miami  \\\n",
            "236564               0             0                 0           0   \n",
            "173706               0             0                 0           0   \n",
            "248802               0             0                 0           0   \n",
            "437866               0             0                 0           0   \n",
            "87250                0             0                 0           0   \n",
            "\n",
            "        City_Orlando  City_Others  \n",
            "236564             0            1  \n",
            "173706             0            1  \n",
            "248802             0            1  \n",
            "437866             0            1  \n",
            "87250              0            1  \n",
            "\n",
            "[5 rows x 39 columns]\n"
          ]
        }
      ],
      "source": [
        "#Do the same for 20k Test Set\n",
        "city_dummies = pd.get_dummies(test_20k_df['City'], prefix='City')\n",
        "\n",
        "# Convert True/False to 1/0 explicitly\n",
        "city_dummies = city_dummies.astype(int)\n",
        "\n",
        "test_20k_df = pd.concat([test_20k_df, city_dummies], axis=1)\n",
        "\n",
        "test_20k_df.drop(columns=['City'], inplace=True)\n",
        "\n",
        "print(test_20k_df.head())"
      ]
    },
    {
      "cell_type": "markdown",
      "metadata": {
        "id": "IopNvK8Ek7SY"
      },
      "source": [
        "## Cluster 'Weather_Condition' into 6 Broad Categories then One-Hot Encoding\n"
      ]
    },
    {
      "cell_type": "code",
      "execution_count": 534,
      "metadata": {
        "colab": {
          "base_uri": "https://localhost:8080/"
        },
        "id": "RdpjeiggmikH",
        "outputId": "a6d573db-1154-4742-f2ea-297fbea564cb"
      },
      "outputs": [
        {
          "name": "stdout",
          "output_type": "stream",
          "text": [
            "['Fair' 'Wintry Mix' 'Light Rain' 'Cloudy' 'Mostly Cloudy' 'Partly Cloudy'\n",
            " 'Fog' 'T-Storm' 'Light Snow' 'Overcast' 'Thunder'\n",
            " 'Light Rain with Thunder' 'Rain' 'Showers in the Vicinity'\n",
            " 'Mostly Cloudy / Windy' 'Heavy Rain' 'Cloudy / Windy' 'Light Drizzle'\n",
            " 'Heavy T-Storm' 'Light Rain / Windy' 'Smoke' 'Blowing Dust / Windy'\n",
            " 'Haze' 'N/A Precipitation' 'Thunder in the Vicinity' 'Snow'\n",
            " 'Scattered Clouds' 'Heavy Thunderstorms and Rain' 'Fair / Windy'\n",
            " 'Patches of Fog' 'Light Snow / Windy' 'Blowing Snow / Windy' 'Drizzle'\n",
            " 'T-Storm / Windy' 'Partly Cloudy / Windy' 'Shallow Fog' 'Clear'\n",
            " 'Thunderstorms and Rain' 'Heavy Rain / Windy' 'Heavy Snow / Windy'\n",
            " 'Light Thunderstorms and Rain' 'Rain / Windy' 'Light Freezing Rain'\n",
            " 'Heavy Snow' 'Light Ice Pellets' 'Light Freezing Drizzle'\n",
            " 'Heavy T-Storm / Windy' 'Heavy Drizzle' 'Sleet' 'Light Rain Shower'\n",
            " 'Mist' 'Haze / Windy' 'Snow and Sleet' 'Snow / Windy' 'Thunderstorm'\n",
            " 'Fog / Windy' 'Sleet / Windy' 'Light Sleet' 'Sand / Dust Whirlwinds'\n",
            " 'Squalls / Windy' 'Thunder / Wintry Mix' 'Freezing Drizzle' 'Light Hail'\n",
            " 'Blowing Snow' 'Blowing Dust' 'Drizzle and Fog' 'Thunder / Windy'\n",
            " 'Small Hail' 'Ice Pellets' 'Light Freezing Fog' 'Funnel Cloud'\n",
            " 'Light Freezing Rain / Windy' 'Light Drizzle / Windy'\n",
            " 'Partial Fog / Windy' 'Hail' 'Snow and Thunder' 'Wintry Mix / Windy'\n",
            " 'Light Snow and Sleet' 'Freezing Rain' 'Light Snow Shower' 'Tornado'\n",
            " 'Light Rain Showers' 'Light Snow with Thunder' 'Smoke / Windy'\n",
            " 'Widespread Dust / Windy' 'Light Snow and Sleet / Windy'\n",
            " 'Snow and Sleet / Windy' 'Partial Fog' 'Drizzle / Windy' 'Heavy Sleet'\n",
            " 'Light Rain Shower / Windy' 'Light Thunderstorms and Snow' 'Rain Showers'\n",
            " 'Light Snow Grains' 'Thunder and Hail' 'Drifting Snow / Windy']\n"
          ]
        }
      ],
      "source": [
        "## Using remaining_df to get more weather_condition categories but still excluding valid and test data\n",
        "print(remaining_df['Weather_Condition'].unique())"
      ]
    },
    {
      "cell_type": "code",
      "execution_count": 535,
      "metadata": {
        "id": "HhpueYeP8XfY"
      },
      "outputs": [],
      "source": [
        "# Mapping for standardizing weather conditions to 5 categories and \"Others\"\n",
        "weather_mapping = {\n",
        "    # Cloud is grouped in the same category as Clear as cloudy doesnt really affect traffic conditions that much\n",
        "    'Clear': 'Clear / Cloudy', 'Cloudy': 'Clear / Cloudy', 'Partly Cloudy': 'Clear / Cloudy',\n",
        "    'Mostly Cloudy': 'Clear / Cloudy', 'Overcast': 'Clear / Cloudy', 'Fair': 'Clear / Cloudy',\n",
        "    'Fair / Windy': 'Clear / Cloudy', 'Mostly Cloudy / Windy': 'Clear / Cloudy', 'Partly Cloudy / Windy': 'Clear / Cloudy',\n",
        "    'Cloudy / Windy': 'Clear / Cloudy', 'Scattered Clouds': 'Clear / Cloudy',\n",
        "\n",
        "    'Light Rain': 'Rain', 'Rain': 'Rain', 'Heavy Rain': 'Rain', 'Light Rain Shower': 'Rain',\n",
        "    'Rain / Windy': 'Rain', 'Heavy Rain / Windy': 'Rain', 'Drizzle': 'Rain',\n",
        "    'Light Freezing Drizzle': 'Rain', 'Light Rain with Thunder': 'Rain', 'Light Drizzle': 'Rain',\n",
        "    'Light Freezing Rain': 'Rain', 'Freezing Drizzle': 'Rain', 'Showers in the Vicinity': 'Rain',\n",
        "    'Light Rain / Windy': 'Rain', 'Heavy Drizzle': 'Rain', 'Light Freezing Rain / Windy': 'Rain',\n",
        "    'Light Drizzle / Windy': 'Rain', 'Freezing Rain': 'Rain', 'Light Rain Showers': 'Rain',\n",
        "    'Light Rain Shower / Windy': 'Rain', 'Rain Showers': 'Rain', 'Drizzle / Windy': 'Rain',\n",
        "\n",
        "    'Light Snow': 'Snow', 'Snow': 'Snow', 'Heavy Snow': 'Snow', 'Snow / Windy': 'Snow',\n",
        "    'Light Snow Shower': 'Snow', 'Snow Grains': 'Snow', 'Blowing Snow': 'Snow',\n",
        "    'Light Snow / Windy': 'Snow', 'Heavy Snow / Windy': 'Snow', 'Light Snow with Thunder': 'Snow',\n",
        "    'Light Snow and Sleet': 'Snow', 'Snow and Sleet': 'Snow', 'Sleet / Windy': 'Snow',\n",
        "    'Light Snow Showers': 'Snow', 'Light Snow and Sleet / Windy': 'Snow', 'Snow and Sleet / Windy': 'Snow',\n",
        "    'Sleet': 'Snow', 'Light Sleet': 'Snow', 'Light Snow Showers': 'Snow', 'Ice Pellets': 'Snow',\n",
        "    'Blowing Snow': 'Snow', 'Drifting Snow / Windy': 'Snow', 'Blowing Snow / Windy': 'Snow',\n",
        "    'Snow and Thunder': 'Snow', 'Wintry Mix / Windy': 'Snow', 'Heavy Sleet': 'Snow',\n",
        "    'Light Snow Grains': 'Snow', 'Light Blowing Snow': 'Snow', 'Light Ice Pellets': 'Snow',\n",
        "\n",
        "    'Fog': 'Fog / Low Visibility', 'Shallow Fog': 'Fog / Low Visibility', 'Mist': 'Fog / Low Visibility',\n",
        "    'Light Freezing Fog': 'Fog / Low Visibility', 'Fog / Windy': 'Fog / Low Visibility',\n",
        "    'Partial Fog / Windy': 'Fog / Low Visibility', 'Drizzle and Fog': 'Fog / Low Visibility',\n",
        "    'Patches of Fog': 'Fog / Low Visibility', 'Haze / Windy': 'Fog / Low Visibility',\n",
        "    'Partial Fog': 'Fog / Low Visibility', 'Smoke': 'Fog / Low Visibility', 'Haze': 'Fog / Low Visibility',\n",
        "    'Blowing Dust': 'Fog / Low Visibility', 'Blowing Dust / Windy': 'Fog / Low Visibility',\n",
        "    'Sand / Dust Whirlwinds': 'Fog / Low Visibility', 'Widespread Dust': 'Fog / Low Visibility',\n",
        "    'Smoke / Windy': 'Fog / Low Visibility', 'Widespread Dust / Windy': 'Fog / Low Visibility',\n",
        "\n",
        "    'Thunderstorm': 'Thunderstorms / Severe Weather', 'T-Storm': 'Thunderstorms / Severe Weather',\n",
        "    'Heavy T-Storm': 'Thunderstorms / Severe Weather', 'Thunderstorms and Rain': 'Thunderstorms / Severe Weather',\n",
        "    'Light Thunderstorms and Rain': 'Thunderstorms / Severe Weather', 'Thunder / Windy': 'Thunderstorms / Severe Weather',\n",
        "    'Thunder in the Vicinity': 'Thunderstorms / Severe Weather', 'Heavy Thunderstorms and Rain': 'Thunderstorms / Severe Weather',\n",
        "    'Tornado': 'Thunderstorms / Severe Weather', 'Thunder / Wintry Mix': 'Thunderstorms / Severe Weather', 'Light Thunderstorms and Snow': 'Thunderstorms / Severe Weather',\n",
        "    'Wintry Mix': 'Thunderstorms / Severe Weather', 'Thunder': 'Thunderstorms / Severe Weather', 'T-Storm / Windy': 'Thunderstorms / Severe Weather',\n",
        "    'Heavy T-Storm / Windy': 'Thunderstorms / Severe Weather', 'Funnel Cloud': 'Thunderstorms / Severe Weather', 'Thunder and Hail': 'Thunderstorms / Severe Weather',\n",
        "    'Hail': 'Thunderstorms / Severe Weather', 'Squalls': 'Thunderstorms / Severe Weather', 'Volcanic Ash': 'Thunderstorms / Severe Weather',\n",
        "    'Squalls / Windy': 'Thunderstorms / Severe Weather', 'Small Hail': 'Thunderstorms / Severe Weather', 'Light Hail': 'Thunderstorms / Severe Weather',\n",
        "\n",
        "    # Grouping other categories as \"Others\"\n",
        "    'N/A Precipitation': 'Others'\n",
        "}\n",
        "\n",
        "sampled_data['Weather_Condition'] = sampled_data['Weather_Condition'].map(weather_mapping).fillna('Others')\n"
      ]
    },
    {
      "cell_type": "code",
      "execution_count": 536,
      "metadata": {
        "colab": {
          "base_uri": "https://localhost:8080/"
        },
        "id": "p27JEAV4SkS8",
        "outputId": "8e98b4ec-18ce-44fc-c046-7baffb87f12b"
      },
      "outputs": [
        {
          "name": "stdout",
          "output_type": "stream",
          "text": [
            "239235    Clear / Cloudy\n",
            "355666    Clear / Cloudy\n",
            "246955    Clear / Cloudy\n",
            "264362    Clear / Cloudy\n",
            "195152    Clear / Cloudy\n",
            "               ...      \n",
            "395634    Clear / Cloudy\n",
            "492951    Clear / Cloudy\n",
            "15664     Clear / Cloudy\n",
            "393801    Clear / Cloudy\n",
            "423606    Clear / Cloudy\n",
            "Name: Weather_Condition, Length: 10000, dtype: object\n"
          ]
        }
      ],
      "source": [
        "print(sampled_data['Weather_Condition'])"
      ]
    },
    {
      "cell_type": "code",
      "execution_count": 537,
      "metadata": {
        "colab": {
          "base_uri": "https://localhost:8080/"
        },
        "id": "y3QeVmosYHNW",
        "outputId": "f73e4dfb-7c25-4dfd-8bd4-44b9e6dd5ad1"
      },
      "outputs": [
        {
          "name": "stdout",
          "output_type": "stream",
          "text": [
            "236564    Clear / Cloudy\n",
            "173706    Clear / Cloudy\n",
            "248802    Clear / Cloudy\n",
            "437866    Clear / Cloudy\n",
            "87250               Rain\n",
            "               ...      \n",
            "496433    Clear / Cloudy\n",
            "129370              Snow\n",
            "304149    Clear / Cloudy\n",
            "280611    Clear / Cloudy\n",
            "4458      Clear / Cloudy\n",
            "Name: Weather_Condition, Length: 20000, dtype: object\n"
          ]
        }
      ],
      "source": [
        "# Do the same for 20k Test Set\n",
        "test_20k_df['Weather_Condition'] = test_20k_df['Weather_Condition'].map(weather_mapping).fillna('Others')\n",
        "print(test_20k_df['Weather_Condition'])"
      ]
    },
    {
      "cell_type": "code",
      "execution_count": 538,
      "metadata": {
        "colab": {
          "base_uri": "https://localhost:8080/"
        },
        "id": "aqmJOfC-Ww7A",
        "outputId": "bdea775b-6124-4d2d-96af-93c228a3e292"
      },
      "outputs": [
        {
          "name": "stdout",
          "output_type": "stream",
          "text": [
            "               ID  Severity  Start_Time  End_Time  Distance(mi)  \\\n",
            "239235  A-7056206         1          33        63          0.00   \n",
            "355666  A-7143912         1         484       499          0.00   \n",
            "246955   A-540674         1         809       839          0.15   \n",
            "264362   A-633728         1         458       488          0.00   \n",
            "195152   A-614503         1         349       426          0.00   \n",
            "\n",
            "          Weather_Timestamp  Temperature(F)  Humidity(%)  Pressure(in)  \\\n",
            "239235  2020-06-24 00:53:00            56.0         90.0         29.71   \n",
            "355666  2020-03-29 07:56:00            52.0         86.0         30.10   \n",
            "246955  2022-08-10 13:08:00            68.0         83.0         29.71   \n",
            "264362  2022-04-29 07:52:00            56.0         20.0         24.61   \n",
            "195152  2022-05-23 05:53:00            79.0         77.0         30.07   \n",
            "\n",
            "        Visibility(mi)  ... City_Los Angeles  City_Miami  City_Orlando  \\\n",
            "239235            10.0  ...                0           0             0   \n",
            "355666             8.0  ...                0           0             0   \n",
            "246955            10.0  ...                0           0             0   \n",
            "264362            10.0  ...                0           0             0   \n",
            "195152            10.0  ...                0           1             0   \n",
            "\n",
            "        City_Others  Weather_Condition_Clear / Cloudy  \\\n",
            "239235            1                                 1   \n",
            "355666            1                                 1   \n",
            "246955            1                                 1   \n",
            "264362            1                                 1   \n",
            "195152            0                                 1   \n",
            "\n",
            "        Weather_Condition_Fog / Low Visibility  Weather_Condition_Others  \\\n",
            "239235                                       0                         0   \n",
            "355666                                       0                         0   \n",
            "246955                                       0                         0   \n",
            "264362                                       0                         0   \n",
            "195152                                       0                         0   \n",
            "\n",
            "        Weather_Condition_Rain  Weather_Condition_Snow  \\\n",
            "239235                       0                       0   \n",
            "355666                       0                       0   \n",
            "246955                       0                       0   \n",
            "264362                       0                       0   \n",
            "195152                       0                       0   \n",
            "\n",
            "        Weather_Condition_Thunderstorms / Severe Weather  \n",
            "239235                                                 0  \n",
            "355666                                                 0  \n",
            "246955                                                 0  \n",
            "264362                                                 0  \n",
            "195152                                                 0  \n",
            "\n",
            "[5 rows x 44 columns]\n"
          ]
        }
      ],
      "source": [
        "# Perform One-Hot Encoding on the 'Weather_Condition' column\n",
        "weather_condition_dummies = pd.get_dummies(sampled_data['Weather_Condition'], prefix='Weather_Condition')\n",
        "\n",
        "# Convert True/False to 1/0 explicitly\n",
        "weather_condition_dummies = weather_condition_dummies.astype(int)\n",
        "\n",
        "# Concatenate the new columns with the original dataframe\n",
        "sampled_data = pd.concat([sampled_data, weather_condition_dummies], axis=1)\n",
        "\n",
        "# Drop the original 'Weather_Condition' column\n",
        "sampled_data.drop(columns=['Weather_Condition'], inplace=True)\n",
        "\n",
        "print(sampled_data.head())"
      ]
    },
    {
      "cell_type": "code",
      "execution_count": 539,
      "metadata": {
        "colab": {
          "base_uri": "https://localhost:8080/"
        },
        "id": "IeXfmfN6YSss",
        "outputId": "c1d1d8f5-d53d-4704-faca-81fa274b87c9"
      },
      "outputs": [
        {
          "name": "stdout",
          "output_type": "stream",
          "text": [
            "               ID  Severity  Start_Time  End_Time  Distance(mi)  \\\n",
            "236564   A-681343         2        1087      1117         0.000   \n",
            "173706  A-4161749         2          84       163         1.483   \n",
            "248802  A-6395391         2        1409      1436         0.912   \n",
            "437866  A-1305496         3         716       791         0.000   \n",
            "87250   A-3670719         2        1359        46         0.081   \n",
            "\n",
            "          Weather_Timestamp  Temperature(F)  Humidity(%)  Pressure(in)  \\\n",
            "236564  2022-03-10 17:58:00            66.0         19.0         26.99   \n",
            "173706  2022-02-28 01:51:00            32.0         48.0         29.96   \n",
            "248802  2021-02-13 23:53:00            75.0         82.0         29.91   \n",
            "437866  2020-09-19 11:55:00            60.0         46.0         29.74   \n",
            "87250   2023-02-25 22:53:00            42.0         85.0         29.25   \n",
            "\n",
            "        Visibility(mi)  ... City_Los Angeles  City_Miami  City_Orlando  \\\n",
            "236564            10.0  ...                0           0             0   \n",
            "173706            10.0  ...                0           0             0   \n",
            "248802            10.0  ...                0           0             0   \n",
            "437866            10.0  ...                0           0             0   \n",
            "87250              7.0  ...                0           0             0   \n",
            "\n",
            "        City_Others  Weather_Condition_Clear / Cloudy  \\\n",
            "236564            1                                 1   \n",
            "173706            1                                 1   \n",
            "248802            1                                 1   \n",
            "437866            1                                 1   \n",
            "87250             1                                 0   \n",
            "\n",
            "        Weather_Condition_Fog / Low Visibility  Weather_Condition_Others  \\\n",
            "236564                                       0                         0   \n",
            "173706                                       0                         0   \n",
            "248802                                       0                         0   \n",
            "437866                                       0                         0   \n",
            "87250                                        0                         0   \n",
            "\n",
            "        Weather_Condition_Rain  Weather_Condition_Snow  \\\n",
            "236564                       0                       0   \n",
            "173706                       0                       0   \n",
            "248802                       0                       0   \n",
            "437866                       0                       0   \n",
            "87250                        1                       0   \n",
            "\n",
            "        Weather_Condition_Thunderstorms / Severe Weather  \n",
            "236564                                                 0  \n",
            "173706                                                 0  \n",
            "248802                                                 0  \n",
            "437866                                                 0  \n",
            "87250                                                  0  \n",
            "\n",
            "[5 rows x 44 columns]\n"
          ]
        }
      ],
      "source": [
        "# Do the same for 20k Test Set\n",
        "weather_condition_dummies = pd.get_dummies(test_20k_df['Weather_Condition'], prefix='Weather_Condition')\n",
        "\n",
        "# Convert True/False to 1/0 explicitly\n",
        "weather_condition_dummies = weather_condition_dummies.astype(int)\n",
        "\n",
        "test_20k_df = pd.concat([test_20k_df, weather_condition_dummies], axis=1)\n",
        "\n",
        "test_20k_df.drop(columns=['Weather_Condition'], inplace=True)\n",
        "\n",
        "print(test_20k_df.head())"
      ]
    },
    {
      "cell_type": "markdown",
      "metadata": {
        "id": "YTaxY2erJyYi"
      },
      "source": [
        "## Extract Features from Weather Timestamp"
      ]
    },
    {
      "cell_type": "code",
      "execution_count": 540,
      "metadata": {
        "id": "z-HA76FeJyYi"
      },
      "outputs": [],
      "source": [
        "def encode_timestamp(df):\n",
        "  df['Weather_Timestamp'] = pd.to_datetime(df['Weather_Timestamp'], errors='coerce')\n",
        "\n",
        "  # Extract features\n",
        "  df['Weather_Year'] = df['Weather_Timestamp'].dt.year\n",
        "  df['Weather_Month'] = df['Weather_Timestamp'].dt.month\n",
        "  df['Weather_Day'] = df['Weather_Timestamp'].dt.day\n",
        "  df['Weather_Hour'] = df['Weather_Timestamp'].dt.hour\n",
        "  df['Weather_Day_of_Week'] = df['Weather_Timestamp'].dt.day_name()  # Monday, Tuesday\n",
        "\n",
        "  df.drop(columns=['Weather_Timestamp'], inplace=True)\n",
        "  return df"
      ]
    },
    {
      "cell_type": "code",
      "execution_count": 541,
      "metadata": {
        "id": "2BNnBIsMJyYi"
      },
      "outputs": [],
      "source": [
        "sampled_data = encode_timestamp(sampled_data)"
      ]
    },
    {
      "cell_type": "code",
      "execution_count": 542,
      "metadata": {
        "id": "KDzZ6mBXYetV"
      },
      "outputs": [],
      "source": [
        "test_20k_df = encode_timestamp(test_20k_df)"
      ]
    },
    {
      "cell_type": "markdown",
      "metadata": {
        "id": "tVYsU53uJyYi"
      },
      "source": [
        "## Encode Wind Direction, Weather Day of Week"
      ]
    },
    {
      "cell_type": "code",
      "execution_count": 543,
      "metadata": {
        "colab": {
          "base_uri": "https://localhost:8080/"
        },
        "id": "aXNOgHE7JyYj",
        "outputId": "b5e39e73-d87a-4e05-d84a-3f1c4a27efad"
      },
      "outputs": [
        {
          "name": "stdout",
          "output_type": "stream",
          "text": [
            "               ID  Severity  Start_Time  End_Time  Distance(mi)  \\\n",
            "239235  A-7056206         1          33        63          0.00   \n",
            "355666  A-7143912         1         484       499          0.00   \n",
            "246955   A-540674         1         809       839          0.15   \n",
            "264362   A-633728         1         458       488          0.00   \n",
            "195152   A-614503         1         349       426          0.00   \n",
            "\n",
            "        Temperature(F)  Humidity(%)  Pressure(in)  Visibility(mi)  \\\n",
            "239235            56.0         90.0         29.71            10.0   \n",
            "355666            52.0         86.0         30.10             8.0   \n",
            "246955            68.0         83.0         29.71            10.0   \n",
            "264362            56.0         20.0         24.61            10.0   \n",
            "195152            79.0         77.0         30.07            10.0   \n",
            "\n",
            "        Wind_Speed(mph)  ...  Wind_Direction_SSE  Wind_Direction_SSW  \\\n",
            "239235              3.0  ...                   0                   0   \n",
            "355666              3.0  ...                   1                   0   \n",
            "246955             13.0  ...                   0                   0   \n",
            "264362              7.0  ...                   0                   0   \n",
            "195152             10.0  ...                   0                   0   \n",
            "\n",
            "        Wind_Direction_SW  Wind_Direction_South  Wind_Direction_VAR  \\\n",
            "239235                  0                     0                   0   \n",
            "355666                  0                     0                   0   \n",
            "246955                  1                     0                   0   \n",
            "264362                  0                     0                   0   \n",
            "195152                  0                     0                   0   \n",
            "\n",
            "        Wind_Direction_Variable  Wind_Direction_W  Wind_Direction_WNW  \\\n",
            "239235                        0                 0                   0   \n",
            "355666                        0                 0                   0   \n",
            "246955                        0                 0                   0   \n",
            "264362                        0                 1                   0   \n",
            "195152                        0                 0                   0   \n",
            "\n",
            "        Wind_Direction_WSW  Wind_Direction_West  \n",
            "239235                   0                    0  \n",
            "355666                   0                    0  \n",
            "246955                   0                    0  \n",
            "264362                   0                    0  \n",
            "195152                   0                    0  \n",
            "\n",
            "[5 rows x 70 columns]\n"
          ]
        }
      ],
      "source": [
        "# Perform One-Hot Encoding on the 'Wind_Direction' column\n",
        "wind_direction_dummies = pd.get_dummies(sampled_data['Wind_Direction'], prefix='Wind_Direction')\n",
        "\n",
        "# Convert True/False to 1/0 explicitly\n",
        "wind_direction_dummies = wind_direction_dummies.astype(int)\n",
        "\n",
        "# Concatenate the new columns with the original dataframe\n",
        "sampled_data = pd.concat([sampled_data, wind_direction_dummies], axis=1)\n",
        "\n",
        "# Drop the original 'Wind_Direction' column\n",
        "sampled_data.drop(columns=['Wind_Direction'], inplace=True)\n",
        "\n",
        "print(sampled_data.head())"
      ]
    },
    {
      "cell_type": "code",
      "execution_count": 544,
      "metadata": {
        "colab": {
          "base_uri": "https://localhost:8080/"
        },
        "id": "hHnc5W_TYjyu",
        "outputId": "5d63e6ac-ab38-454c-c486-0b82b7a5b8b7"
      },
      "outputs": [
        {
          "name": "stdout",
          "output_type": "stream",
          "text": [
            "               ID  Severity  Start_Time  End_Time  Distance(mi)  \\\n",
            "236564   A-681343         2        1087      1117         0.000   \n",
            "173706  A-4161749         2          84       163         1.483   \n",
            "248802  A-6395391         2        1409      1436         0.912   \n",
            "437866  A-1305496         3         716       791         0.000   \n",
            "87250   A-3670719         2        1359        46         0.081   \n",
            "\n",
            "        Temperature(F)  Humidity(%)  Pressure(in)  Visibility(mi)  \\\n",
            "236564            66.0         19.0         26.99            10.0   \n",
            "173706            32.0         48.0         29.96            10.0   \n",
            "248802            75.0         82.0         29.91            10.0   \n",
            "437866            60.0         46.0         29.74            10.0   \n",
            "87250             42.0         85.0         29.25             7.0   \n",
            "\n",
            "        Wind_Speed(mph)  ...  Wind_Direction_SSE  Wind_Direction_SSW  \\\n",
            "236564             20.0  ...                   0                   0   \n",
            "173706              8.0  ...                   0                   0   \n",
            "248802              8.0  ...                   0                   0   \n",
            "437866              6.0  ...                   0                   0   \n",
            "87250               0.0  ...                   0                   0   \n",
            "\n",
            "        Wind_Direction_SW  Wind_Direction_South  Wind_Direction_VAR  \\\n",
            "236564                  0                     0                   0   \n",
            "173706                  0                     0                   0   \n",
            "248802                  0                     0                   0   \n",
            "437866                  0                     0                   0   \n",
            "87250                   0                     0                   0   \n",
            "\n",
            "        Wind_Direction_Variable  Wind_Direction_W  Wind_Direction_WNW  \\\n",
            "236564                        0                 1                   0   \n",
            "173706                        0                 0                   1   \n",
            "248802                        0                 0                   0   \n",
            "437866                        0                 0                   0   \n",
            "87250                         0                 0                   0   \n",
            "\n",
            "        Wind_Direction_WSW  Wind_Direction_West  \n",
            "236564                   0                    0  \n",
            "173706                   0                    0  \n",
            "248802                   0                    0  \n",
            "437866                   0                    0  \n",
            "87250                    0                    0  \n",
            "\n",
            "[5 rows x 70 columns]\n"
          ]
        }
      ],
      "source": [
        "# Do the same for 20k Test Set\n",
        "wind_direction_dummies = pd.get_dummies(test_20k_df['Wind_Direction'], prefix='Wind_Direction')\n",
        "\n",
        "# Convert True/False to 1/0 explicitly\n",
        "wind_direction_dummies = wind_direction_dummies.astype(int)\n",
        "\n",
        "test_20k_df = pd.concat([test_20k_df, wind_direction_dummies], axis=1)\n",
        "\n",
        "test_20k_df.drop(columns=['Wind_Direction'], inplace=True)\n",
        "\n",
        "print(test_20k_df.head())"
      ]
    },
    {
      "cell_type": "code",
      "execution_count": 545,
      "metadata": {
        "colab": {
          "base_uri": "https://localhost:8080/"
        },
        "id": "9NJBTggMJyYj",
        "outputId": "1ec741dd-7400-4c5e-ac19-a092b8188b4f"
      },
      "outputs": [
        {
          "name": "stdout",
          "output_type": "stream",
          "text": [
            "               ID  Severity  Start_Time  End_Time  Distance(mi)  \\\n",
            "239235  A-7056206         1          33        63          0.00   \n",
            "355666  A-7143912         1         484       499          0.00   \n",
            "246955   A-540674         1         809       839          0.15   \n",
            "264362   A-633728         1         458       488          0.00   \n",
            "195152   A-614503         1         349       426          0.00   \n",
            "\n",
            "        Temperature(F)  Humidity(%)  Pressure(in)  Visibility(mi)  \\\n",
            "239235            56.0         90.0         29.71            10.0   \n",
            "355666            52.0         86.0         30.10             8.0   \n",
            "246955            68.0         83.0         29.71            10.0   \n",
            "264362            56.0         20.0         24.61            10.0   \n",
            "195152            79.0         77.0         30.07            10.0   \n",
            "\n",
            "        Wind_Speed(mph)  ...  Wind_Direction_WNW  Wind_Direction_WSW  \\\n",
            "239235              3.0  ...                   0                   0   \n",
            "355666              3.0  ...                   0                   0   \n",
            "246955             13.0  ...                   0                   0   \n",
            "264362              7.0  ...                   0                   0   \n",
            "195152             10.0  ...                   0                   0   \n",
            "\n",
            "        Wind_Direction_West  Weather_Day_of_Week_Friday  \\\n",
            "239235                    0                           0   \n",
            "355666                    0                           0   \n",
            "246955                    0                           0   \n",
            "264362                    0                           1   \n",
            "195152                    0                           0   \n",
            "\n",
            "        Weather_Day_of_Week_Monday  Weather_Day_of_Week_Saturday  \\\n",
            "239235                           0                             0   \n",
            "355666                           0                             0   \n",
            "246955                           0                             0   \n",
            "264362                           0                             0   \n",
            "195152                           1                             0   \n",
            "\n",
            "        Weather_Day_of_Week_Sunday  Weather_Day_of_Week_Thursday  \\\n",
            "239235                           0                             0   \n",
            "355666                           1                             0   \n",
            "246955                           0                             0   \n",
            "264362                           0                             0   \n",
            "195152                           0                             0   \n",
            "\n",
            "        Weather_Day_of_Week_Tuesday  Weather_Day_of_Week_Wednesday  \n",
            "239235                            0                              1  \n",
            "355666                            0                              0  \n",
            "246955                            0                              1  \n",
            "264362                            0                              0  \n",
            "195152                            0                              0  \n",
            "\n",
            "[5 rows x 76 columns]\n"
          ]
        }
      ],
      "source": [
        "# Perform One-Hot Encoding on the 'Weather_Day_of_Week' column\n",
        "weather_day_of_week_dummies = pd.get_dummies(sampled_data['Weather_Day_of_Week'], prefix='Weather_Day_of_Week')\n",
        "\n",
        "# Convert True/False to 1/0 explicitly\n",
        "weather_day_of_week_dummies = weather_day_of_week_dummies.astype(int)\n",
        "\n",
        "# Concatenate the new columns with the original dataframe\n",
        "sampled_data = pd.concat([sampled_data, weather_day_of_week_dummies], axis=1)\n",
        "\n",
        "# Drop the original 'Weather_Day_of_Week' column\n",
        "sampled_data.drop(columns=['Weather_Day_of_Week'], inplace=True)\n",
        "\n",
        "print(sampled_data.head())"
      ]
    },
    {
      "cell_type": "code",
      "execution_count": 546,
      "metadata": {
        "colab": {
          "base_uri": "https://localhost:8080/"
        },
        "id": "kstmmiZSZDKa",
        "outputId": "03bfa4ac-e2ba-4c24-fedd-1c5bf1567710"
      },
      "outputs": [
        {
          "name": "stdout",
          "output_type": "stream",
          "text": [
            "               ID  Severity  Start_Time  End_Time  Distance(mi)  \\\n",
            "236564   A-681343         2        1087      1117         0.000   \n",
            "173706  A-4161749         2          84       163         1.483   \n",
            "248802  A-6395391         2        1409      1436         0.912   \n",
            "437866  A-1305496         3         716       791         0.000   \n",
            "87250   A-3670719         2        1359        46         0.081   \n",
            "\n",
            "        Temperature(F)  Humidity(%)  Pressure(in)  Visibility(mi)  \\\n",
            "236564            66.0         19.0         26.99            10.0   \n",
            "173706            32.0         48.0         29.96            10.0   \n",
            "248802            75.0         82.0         29.91            10.0   \n",
            "437866            60.0         46.0         29.74            10.0   \n",
            "87250             42.0         85.0         29.25             7.0   \n",
            "\n",
            "        Wind_Speed(mph)  ...  Wind_Direction_WNW  Wind_Direction_WSW  \\\n",
            "236564             20.0  ...                   0                   0   \n",
            "173706              8.0  ...                   1                   0   \n",
            "248802              8.0  ...                   0                   0   \n",
            "437866              6.0  ...                   0                   0   \n",
            "87250               0.0  ...                   0                   0   \n",
            "\n",
            "        Wind_Direction_West  Weather_Day_of_Week_Friday  \\\n",
            "236564                    0                           0   \n",
            "173706                    0                           0   \n",
            "248802                    0                           0   \n",
            "437866                    0                           0   \n",
            "87250                     0                           0   \n",
            "\n",
            "        Weather_Day_of_Week_Monday  Weather_Day_of_Week_Saturday  \\\n",
            "236564                           0                             0   \n",
            "173706                           1                             0   \n",
            "248802                           0                             1   \n",
            "437866                           0                             1   \n",
            "87250                            0                             1   \n",
            "\n",
            "        Weather_Day_of_Week_Sunday  Weather_Day_of_Week_Thursday  \\\n",
            "236564                           0                             1   \n",
            "173706                           0                             0   \n",
            "248802                           0                             0   \n",
            "437866                           0                             0   \n",
            "87250                            0                             0   \n",
            "\n",
            "        Weather_Day_of_Week_Tuesday  Weather_Day_of_Week_Wednesday  \n",
            "236564                            0                              0  \n",
            "173706                            0                              0  \n",
            "248802                            0                              0  \n",
            "437866                            0                              0  \n",
            "87250                             0                              0  \n",
            "\n",
            "[5 rows x 76 columns]\n"
          ]
        }
      ],
      "source": [
        "# Do the same for 20k Test Set\n",
        "weather_day_of_week_dummies = pd.get_dummies(test_20k_df['Weather_Day_of_Week'], prefix='Weather_Day_of_Week')\n",
        "\n",
        "# Convert True/False to 1/0 explicitly\n",
        "weather_day_of_week_dummies = weather_day_of_week_dummies.astype(int)\n",
        "\n",
        "test_20k_df = pd.concat([test_20k_df, weather_day_of_week_dummies], axis=1)\n",
        "\n",
        "test_20k_df.drop(columns=['Weather_Day_of_Week'], inplace=True)\n",
        "\n",
        "print(test_20k_df.head())"
      ]
    },
    {
      "cell_type": "markdown",
      "metadata": {
        "id": "OiFYN0C8oOuJ"
      },
      "source": [
        "## Convert Boolean Columns from \"True\"/\"False\" to 1/0"
      ]
    },
    {
      "cell_type": "code",
      "execution_count": 547,
      "metadata": {
        "id": "CwInDuBioZZz"
      },
      "outputs": [],
      "source": [
        "boolean_columns = [\n",
        "    'Amenity', 'Bump', 'Crossing', 'Give_Way', 'Junction', 'No_Exit', 'Railway',\n",
        "    'Roundabout', 'Station', 'Stop', 'Traffic_Calming', 'Traffic_Signal', 'Turning_Loop'\n",
        "]\n",
        "\n",
        "# Convert string 'True'/'False' to actual boolean values\n",
        "sampled_data[boolean_columns] = sampled_data[boolean_columns].replace({'True': True, 'False': False})\n",
        "\n",
        "# Convert True/False to 1/0 for the specified columns\n",
        "sampled_data[boolean_columns] = sampled_data[boolean_columns].astype(int)\n",
        "\n",
        "# print(sampled_data[boolean_columns].head())"
      ]
    },
    {
      "cell_type": "code",
      "execution_count": 548,
      "metadata": {
        "colab": {
          "base_uri": "https://localhost:8080/"
        },
        "id": "JDbh1-7YaVF5",
        "outputId": "c936ba59-35cf-4ee0-de55-1cee512cb7e6"
      },
      "outputs": [
        {
          "name": "stdout",
          "output_type": "stream",
          "text": [
            "        Amenity  Bump  Crossing  Give_Way  Junction  No_Exit  Railway  \\\n",
            "236564        0     0         0         0         0        0        0   \n",
            "173706        0     0         0         0         1        0        0   \n",
            "248802        0     0         1         0         0        0        0   \n",
            "437866        0     0         0         0         0        0        0   \n",
            "87250         0     0         0         0         0        0        0   \n",
            "\n",
            "        Roundabout  Station  Stop  Traffic_Calming  Traffic_Signal  \\\n",
            "236564           0        0     0                0               0   \n",
            "173706           0        0     0                0               0   \n",
            "248802           0        0     0                0               0   \n",
            "437866           0        0     0                0               0   \n",
            "87250            0        0     0                0               0   \n",
            "\n",
            "        Turning_Loop  \n",
            "236564             0  \n",
            "173706             0  \n",
            "248802             0  \n",
            "437866             0  \n",
            "87250              0  \n"
          ]
        }
      ],
      "source": [
        "# Do the same for 20k Test Set\n",
        "test_20k_df[boolean_columns] = test_20k_df[boolean_columns].replace({'True': True, 'False': False})\n",
        "test_20k_df[boolean_columns] = test_20k_df[boolean_columns].astype(int)\n",
        "print(test_20k_df[boolean_columns].head())"
      ]
    },
    {
      "cell_type": "markdown",
      "metadata": {
        "id": "lWYxj_Q0Xnb8"
      },
      "source": [
        "# Train, Validate, Test Split (80-10-10)"
      ]
    },
    {
      "cell_type": "code",
      "execution_count": 549,
      "metadata": {
        "colab": {
          "base_uri": "https://localhost:8080/"
        },
        "id": "_kuEJsqeS-vN",
        "outputId": "e3946e6b-be3f-4bf4-ddee-8136229a749c"
      },
      "outputs": [
        {
          "name": "stdout",
          "output_type": "stream",
          "text": [
            "Training Set Shape: (8000, 76)\n",
            "Validation Set Shape: (1000, 76)\n",
            "Test Set Shape: (1000, 76)\n"
          ]
        },
        {
          "name": "stderr",
          "output_type": "stream",
          "text": [
            "<ipython-input-549-81dee1787789>:1: DeprecationWarning: DataFrameGroupBy.apply operated on the grouping columns. This behavior is deprecated, and in a future version of pandas the grouping columns will be excluded from the operation. Either pass `include_groups=False` to exclude the groupings or explicitly select the grouping columns after groupby to silence this warning.\n",
            "  train_data = sampled_data.groupby('Severity', group_keys=False).apply(lambda x: x.sample(2000, random_state=42))\n"
          ]
        }
      ],
      "source": [
        "train_data = sampled_data.groupby('Severity', group_keys=False).apply(lambda x: x.sample(2000, random_state=42))\n",
        "\n",
        "valid_test_data = sampled_data.drop(train_data.index)\n",
        "\n",
        "validate_data, test_data = train_test_split(valid_test_data, test_size=0.5, random_state=42)\n",
        "\n",
        "print(\"Training Set Shape:\", train_data.shape)\n",
        "print(\"Validation Set Shape:\", validate_data.shape)\n",
        "print(\"Test Set Shape:\", test_data.shape)"
      ]
    },
    {
      "cell_type": "code",
      "execution_count": 421,
      "metadata": {
        "id": "7az52zLlYB_0"
      },
      "outputs": [],
      "source": [
        "# # Split the data into training (80%) and temporary set (20%)\n",
        "# train_data, temp_data = train_test_split(sampled_data, test_size=0.2, random_state=42)\n",
        "\n",
        "# # Split the temporary set into validation (50%) and test (50%) — both 10% of the total data\n",
        "# validate_data, test_data = train_test_split(temp_data, test_size=0.5, random_state=42)\n",
        "\n",
        "# # Check the shapes of the resulting sets\n",
        "# print(\"Training Set Shape:\", train_data.shape)\n",
        "# print(\"Validation Set Shape:\", validate_data.shape)\n",
        "# print(\"Test Set Shape:\", test_data.shape)"
      ]
    },
    {
      "cell_type": "code",
      "execution_count": 550,
      "metadata": {
        "colab": {
          "base_uri": "https://localhost:8080/"
        },
        "id": "UYWTVq3gsr9R",
        "outputId": "ecdf754c-924b-43dd-f58e-1cc21b869f16"
      },
      "outputs": [
        {
          "data": {
            "text/plain": [
              "(8000, 76)"
            ]
          },
          "execution_count": 550,
          "metadata": {},
          "output_type": "execute_result"
        }
      ],
      "source": [
        "train_data.shape"
      ]
    },
    {
      "cell_type": "code",
      "execution_count": 551,
      "metadata": {
        "colab": {
          "base_uri": "https://localhost:8080/"
        },
        "id": "uIYp4bkVmwHN",
        "outputId": "3aa05da7-d78b-4b46-98fb-8c1cd0214a01"
      },
      "outputs": [
        {
          "name": "stdout",
          "output_type": "stream",
          "text": [
            "Number of duplicates between train and test: 0\n"
          ]
        }
      ],
      "source": [
        "# Check for duplicate samples between training and test sets\n",
        "duplicates = pd.DataFrame(train_data).merge(pd.DataFrame(test_data), how='inner')\n",
        "print(\"Number of duplicates between train and test:\", len(duplicates))"
      ]
    },
    {
      "cell_type": "code",
      "execution_count": 552,
      "metadata": {
        "colab": {
          "base_uri": "https://localhost:8080/"
        },
        "id": "TJJk2y4Tm0kq",
        "outputId": "2a040300-06f9-49be-cd62-978ae5724a74"
      },
      "outputs": [
        {
          "name": "stdout",
          "output_type": "stream",
          "text": [
            "Number of duplicates between train and validate: 0\n"
          ]
        }
      ],
      "source": [
        "duplicates = pd.DataFrame(train_data).merge(pd.DataFrame(validate_data), how='inner')\n",
        "print(\"Number of duplicates between train and validate:\", len(duplicates))"
      ]
    },
    {
      "cell_type": "code",
      "execution_count": 553,
      "metadata": {
        "colab": {
          "base_uri": "https://localhost:8080/"
        },
        "id": "4SealVxnm7u7",
        "outputId": "90b72c33-2e4c-436c-f3d6-8747361f2e9e"
      },
      "outputs": [
        {
          "name": "stdout",
          "output_type": "stream",
          "text": [
            "Number of duplicates between validate and test: 0\n"
          ]
        }
      ],
      "source": [
        "duplicates = pd.DataFrame(validate_data).merge(pd.DataFrame(test_data), how='inner')\n",
        "print(\"Number of duplicates between validate and test:\", len(duplicates))"
      ]
    },
    {
      "cell_type": "code",
      "execution_count": 554,
      "metadata": {
        "colab": {
          "base_uri": "https://localhost:8080/"
        },
        "id": "yuuX2NK9a3hA",
        "outputId": "a3a551ba-ceef-489a-fb51-3c4eccf49598"
      },
      "outputs": [
        {
          "name": "stdout",
          "output_type": "stream",
          "text": [
            "Number of duplicates between train and test(20k): 0\n",
            "No duplicate IDs found.\n"
          ]
        }
      ],
      "source": [
        "duplicates = pd.DataFrame(train_data).merge(pd.DataFrame(test_20k_df), how='inner')\n",
        "print(\"Number of duplicates between train and test(20k):\", len(duplicates))\n",
        "\n",
        "duplicate_ids = duplicates[duplicates['ID'].duplicated()]\n",
        "\n",
        "if not duplicate_ids.empty:\n",
        "    print(f\"Number of duplicate IDs: {len(duplicate_ids)}\")\n",
        "    print(\"Here are some duplicate IDs:\")\n",
        "    print(duplicate_ids['ID'].value_counts().head())\n",
        "else:\n",
        "    print(\"No duplicate IDs found.\")"
      ]
    },
    {
      "cell_type": "code",
      "execution_count": 555,
      "metadata": {
        "colab": {
          "base_uri": "https://localhost:8080/"
        },
        "id": "YaFY_4eFbAHp",
        "outputId": "2d4fb978-6455-495a-f1bd-ca0a48548e03"
      },
      "outputs": [
        {
          "name": "stdout",
          "output_type": "stream",
          "text": [
            "Number of duplicates between validate and test(20k): 0\n"
          ]
        }
      ],
      "source": [
        "duplicates = pd.DataFrame(validate_data).merge(pd.DataFrame(test_20k_df), how='inner')\n",
        "print(\"Number of duplicates between validate and test(20k):\", len(duplicates))"
      ]
    },
    {
      "cell_type": "code",
      "execution_count": 556,
      "metadata": {
        "colab": {
          "base_uri": "https://localhost:8080/"
        },
        "id": "NuinBZbabET0",
        "outputId": "70b9532c-995b-4f6e-a08e-13edde963764"
      },
      "outputs": [
        {
          "name": "stdout",
          "output_type": "stream",
          "text": [
            "Number of duplicates between test (1k) and test(20k): 0\n"
          ]
        }
      ],
      "source": [
        "duplicates = pd.DataFrame(test_data).merge(pd.DataFrame(test_20k_df), how='inner')\n",
        "print(\"Number of duplicates between test (1k) and test(20k):\", len(duplicates))"
      ]
    },
    {
      "cell_type": "markdown",
      "metadata": {
        "id": "fe5dL5dwec-N"
      },
      "source": [
        "## Remove ID column"
      ]
    },
    {
      "cell_type": "markdown",
      "metadata": {
        "id": "osHPQ5M5eh7X"
      },
      "source": [
        "We only remove 'ID' at this step because we needed it to check for duplicates"
      ]
    },
    {
      "cell_type": "code",
      "execution_count": 557,
      "metadata": {
        "colab": {
          "base_uri": "https://localhost:8080/"
        },
        "id": "0YhUlnW_eces",
        "outputId": "43322159-2e23-4c83-d03c-fd38af8799a0"
      },
      "outputs": [
        {
          "name": "stdout",
          "output_type": "stream",
          "text": [
            "(8000, 75)\n"
          ]
        }
      ],
      "source": [
        "train_data = train_data.drop('ID', axis=1)\n",
        "print(train_data.shape)"
      ]
    },
    {
      "cell_type": "code",
      "execution_count": 558,
      "metadata": {
        "colab": {
          "base_uri": "https://localhost:8080/"
        },
        "id": "o-0PGlQHg14L",
        "outputId": "026ce403-61cf-43d3-b09e-c46527d52c74"
      },
      "outputs": [
        {
          "name": "stdout",
          "output_type": "stream",
          "text": [
            "(1000, 75)\n"
          ]
        }
      ],
      "source": [
        "validate_data = validate_data.drop('ID', axis=1)\n",
        "print(validate_data.shape)"
      ]
    },
    {
      "cell_type": "code",
      "execution_count": 559,
      "metadata": {
        "colab": {
          "base_uri": "https://localhost:8080/"
        },
        "id": "VFNF1y5Xg52m",
        "outputId": "06bf9ad0-24f7-41f5-aaaf-bf012dd0be16"
      },
      "outputs": [
        {
          "name": "stdout",
          "output_type": "stream",
          "text": [
            "(1000, 75)\n"
          ]
        }
      ],
      "source": [
        "test_data = test_data.drop('ID', axis=1)\n",
        "print(test_data.shape)"
      ]
    },
    {
      "cell_type": "code",
      "execution_count": 560,
      "metadata": {
        "colab": {
          "base_uri": "https://localhost:8080/"
        },
        "id": "cnJIWphYg77C",
        "outputId": "1f890778-f0c2-4ed4-f2dd-dfbb3aa3c2ec"
      },
      "outputs": [
        {
          "name": "stdout",
          "output_type": "stream",
          "text": [
            "(20000, 75)\n"
          ]
        }
      ],
      "source": [
        "test_20k_df = test_20k_df.drop('ID', axis=1)\n",
        "print(test_20k_df.shape)"
      ]
    },
    {
      "cell_type": "code",
      "execution_count": 562,
      "metadata": {
        "id": "8DBzl80hfaSi"
      },
      "outputs": [],
      "source": [
        "save_file_path = '/content'\n",
        "# Save the training dataset\n",
        "train_data.to_csv(f\"{save_file_path}/train_data_v2.csv\", index=False)\n",
        "\n",
        "# Save the validation dataset\n",
        "validate_data.to_csv(f\"{save_file_path}/validate_data_v2.csv\", index=False)\n",
        "\n",
        "# Save the test dataset\n",
        "test_data.to_csv(f\"{save_file_path}/test_data_v2.csv\", index=False)\n",
        "\n",
        "# Save the 20k Test Set\n",
        "test_20k_df.to_csv(f\"{save_file_path}/test_20k_data_v2.csv\", index=False)"
      ]
    },
    {
      "cell_type": "markdown",
      "metadata": {
        "id": "N4Me3RSIhP8a"
      },
      "source": [
        "## Split 20k Test Set into 20 Test Sets"
      ]
    },
    {
      "cell_type": "code",
      "execution_count": 563,
      "metadata": {
        "colab": {
          "base_uri": "https://localhost:8080/"
        },
        "id": "e_ruavCyhLTP",
        "outputId": "e1efa01e-53a8-4588-ca86-700a1c7dbd72"
      },
      "outputs": [
        {
          "name": "stdout",
          "output_type": "stream",
          "text": [
            "Number of splits: 20\n",
            "Length of first split: 1000\n"
          ]
        },
        {
          "name": "stderr",
          "output_type": "stream",
          "text": [
            "/usr/local/lib/python3.11/dist-packages/numpy/_core/fromnumeric.py:57: FutureWarning: 'DataFrame.swapaxes' is deprecated and will be removed in a future version. Please use 'DataFrame.transpose' instead.\n",
            "  return bound(*args, **kwds)\n"
          ]
        }
      ],
      "source": [
        "splits = np.array_split(test_20k_df, 20)\n",
        "\n",
        "# Each item in `splits` is a DataFrame of ~1000 rows\n",
        "print(f\"Number of splits: {len(splits)}\")\n",
        "print(f\"Length of first split: {len(splits[0])}\")"
      ]
    },
    {
      "cell_type": "code",
      "execution_count": 565,
      "metadata": {
        "id": "ddBWBI4Chbd2"
      },
      "outputs": [],
      "source": [
        "split_dfs = []\n",
        "\n",
        "for i in range(20):\n",
        "    start = i * 1000\n",
        "    end = (i + 1) * 1000\n",
        "    split = test_20k_df.iloc[start:end]\n",
        "    split_dfs.append(split)"
      ]
    },
    {
      "cell_type": "code",
      "execution_count": 566,
      "metadata": {
        "id": "zvVWYjAXhg59"
      },
      "outputs": [],
      "source": [
        "for i, chunk in enumerate(splits):\n",
        "    chunk.to_csv(f\"split_{i+1}.csv\", index=False)"
      ]
    }
  ],
  "metadata": {
    "colab": {
      "collapsed_sections": [
        "z-X-nrKKTVeQ",
        "v2OJbZi6ToSr",
        "Xvh1f1QgSlp2",
        "Z7cxg4WjYZZM",
        "2J30FJE-Wub7",
        "rFY3W-tvdFcT",
        "HyQo38x_JyYb",
        "ZjIIpxsIdMCE",
        "23D97Ml7TI6o",
        "LrZ1mdkidy2E",
        "tZx1L5rykoDy",
        "zO1yvCXLk0T-",
        "IopNvK8Ek7SY",
        "YTaxY2erJyYi"
      ],
      "provenance": []
    },
    "kernelspec": {
      "display_name": "venv",
      "language": "python",
      "name": "python3"
    },
    "language_info": {
      "codemirror_mode": {
        "name": "ipython",
        "version": 3
      },
      "file_extension": ".py",
      "mimetype": "text/x-python",
      "name": "python",
      "nbconvert_exporter": "python",
      "pygments_lexer": "ipython3",
      "version": "3.13.2"
    }
  },
  "nbformat": 4,
  "nbformat_minor": 0
}
