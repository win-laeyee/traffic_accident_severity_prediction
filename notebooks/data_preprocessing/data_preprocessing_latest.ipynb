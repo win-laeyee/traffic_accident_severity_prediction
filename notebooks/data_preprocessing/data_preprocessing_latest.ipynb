{
  "cells": [
    {
      "cell_type": "markdown",
      "metadata": {
        "id": "z-X-nrKKTVeQ"
      },
      "source": [
        "# Importing Packages"
      ]
    },
    {
      "cell_type": "code",
      "execution_count": 370,
      "metadata": {
        "id": "loct6dfETUi1"
      },
      "outputs": [],
      "source": [
        "import pandas as pd\n",
        "import numpy as np\n",
        "import matplotlib.pyplot as plt\n",
        "import seaborn as sns\n",
        "\n",
        "from sklearn.preprocessing import LabelEncoder\n",
        "from sklearn.model_selection import train_test_split\n",
        "from sklearn.preprocessing import OneHotEncoder"
      ]
    },
    {
      "cell_type": "markdown",
      "metadata": {
        "id": "v2OJbZi6ToSr"
      },
      "source": [
        "# Loading Dataset"
      ]
    },
    {
      "cell_type": "code",
      "execution_count": 371,
      "metadata": {
        "id": "Ozw4GlpVTn_J"
      },
      "outputs": [],
      "source": [
        "traffic_data = pd.read_csv('../../data/US_Accidents_March23_sampled_500k.csv')"
      ]
    },
    {
      "cell_type": "code",
      "execution_count": 372,
      "metadata": {
        "colab": {
          "base_uri": "https://localhost:8080/"
        },
        "id": "tRsxa2zemNW2",
        "outputId": "78d82cc0-8f73-4099-da4d-70c6c83f6f02"
      },
      "outputs": [
        {
          "name": "stdout",
          "output_type": "stream",
          "text": [
            "               ID   Source  Severity                     Start_Time  \\\n",
            "0       A-2047758  Source2         2            2019-06-12 10:10:56   \n",
            "1       A-4694324  Source1         2  2022-12-03 23:37:14.000000000   \n",
            "2       A-5006183  Source1         2  2022-08-20 13:13:00.000000000   \n",
            "3       A-4237356  Source1         2            2022-02-21 17:43:04   \n",
            "4       A-6690583  Source1         2            2020-12-04 01:46:00   \n",
            "...           ...      ...       ...                            ...   \n",
            "499995  A-6077227  Source1         2            2021-12-15 07:30:00   \n",
            "499996  A-6323243  Source1         2            2021-12-19 16:25:00   \n",
            "499997  A-3789256  Source1         2            2022-04-13 19:28:29   \n",
            "499998  A-7030381  Source1         3            2020-05-15 17:20:56   \n",
            "499999  A-5438901  Source1         2            2022-04-02 23:23:13   \n",
            "\n",
            "                             End_Time  Start_Lat   Start_Lng    End_Lat  \\\n",
            "0                 2019-06-12 10:55:58  30.641211  -91.153481        NaN   \n",
            "1       2022-12-04 01:56:53.000000000  38.990562  -77.399070  38.990037   \n",
            "2       2022-08-20 15:22:45.000000000  34.661189 -120.492822  34.661189   \n",
            "3                 2022-02-21 19:43:23  43.680592  -92.993317  43.680574   \n",
            "4                 2020-12-04 04:13:09  35.395484 -118.985176  35.395476   \n",
            "...                               ...        ...         ...        ...   \n",
            "499995            2021-12-15 07:50:30  45.522510 -123.084104  45.520225   \n",
            "499996            2021-12-19 17:40:37  26.702570  -80.111169  26.703141   \n",
            "499997            2022-04-13 21:33:44  34.561862 -112.259620  34.566822   \n",
            "499998            2020-05-15 17:50:56  38.406680  -78.619310  38.406680   \n",
            "499999            2022-04-03 00:49:48  35.069358  -85.234410  35.070505   \n",
            "\n",
            "           End_Lng  Distance(mi)  ... Roundabout Station   Stop  \\\n",
            "0              NaN         0.000  ...      False   False  False   \n",
            "1       -77.398282         0.056  ...      False   False  False   \n",
            "2      -120.492442         0.022  ...      False   False  False   \n",
            "3       -92.972223         1.054  ...      False   False  False   \n",
            "4      -118.985995         0.046  ...      False   False  False   \n",
            "...            ...           ...  ...        ...     ...    ...   \n",
            "499995 -123.084211         0.158  ...      False   False  False   \n",
            "499996  -80.111133         0.040  ...      False   False  False   \n",
            "499997 -112.267150         0.549  ...      False   False  False   \n",
            "499998  -78.619310         0.000  ...      False   False  False   \n",
            "499999  -85.233836         0.086  ...      False   False  False   \n",
            "\n",
            "       Traffic_Calming Traffic_Signal Turning_Loop Sunrise_Sunset  \\\n",
            "0                False           True        False            Day   \n",
            "1                False          False        False          Night   \n",
            "2                False           True        False            Day   \n",
            "3                False          False        False            Day   \n",
            "4                False          False        False          Night   \n",
            "...                ...            ...          ...            ...   \n",
            "499995           False          False        False          Night   \n",
            "499996           False          False        False            Day   \n",
            "499997           False           True        False          Night   \n",
            "499998           False           True        False            Day   \n",
            "499999           False          False        False          Night   \n",
            "\n",
            "       Civil_Twilight Nautical_Twilight Astronomical_Twilight  \n",
            "0                 Day               Day                   Day  \n",
            "1               Night             Night                 Night  \n",
            "2                 Day               Day                   Day  \n",
            "3                 Day               Day                   Day  \n",
            "4               Night             Night                 Night  \n",
            "...               ...               ...                   ...  \n",
            "499995            Day               Day                   Day  \n",
            "499996            Day               Day                   Day  \n",
            "499997          Night               Day                   Day  \n",
            "499998            Day               Day                   Day  \n",
            "499999          Night             Night                 Night  \n",
            "\n",
            "[500000 rows x 46 columns]\n"
          ]
        }
      ],
      "source": [
        "print(traffic_data)"
      ]
    },
    {
      "cell_type": "markdown",
      "metadata": {
        "id": "Xvh1f1QgSlp2"
      },
      "source": [
        "# Data Cleaning"
      ]
    },
    {
      "cell_type": "code",
      "execution_count": 373,
      "metadata": {
        "colab": {
          "base_uri": "https://localhost:8080/",
          "height": 487
        },
        "id": "X-kdqIRaaI21",
        "outputId": "55506371-7f31-4620-feef-d9a0b2a34435"
      },
      "outputs": [
        {
          "data": {
            "image/png": "[encoded data removed]",
            "text/plain": [
              "<Figure size 800x500 with 1 Axes>"
            ]
          },
          "metadata": {},
          "output_type": "display_data"
        }
      ],
      "source": [
        "# Bar chart of country\n",
        "country_counts = traffic_data['Country'].value_counts()\n",
        "\n",
        "plt.figure(figsize=(8, 5))\n",
        "ax = sns.barplot(x=country_counts.index, y=country_counts.values, hue=country_counts.index, palette='dark:skyblue')\n",
        "\n",
        "plt.xlabel(\"Country\")\n",
        "plt.ylabel(\"Number of Accidents\")\n",
        "plt.title(\"Count of Accidents by Country\")\n",
        "plt.show()"
      ]
    },
    {
      "cell_type": "markdown",
      "metadata": {
        "id": "mq2l_UlkbVg9"
      },
      "source": [
        "## Drop useless columns"
      ]
    },
    {
      "cell_type": "code",
      "execution_count": 374,
      "metadata": {
        "colab": {
          "base_uri": "https://localhost:8080/"
        },
        "id": "PHLyxHlVbVKo",
        "outputId": "9d4e25e4-b2d5-4ff8-d0d5-dbbd981349a0"
      },
      "outputs": [
        {
          "name": "stdout",
          "output_type": "stream",
          "text": [
            "(500000, 29)\n"
          ]
        }
      ],
      "source": [
        "traffic_data = traffic_data.drop(['Source', 'Start_Lat', 'Start_Lng', 'End_Lat', 'End_Lng', 'Street', 'County', 'Country', 'Timezone', 'Airport_Code', 'Wind_Chill(F)', 'Sunrise_Sunset', 'Civil_Twilight', 'Nautical_Twilight', 'Astronomical_Twilight', 'ID','Description'], axis=1)\n",
        "print(traffic_data.shape)"
      ]
    },
    {
      "cell_type": "markdown",
      "metadata": {
        "id": "Z7cxg4WjYZZM"
      },
      "source": [
        "## Removing Missing Values"
      ]
    },
    {
      "cell_type": "code",
      "execution_count": 375,
      "metadata": {
        "colab": {
          "base_uri": "https://localhost:8080/"
        },
        "id": "vat_NRtLR3XY",
        "outputId": "04a1fc28-b4c7-43ba-d7c9-4a8fa7ccb747"
      },
      "outputs": [
        {
          "name": "stdout",
          "output_type": "stream",
          "text": [
            "Index(['Severity', 'Start_Time', 'End_Time', 'Distance(mi)', 'City', 'State',\n",
            "       'Zipcode', 'Weather_Timestamp', 'Temperature(F)', 'Humidity(%)',\n",
            "       'Pressure(in)', 'Visibility(mi)', 'Wind_Direction', 'Wind_Speed(mph)',\n",
            "       'Precipitation(in)', 'Weather_Condition', 'Amenity', 'Bump', 'Crossing',\n",
            "       'Give_Way', 'Junction', 'No_Exit', 'Railway', 'Roundabout', 'Station',\n",
            "       'Stop', 'Traffic_Calming', 'Traffic_Signal', 'Turning_Loop'],\n",
            "      dtype='object')\n"
          ]
        }
      ],
      "source": [
        "print(traffic_data.columns)"
      ]
    },
    {
      "cell_type": "code",
      "execution_count": 376,
      "metadata": {
        "colab": {
          "base_uri": "https://localhost:8080/"
        },
        "id": "ZVcEULHCYZGh",
        "outputId": "a8f3f71d-967e-43d0-fecf-6e62bb007ca5"
      },
      "outputs": [
        {
          "name": "stdout",
          "output_type": "stream",
          "text": [
            "City                     19\n",
            "Zipcode                 116\n",
            "Weather_Timestamp      7674\n",
            "Temperature(F)        10466\n",
            "Humidity(%)           11130\n",
            "Pressure(in)           8928\n",
            "Visibility(mi)        11291\n",
            "Wind_Direction        11197\n",
            "Wind_Speed(mph)       36987\n",
            "Precipitation(in)    142616\n",
            "Weather_Condition     11101\n",
            "dtype: int64 \n",
            "\n",
            "Precipitation(in)    28.5232\n",
            "Wind_Speed(mph)       7.3974\n",
            "Visibility(mi)        2.2582\n",
            "Wind_Direction        2.2394\n",
            "Humidity(%)           2.2260\n",
            "Weather_Condition     2.2202\n",
            "Temperature(F)        2.0932\n",
            "Pressure(in)          1.7856\n",
            "Weather_Timestamp     1.5348\n",
            "Zipcode               0.0232\n",
            "City                  0.0038\n",
            "Stop                  0.0000\n",
            "Junction              0.0000\n",
            "Traffic_Calming       0.0000\n",
            "Traffic_Signal        0.0000\n",
            "Station               0.0000\n",
            "Roundabout            0.0000\n",
            "Railway               0.0000\n",
            "No_Exit               0.0000\n",
            "Severity              0.0000\n",
            "Give_Way              0.0000\n",
            "Crossing              0.0000\n",
            "Bump                  0.0000\n",
            "Amenity               0.0000\n",
            "Start_Time            0.0000\n",
            "State                 0.0000\n",
            "Distance(mi)          0.0000\n",
            "End_Time              0.0000\n",
            "Turning_Loop          0.0000\n",
            "dtype: float64\n"
          ]
        }
      ],
      "source": [
        "missing_values = traffic_data.isnull().sum()\n",
        "print(missing_values[missing_values > 0], '\\n')\n",
        "\n",
        "missing_percentage = (traffic_data.isna().sum() / len(traffic_data)) * 100\n",
        "print(missing_percentage.sort_values(ascending=False))"
      ]
    },
    {
      "cell_type": "code",
      "execution_count": 377,
      "metadata": {
        "colab": {
          "base_uri": "https://localhost:8080/"
        },
        "id": "btrRAvd0ZBGv",
        "outputId": "d4eedc04-83dd-4a0f-de7f-05b875018dc0"
      },
      "outputs": [
        {
          "name": "stdout",
          "output_type": "stream",
          "text": [
            "(348687, 29)\n"
          ]
        }
      ],
      "source": [
        "traffic_data_cleaned = traffic_data.dropna()\n",
        "print(traffic_data_cleaned.shape)"
      ]
    },
    {
      "cell_type": "markdown",
      "metadata": {
        "id": "2J30FJE-Wub7"
      },
      "source": [
        "## Data Sampling"
      ]
    },
    {
      "cell_type": "code",
      "execution_count": 378,
      "metadata": {
        "colab": {
          "base_uri": "https://localhost:8080/",
          "height": 487
        },
        "id": "zkZjLtC_VD6P",
        "outputId": "f59b2262-d79d-46fd-fc9b-aa8737576c8f"
      },
      "outputs": [
        {
          "data": {
            "image/png": "[encoded data removed]",
            "text/plain": [
              "<Figure size 800x500 with 1 Axes>"
            ]
          },
          "metadata": {},
          "output_type": "display_data"
        }
      ],
      "source": [
        "# Bar chart of severity\n",
        "severity_counts = traffic_data_cleaned['Severity'].value_counts()\n",
        "\n",
        "plt.figure(figsize=(8, 5))\n",
        "ax = sns.barplot(x=severity_counts.index, y=severity_counts.values, hue=severity_counts.index, palette='dark:skyblue')\n",
        "\n",
        "plt.xlabel(\"Severity\")\n",
        "plt.ylabel(\"Number of Accidents\")\n",
        "plt.title(\"Count of Accidents by Severity\")\n",
        "plt.show()"
      ]
    },
    {
      "cell_type": "code",
      "execution_count": 379,
      "metadata": {
        "colab": {
          "base_uri": "https://localhost:8080/"
        },
        "id": "BfRHjB-MJahT",
        "outputId": "e2aec174-60fc-407d-9162-ddd278fe252c"
      },
      "outputs": [
        {
          "name": "stdout",
          "output_type": "stream",
          "text": [
            "[294796  41575   8388   3928]\n",
            "Index([2, 3, 4, 1], dtype='int64', name='Severity')\n"
          ]
        }
      ],
      "source": [
        "print(severity_counts.values)\n",
        "print(severity_counts.index)"
      ]
    },
    {
      "cell_type": "markdown",
      "metadata": {
        "id": "phx6nJc4KX5E"
      },
      "source": [
        "### Random Sampling for Valid-Test set\n",
        "Sample valid and test set first to keep original class distribution"
      ]
    },
    {
      "cell_type": "code",
      "execution_count": 380,
      "metadata": {
        "colab": {
          "base_uri": "https://localhost:8080/"
        },
        "id": "Tgxt-Cl2W3oU",
        "outputId": "833239e0-a04a-4e32-ec60-270ac77c2463"
      },
      "outputs": [
        {
          "name": "stdout",
          "output_type": "stream",
          "text": [
            "(2000, 29)\n"
          ]
        }
      ],
      "source": [
        "valid_test_df = traffic_data_cleaned.sample(n=2000, random_state=42)\n",
        "\n",
        "## dropped rows of data that are being used for valid-test set\n",
        "remaining_df = traffic_data_cleaned.drop(valid_test_df.index)\n",
        "\n",
        "print(valid_test_df.shape)\n",
        "\n",
        "# valid_df, test_df = train_test_split(valid_test_df, test_size=0.5, random_state=42)"
      ]
    },
    {
      "cell_type": "code",
      "execution_count": 381,
      "metadata": {
        "colab": {
          "base_uri": "https://localhost:8080/"
        },
        "id": "tyrq18KKYOyU",
        "outputId": "729d7afb-2452-4d46-bf64-aa804daa31a6"
      },
      "outputs": [
        {
          "name": "stdout",
          "output_type": "stream",
          "text": [
            "346687\n"
          ]
        }
      ],
      "source": [
        "print(len(remaining_df))"
      ]
    },
    {
      "cell_type": "markdown",
      "metadata": {
        "id": "LegXpXvma516"
      },
      "source": [
        "### Stratefied Sampling for Training set to ensure balanced training data\n",
        "Use the remaining dataset from previous step, avoid overlapping data in train-test sets"
      ]
    },
    {
      "cell_type": "code",
      "execution_count": 382,
      "metadata": {
        "colab": {
          "base_uri": "https://localhost:8080/"
        },
        "id": "nnv2GXvdJ2D8",
        "outputId": "1b713718-d8b2-4c7f-8c04-2f5dfbbcc706"
      },
      "outputs": [
        {
          "name": "stdout",
          "output_type": "stream",
          "text": [
            "(8000, 29)\n"
          ]
        },
        {
          "name": "stderr",
          "output_type": "stream",
          "text": [
            "/var/folders/m_/kb9mf0b90hb2fvtfccyd41fr0000gn/T/ipykernel_51433/1056142904.py:1: DeprecationWarning: DataFrameGroupBy.apply operated on the grouping columns. This behavior is deprecated, and in a future version of pandas the grouping columns will be excluded from the operation. Either pass `include_groups=False` to exclude the groupings or explicitly select the grouping columns after groupby to silence this warning.\n",
            "  train_df = remaining_df.groupby('Severity', group_keys=False).apply(lambda x: x.sample(2000, random_state=42))\n"
          ]
        }
      ],
      "source": [
        "train_df = remaining_df.groupby('Severity', group_keys=False).apply(lambda x: x.sample(2000, random_state=42))\n",
        "\n",
        "print(train_df.shape)\n",
        "# remaining_df = traffic_data_cleaned.drop(train_df.index)"
      ]
    },
    {
      "cell_type": "markdown",
      "metadata": {
        "id": "_q4T-038bEeo"
      },
      "source": [
        "### Visualize Class Distribution"
      ]
    },
    {
      "cell_type": "code",
      "execution_count": 383,
      "metadata": {
        "colab": {
          "base_uri": "https://localhost:8080/",
          "height": 487
        },
        "id": "U9n-hmulM88J",
        "outputId": "ec8efd94-de0e-43fe-986a-adfe7324a35a"
      },
      "outputs": [
        {
          "data": {
            "image/png": "[encoded data removed]",
            "text/plain": [
              "<Figure size 800x500 with 1 Axes>"
            ]
          },
          "metadata": {},
          "output_type": "display_data"
        }
      ],
      "source": [
        "# Bar chart of severity\n",
        "severity_counts = train_df['Severity'].value_counts()\n",
        "\n",
        "plt.figure(figsize=(8, 5))\n",
        "ax = sns.barplot(x=severity_counts.index, y=severity_counts.values, hue=severity_counts.index, palette='dark:skyblue')\n",
        "\n",
        "plt.xlabel(\"Severity\")\n",
        "plt.ylabel(\"Number of Accidents\")\n",
        "plt.title(\"Severity Distribution for Train Set\")\n",
        "plt.show()"
      ]
    },
    {
      "cell_type": "code",
      "execution_count": 384,
      "metadata": {
        "colab": {
          "base_uri": "https://localhost:8080/",
          "height": 487
        },
        "id": "-ZCr693JN-mZ",
        "outputId": "17d26b1f-ab84-4384-f9c2-9e47af5e0ca0"
      },
      "outputs": [
        {
          "data": {
            "image/png": "[encoded data removed]",
            "text/plain": [
              "<Figure size 800x500 with 1 Axes>"
            ]
          },
          "metadata": {},
          "output_type": "display_data"
        }
      ],
      "source": [
        "severity_counts = valid_test_df['Severity'].value_counts()\n",
        "\n",
        "plt.figure(figsize=(8, 5))\n",
        "ax = sns.barplot(x=severity_counts.index, y=severity_counts.values, hue=severity_counts.index, palette='dark:skyblue')\n",
        "\n",
        "plt.xlabel(\"Severity\")\n",
        "plt.ylabel(\"Number of Accidents\")\n",
        "plt.title(\"Severity Distribution for Validation-Test Set\")\n",
        "plt.show()"
      ]
    },
    {
      "cell_type": "markdown",
      "metadata": {
        "id": "rFY3W-tvdFcT"
      },
      "source": [
        "# Data Preparation"
      ]
    },
    {
      "cell_type": "code",
      "execution_count": 385,
      "metadata": {
        "colab": {
          "base_uri": "https://localhost:8080/"
        },
        "id": "KS1Radq7bMZw",
        "outputId": "696a5db5-4077-4a99-eb3d-079191ed828e"
      },
      "outputs": [
        {
          "name": "stdout",
          "output_type": "stream",
          "text": [
            "(10000, 29)\n"
          ]
        }
      ],
      "source": [
        "## Combine the dataset first since we would need to go through some standardized data preprocessing\n",
        "sampled_data = pd.concat([train_df, valid_test_df], axis=0)\n",
        "print(sampled_data.shape)"
      ]
    },
    {
      "cell_type": "code",
      "execution_count": 386,
      "metadata": {
        "colab": {
          "base_uri": "https://localhost:8080/"
        },
        "id": "zSfLnCKsd02b",
        "outputId": "90bfc7fd-a12d-464b-c746-3e3a4dbb3bb0"
      },
      "outputs": [
        {
          "name": "stdout",
          "output_type": "stream",
          "text": [
            "object\n",
            "datetime64[ns]\n"
          ]
        }
      ],
      "source": [
        "# Check data type of Start_Time\n",
        "print(sampled_data['Start_Time'].dtype)\n",
        "\n",
        "#Convert Start_Time to datetime\n",
        "sampled_data['Start_Time'] = sampled_data['Start_Time'].str.split('.').str[0]  # Remove nanoseconds\n",
        "sampled_data['Start_Time'] = pd.to_datetime(sampled_data['Start_Time'], format='%Y-%m-%d %H:%M:%S')\n",
        "\n",
        "# Check data type of Start_Time\n",
        "print(sampled_data['Start_Time'].dtype)"
      ]
    },
    {
      "cell_type": "code",
      "execution_count": 387,
      "metadata": {
        "colab": {
          "base_uri": "https://localhost:8080/"
        },
        "id": "wa2PY236TOAJ",
        "outputId": "dff2713e-19b0-41f8-aac4-3fc7ce31c7e6"
      },
      "outputs": [
        {
          "name": "stdout",
          "output_type": "stream",
          "text": [
            "object\n",
            "datetime64[ns]\n"
          ]
        }
      ],
      "source": [
        "# Check data type of End_Time\n",
        "print(sampled_data['End_Time'].dtype)\n",
        "\n",
        "#Convert End_Time to datetime\n",
        "sampled_data['End_Time'] = sampled_data['End_Time'].str.split('.').str[0]  # Remove nanoseconds\n",
        "sampled_data['End_Time'] = pd.to_datetime(sampled_data['End_Time'], format='%Y-%m-%d %H:%M:%S')\n",
        "\n",
        "# Check data type of End_Time\n",
        "print(sampled_data['End_Time'].dtype)"
      ]
    },
    {
      "cell_type": "markdown",
      "metadata": {},
      "source": [
        "## Compute Duration Column using Start_Time and End_Time"
      ]
    },
    {
      "cell_type": "code",
      "execution_count": 388,
      "metadata": {
        "colab": {
          "base_uri": "https://localhost:8080/"
        },
        "id": "__TFiiH5d1f-",
        "outputId": "05c43937-f564-4c72-9b43-02f39ba0ee0e"
      },
      "outputs": [
        {
          "name": "stdout",
          "output_type": "stream",
          "text": [
            "239235   0 days 00:30:00\n",
            "355666   0 days 00:15:00\n",
            "246955   0 days 00:29:40\n",
            "264362   0 days 00:29:36\n",
            "195152   0 days 01:16:59\n",
            "               ...      \n",
            "395634   0 days 02:11:15\n",
            "492951   0 days 05:10:04\n",
            "15664    0 days 01:39:00\n",
            "393801   0 days 00:36:00\n",
            "423606   0 days 01:51:30\n",
            "Name: Duration, Length: 10000, dtype: timedelta64[ns]\n"
          ]
        }
      ],
      "source": [
        "sampled_data['Duration'] = sampled_data['End_Time'] - sampled_data['Start_Time']\n",
        "\n",
        "print(sampled_data['Duration'])"
      ]
    },
    {
      "cell_type": "code",
      "execution_count": 389,
      "metadata": {},
      "outputs": [
        {
          "name": "stdout",
          "output_type": "stream",
          "text": [
            "239235     30.000000\n",
            "355666     15.000000\n",
            "246955     29.666667\n",
            "264362     29.600000\n",
            "195152     76.983333\n",
            "             ...    \n",
            "395634    131.250000\n",
            "492951    310.066667\n",
            "15664      99.000000\n",
            "393801     36.000000\n",
            "423606    111.500000\n",
            "Name: Duration, Length: 10000, dtype: float64\n"
          ]
        }
      ],
      "source": [
        "# duration in minutes\n",
        "sampled_data['Duration'] = sampled_data['Duration'].dt.total_seconds() / 60\n",
        "\n",
        "print(sampled_data['Duration'])"
      ]
    },
    {
      "cell_type": "markdown",
      "metadata": {
        "id": "ZjIIpxsIdMCE"
      },
      "source": [
        "## Data Encoding for Start_Time Column (convert to minutes after midnight)"
      ]
    },
    {
      "cell_type": "code",
      "execution_count": 391,
      "metadata": {
        "colab": {
          "base_uri": "https://localhost:8080/"
        },
        "id": "mTy1_gBVSSUN",
        "outputId": "ac31d1da-be28-400d-9c6a-cfcfc2a0f2b7"
      },
      "outputs": [
        {
          "name": "stdout",
          "output_type": "stream",
          "text": [
            "239235      33\n",
            "355666     484\n",
            "246955     809\n",
            "264362     458\n",
            "195152     349\n",
            "          ... \n",
            "395634     861\n",
            "492951     354\n",
            "15664     1251\n",
            "393801     832\n",
            "423606     413\n",
            "Name: Start_Time, Length: 10000, dtype: int32\n"
          ]
        }
      ],
      "source": [
        "#Convert to Minutes After Midnight\n",
        "sampled_data['Start_Time'] = (\n",
        "    sampled_data['Start_Time'].dt.hour * 60 + sampled_data['Start_Time'].dt.minute\n",
        ")\n",
        "\n",
        "print(sampled_data['Start_Time'])"
      ]
    },
    {
      "cell_type": "markdown",
      "metadata": {
        "id": "23D97Ml7TI6o"
      },
      "source": [
        "## Data Encoding for End_Time Column (convert to minutes after midnight)"
      ]
    },
    {
      "cell_type": "code",
      "execution_count": 393,
      "metadata": {
        "colab": {
          "base_uri": "https://localhost:8080/"
        },
        "id": "7BtpYBi6TYOC",
        "outputId": "38a75425-df99-4385-b4ca-8204be12efd2"
      },
      "outputs": [
        {
          "name": "stdout",
          "output_type": "stream",
          "text": [
            "239235      63\n",
            "355666     499\n",
            "246955     839\n",
            "264362     488\n",
            "195152     426\n",
            "          ... \n",
            "395634     992\n",
            "492951     664\n",
            "15664     1350\n",
            "393801     868\n",
            "423606     525\n",
            "Name: End_Time, Length: 10000, dtype: int32\n"
          ]
        }
      ],
      "source": [
        "#Convert to Minutes After Midnight\n",
        "sampled_data['End_Time'] = (\n",
        "    sampled_data['End_Time'].dt.hour * 60 + sampled_data['End_Time'].dt.minute\n",
        ")\n",
        "\n",
        "print(sampled_data['End_Time'])"
      ]
    },
    {
      "cell_type": "markdown",
      "metadata": {
        "id": "LrZ1mdkidy2E"
      },
      "source": [
        "## Encode Zipcode into Region using First Digit"
      ]
    },
    {
      "cell_type": "code",
      "execution_count": 395,
      "metadata": {
        "colab": {
          "base_uri": "https://localhost:8080/",
          "height": 487
        },
        "id": "gXCq79EMfjuP",
        "outputId": "eb73de8f-9d36-4bdd-a54c-32f04f1d8d13"
      },
      "outputs": [
        {
          "data": {
            "image/png": "[encoded data removed]",
            "text/plain": [
              "<Figure size 800x500 with 1 Axes>"
            ]
          },
          "metadata": {},
          "output_type": "display_data"
        }
      ],
      "source": [
        "# Bar chart of zipcode\n",
        "# Extract the first digit of the zip code (assuming the zip code is a string or integer)\n",
        "sampled_data['Region'] = sampled_data['Zipcode'].str[0]\n",
        "\n",
        "zipcode_counts = sampled_data['Region'].value_counts().sort_index()\n",
        "\n",
        "plt.figure(figsize=(8, 5))\n",
        "ax = sns.barplot(x=zipcode_counts.index, y=zipcode_counts.values)\n",
        "\n",
        "plt.xlabel(\"Zipcode First Digit\")\n",
        "plt.ylabel(\"Number of Accidents\")\n",
        "plt.title(\"Count of Accidents by Zipcode First Digit\")\n",
        "plt.show()"
      ]
    },
    {
      "cell_type": "code",
      "execution_count": 396,
      "metadata": {},
      "outputs": [],
      "source": [
        "sampled_data['Region'] = sampled_data['Region'].astype(int)"
      ]
    },
    {
      "cell_type": "code",
      "execution_count": 397,
      "metadata": {},
      "outputs": [
        {
          "name": "stdout",
          "output_type": "stream",
          "text": [
            "(10000, 31)\n",
            "(10000, 30)\n"
          ]
        }
      ],
      "source": [
        "print(sampled_data.shape)\n",
        "sampled_data.drop(columns=['Zipcode'], inplace=True)\n",
        "print(sampled_data.shape)\n"
      ]
    },
    {
      "cell_type": "code",
      "execution_count": 398,
      "metadata": {
        "colab": {
          "base_uri": "https://localhost:8080/",
          "height": 487
        },
        "id": "mXoB-cjCcGGn",
        "outputId": "56713c90-cf8a-4e61-95da-79cb19a9e5fd"
      },
      "outputs": [
        {
          "data": {
            "image/png": "[encoded data removed]",
            "text/plain": [
              "<Figure size 800x500 with 1 Axes>"
            ]
          },
          "metadata": {},
          "output_type": "display_data"
        }
      ],
      "source": [
        "## Compare the distribution with original dataset\n",
        "traffic_data['Region'] = traffic_data['Zipcode'].str[0]\n",
        "\n",
        "zipcode_counts = traffic_data['Region'].value_counts().sort_index()\n",
        "\n",
        "plt.figure(figsize=(8, 5))\n",
        "ax = sns.barplot(x=zipcode_counts.index, y=zipcode_counts.values)\n",
        "\n",
        "plt.xlabel(\"Zipcode First Digit\")\n",
        "plt.ylabel(\"Number of Accidents\")\n",
        "plt.title(\"Count of Accidents by Zipcode First Digit\")\n",
        "plt.show()"
      ]
    },
    {
      "cell_type": "markdown",
      "metadata": {
        "id": "tZx1L5rykoDy"
      },
      "source": [
        "## Encode 'State' into Top 3 States and Others"
      ]
    },
    {
      "cell_type": "code",
      "execution_count": 399,
      "metadata": {
        "colab": {
          "base_uri": "https://localhost:8080/",
          "height": 487
        },
        "id": "orwC_9C_fGrd",
        "outputId": "341a6c9a-43b5-4095-b3cd-4eb05f524884"
      },
      "outputs": [
        {
          "data": {
            "image/png": "[encoded data removed]",
            "text/plain": [
              "<Figure size 800x500 with 1 Axes>"
            ]
          },
          "metadata": {},
          "output_type": "display_data"
        }
      ],
      "source": [
        "# Bar chart of state\n",
        "## Use the original traffic data since the sampled data distribution might be distorted due to stratefied sampling\n",
        "state_counts = remaining_df['State'].value_counts()\n",
        "\n",
        "plt.figure(figsize=(8, 5))\n",
        "ax = sns.barplot(x=state_counts.index, y=state_counts.values, hue=state_counts.index, palette='dark:skyblue')\n",
        "\n",
        "plt.xlabel(\"State\")\n",
        "plt.ylabel(\"Number of Accidents\")\n",
        "plt.title(\"Count of Accidents by State\")\n",
        "plt.show()"
      ]
    },
    {
      "cell_type": "code",
      "execution_count": 400,
      "metadata": {
        "colab": {
          "base_uri": "https://localhost:8080/",
          "height": 487
        },
        "id": "Dq9ERApJkzxq",
        "outputId": "d6875dcb-b0c6-4acc-c759-acd83d10cc94"
      },
      "outputs": [
        {
          "data": {
            "image/png": "[encoded data removed]",
            "text/plain": [
              "<Figure size 800x500 with 1 Axes>"
            ]
          },
          "metadata": {},
          "output_type": "display_data"
        }
      ],
      "source": [
        "# Get the top 3 states\n",
        "top_3 = state_counts.nlargest(3)\n",
        "\n",
        "# Create a mapping where top 3 states are kept, and others are labeled as 'Others'\n",
        "state_mapping = state_counts.index.to_series().apply(lambda x: x if x in top_3.index else 'Others')\n",
        "\n",
        "# Apply the mapping to the 'State' column\n",
        "sampled_data['State'] = sampled_data['State'].map(state_mapping)\n",
        "\n",
        "# new Bar Chart for State\n",
        "state_counts = sampled_data['State'].value_counts()\n",
        "plt.figure(figsize=(8, 5))\n",
        "ax = sns.barplot(x=state_counts.index, y=state_counts.values, hue=state_counts.index, palette='dark:skyblue')\n",
        "\n",
        "plt.xlabel(\"State\")\n",
        "plt.ylabel(\"Number of Accidents\")\n",
        "plt.title(\"Count of Accidents by State (Modified)\")\n",
        "plt.show()"
      ]
    },
    {
      "cell_type": "code",
      "execution_count": 401,
      "metadata": {
        "id": "sCzvSdAZVb7y"
      },
      "outputs": [
        {
          "name": "stdout",
          "output_type": "stream",
          "text": [
            "        Severity  Start_Time  End_Time  Distance(mi)         City  \\\n",
            "239235         1          33        63          0.00  Pope Valley   \n",
            "355666         1         484       499          0.00    Sausalito   \n",
            "246955         1         809       839          0.15       Sumner   \n",
            "264362         1         458       488          0.00  Albuquerque   \n",
            "195152         1         349       426          0.00        Miami   \n",
            "\n",
            "          Weather_Timestamp  Temperature(F)  Humidity(%)  Pressure(in)  \\\n",
            "239235  2020-06-24 00:53:00            56.0         90.0         29.71   \n",
            "355666  2020-03-29 07:56:00            52.0         86.0         30.10   \n",
            "246955  2022-08-10 13:08:00            68.0         83.0         29.71   \n",
            "264362  2022-04-29 07:52:00            56.0         20.0         24.61   \n",
            "195152  2022-05-23 05:53:00            79.0         77.0         30.07   \n",
            "\n",
            "        Visibility(mi)  ...   Stop  Traffic_Calming  Traffic_Signal  \\\n",
            "239235            10.0  ...  False            False           False   \n",
            "355666             8.0  ...  False            False           False   \n",
            "246955            10.0  ...  False            False           False   \n",
            "264362            10.0  ...  False            False           False   \n",
            "195152            10.0  ...  False            False           False   \n",
            "\n",
            "       Turning_Loop   Duration  Region  State_CA  State_FL  State_Others  \\\n",
            "239235        False  30.000000       9         1         0             0   \n",
            "355666        False  15.000000       9         1         0             0   \n",
            "246955        False  29.666667       9         0         0             1   \n",
            "264362        False  29.600000       8         0         0             1   \n",
            "195152        False  76.983333       3         0         1             0   \n",
            "\n",
            "        State_TX  \n",
            "239235         0  \n",
            "355666         0  \n",
            "246955         0  \n",
            "264362         0  \n",
            "195152         0  \n",
            "\n",
            "[5 rows x 33 columns]\n"
          ]
        }
      ],
      "source": [
        "# Perform One-Hot Encoding on the 'State' column\n",
        "state_dummies = pd.get_dummies(sampled_data['State'], prefix='State')\n",
        "\n",
        "# Convert True/False to 1/0 explicitly\n",
        "state_dummies = state_dummies.astype(int)\n",
        "\n",
        "# Concatenate the new columns with the original dataframe\n",
        "sampled_data = pd.concat([sampled_data, state_dummies], axis=1)\n",
        "\n",
        "# Drop the original 'State' column\n",
        "sampled_data.drop(columns=['State'], inplace=True)\n",
        "\n",
        "print(sampled_data.head())"
      ]
    },
    {
      "cell_type": "markdown",
      "metadata": {
        "id": "zO1yvCXLk0T-"
      },
      "source": [
        "## Encode 'City' into Top 5 Cities and Others"
      ]
    },
    {
      "cell_type": "code",
      "execution_count": 402,
      "metadata": {
        "colab": {
          "base_uri": "https://localhost:8080/",
          "height": 487
        },
        "id": "5DVBgrY9n5dq",
        "outputId": "575907f7-5dde-4bb0-8819-39a9d64d2c55"
      },
      "outputs": [
        {
          "data": {
            "image/png": "[encoded data removed]",
            "text/plain": [
              "<Figure size 800x500 with 1 Axes>"
            ]
          },
          "metadata": {},
          "output_type": "display_data"
        }
      ],
      "source": [
        "# Bar chart of city\n",
        "## Use remaining_df (original dataset without valid-test set, to prevent data leakage and maintaining original data distribution)\n",
        "city_counts = remaining_df['City'].value_counts()\n",
        "\n",
        "plt.figure(figsize=(8, 5))\n",
        "ax = sns.barplot(x=city_counts.index, y=city_counts.values, hue=city_counts.index, palette='dark:skyblue')\n",
        "\n",
        "plt.xlabel(\"City\")\n",
        "plt.ylabel(\"Number of Accidents\")\n",
        "plt.title(\"Count of Accidents by City\")\n",
        "plt.show()"
      ]
    },
    {
      "cell_type": "code",
      "execution_count": 403,
      "metadata": {
        "colab": {
          "base_uri": "https://localhost:8080/",
          "height": 487
        },
        "id": "ScOGj2Y24SbS",
        "outputId": "5891ecae-be70-40a2-d3c1-4f17eb3f1508"
      },
      "outputs": [
        {
          "data": {
            "image/png": "[encoded data removed]",
            "text/plain": [
              "<Figure size 800x500 with 1 Axes>"
            ]
          },
          "metadata": {},
          "output_type": "display_data"
        }
      ],
      "source": [
        "# Get the top 5 cities\n",
        "top_5 = city_counts.nlargest(5)\n",
        "\n",
        "# Create a mapping where top 5 cities are kept, and others are labeled as 'Others'\n",
        "city_mapping = city_counts.index.to_series().apply(lambda x: x if x in top_5.index else 'Others')\n",
        "\n",
        "# Apply the mapping to the 'City' column\n",
        "sampled_data['City'] = sampled_data['City'].map(city_mapping)\n",
        "\n",
        "# new Bar Chart for City\n",
        "city_counts = sampled_data['City'].value_counts()\n",
        "plt.figure(figsize=(8, 5))\n",
        "ax = sns.barplot(x=city_counts.index, y=city_counts.values, hue=city_counts.index, palette='dark:skyblue')\n",
        "\n",
        "plt.xlabel(\"City\")\n",
        "plt.ylabel(\"Number of Accidents\")\n",
        "plt.title(\"Count of Accidents by City (Modified)\")\n",
        "plt.show()"
      ]
    },
    {
      "cell_type": "code",
      "execution_count": 404,
      "metadata": {
        "id": "D0wFuSeQWFf-"
      },
      "outputs": [],
      "source": [
        "# Perform One-Hot Encoding on the 'City' column\n",
        "city_dummies = pd.get_dummies(sampled_data['City'], prefix='City')\n",
        "\n",
        "# Convert True/False to 1/0 explicitly\n",
        "city_dummies = city_dummies.astype(int)\n",
        "\n",
        "# Concatenate the new columns with the original dataframe\n",
        "sampled_data = pd.concat([sampled_data, city_dummies], axis=1)\n",
        "\n",
        "# Drop the original 'City' column\n",
        "sampled_data.drop(columns=['City'], inplace=True)\n",
        "\n",
        "#print(sampled_data.head())"
      ]
    },
    {
      "cell_type": "markdown",
      "metadata": {
        "id": "IopNvK8Ek7SY"
      },
      "source": [
        "## Cluster 'Weather_Condition' into 6 Broad Categories then One-Hot Encoding\n"
      ]
    },
    {
      "cell_type": "code",
      "execution_count": 405,
      "metadata": {
        "colab": {
          "base_uri": "https://localhost:8080/"
        },
        "id": "RdpjeiggmikH",
        "outputId": "b57aab10-b139-4149-b692-bf32963d2628"
      },
      "outputs": [
        {
          "name": "stdout",
          "output_type": "stream",
          "text": [
            "['Fair' 'Wintry Mix' 'Light Rain' 'Cloudy' 'Mostly Cloudy' 'Partly Cloudy'\n",
            " 'Fog' 'T-Storm' 'Light Snow' 'Overcast' 'Thunder'\n",
            " 'Light Rain with Thunder' 'Rain' 'Showers in the Vicinity'\n",
            " 'Mostly Cloudy / Windy' 'Heavy Rain' 'Cloudy / Windy' 'Light Drizzle'\n",
            " 'Heavy T-Storm' 'Light Rain / Windy' 'Smoke' 'Blowing Dust / Windy'\n",
            " 'Haze' 'N/A Precipitation' 'Thunder in the Vicinity' 'Snow'\n",
            " 'Scattered Clouds' 'Heavy Thunderstorms and Rain' 'Fair / Windy'\n",
            " 'Patches of Fog' 'Light Snow / Windy' 'Blowing Snow / Windy' 'Drizzle'\n",
            " 'T-Storm / Windy' 'Partly Cloudy / Windy' 'Shallow Fog' 'Clear'\n",
            " 'Thunderstorms and Rain' 'Heavy Rain / Windy' 'Heavy Snow / Windy'\n",
            " 'Light Thunderstorms and Rain' 'Rain / Windy' 'Light Freezing Rain'\n",
            " 'Heavy Snow' 'Light Ice Pellets' 'Light Freezing Drizzle'\n",
            " 'Heavy T-Storm / Windy' 'Heavy Drizzle' 'Sleet' 'Mist'\n",
            " 'Light Rain Shower' 'Haze / Windy' 'Snow and Sleet' 'Snow / Windy'\n",
            " 'Thunderstorm' 'Fog / Windy' 'Sleet / Windy' 'Light Sleet'\n",
            " 'Sand / Dust Whirlwinds' 'Squalls / Windy' 'Thunder / Wintry Mix'\n",
            " 'Freezing Drizzle' 'Light Hail' 'Blowing Snow' 'Blowing Dust'\n",
            " 'Drizzle and Fog' 'Thunder / Windy' 'Small Hail' 'Ice Pellets'\n",
            " 'Light Freezing Fog' 'Funnel Cloud' 'Light Freezing Rain / Windy'\n",
            " 'Light Drizzle / Windy' 'Partial Fog / Windy' 'Hail' 'Snow and Thunder'\n",
            " 'Wintry Mix / Windy' 'Light Snow and Sleet' 'Freezing Rain'\n",
            " 'Light Snow Shower' 'Tornado' 'Light Rain Showers'\n",
            " 'Light Snow with Thunder' 'Smoke / Windy' 'Widespread Dust / Windy'\n",
            " 'Light Snow and Sleet / Windy' 'Snow and Sleet / Windy' 'Partial Fog'\n",
            " 'Drizzle / Windy' 'Heavy Sleet' 'Light Rain Shower / Windy'\n",
            " 'Light Thunderstorms and Snow' 'Rain Showers' 'Light Snow Grains'\n",
            " 'Thunder and Hail' 'Drifting Snow / Windy' 'Light Blowing Snow']\n"
          ]
        }
      ],
      "source": [
        "## Using remaining_df to get more weather_condition categories but still excluding valid and test data\n",
        "print(remaining_df['Weather_Condition'].unique())"
      ]
    },
    {
      "cell_type": "code",
      "execution_count": 406,
      "metadata": {
        "id": "HhpueYeP8XfY"
      },
      "outputs": [],
      "source": [
        "# Mapping for standardizing weather conditions to 5 categories and \"Others\"\n",
        "weather_mapping = {\n",
        "    # Cloud is grouped in the same category as Clear as cloudy doesnt really affect traffic conditions that much\n",
        "    'Clear': 'Clear / Cloudy', 'Cloudy': 'Clear / Cloudy', 'Partly Cloudy': 'Clear / Cloudy',\n",
        "    'Mostly Cloudy': 'Clear / Cloudy', 'Overcast': 'Clear / Cloudy', 'Fair': 'Clear / Cloudy',\n",
        "    'Fair / Windy': 'Clear / Cloudy', 'Mostly Cloudy / Windy': 'Clear / Cloudy', 'Partly Cloudy / Windy': 'Clear / Cloudy',\n",
        "    'Cloudy / Windy': 'Clear / Cloudy', 'Scattered Clouds': 'Clear / Cloudy',\n",
        "\n",
        "    'Light Rain': 'Rain', 'Rain': 'Rain', 'Heavy Rain': 'Rain', 'Light Rain Shower': 'Rain',\n",
        "    'Rain / Windy': 'Rain', 'Heavy Rain / Windy': 'Rain', 'Drizzle': 'Rain',\n",
        "    'Light Freezing Drizzle': 'Rain', 'Light Rain with Thunder': 'Rain', 'Light Drizzle': 'Rain',\n",
        "    'Light Freezing Rain': 'Rain', 'Freezing Drizzle': 'Rain', 'Showers in the Vicinity': 'Rain',\n",
        "    'Light Rain / Windy': 'Rain', 'Heavy Drizzle': 'Rain', 'Light Freezing Rain / Windy': 'Rain',\n",
        "    'Light Drizzle / Windy': 'Rain', 'Freezing Rain': 'Rain', 'Light Rain Showers': 'Rain',\n",
        "    'Light Rain Shower / Windy': 'Rain', 'Rain Showers': 'Rain', 'Drizzle / Windy': 'Rain',\n",
        "\n",
        "    'Light Snow': 'Snow', 'Snow': 'Snow', 'Heavy Snow': 'Snow', 'Snow / Windy': 'Snow',\n",
        "    'Light Snow Shower': 'Snow', 'Snow Grains': 'Snow', 'Blowing Snow': 'Snow',\n",
        "    'Light Snow / Windy': 'Snow', 'Heavy Snow / Windy': 'Snow', 'Light Snow with Thunder': 'Snow',\n",
        "    'Light Snow and Sleet': 'Snow', 'Snow and Sleet': 'Snow', 'Sleet / Windy': 'Snow',\n",
        "    'Light Snow Showers': 'Snow', 'Light Snow and Sleet / Windy': 'Snow', 'Snow and Sleet / Windy': 'Snow',\n",
        "    'Sleet': 'Snow', 'Light Sleet': 'Snow', 'Light Snow Showers': 'Snow', 'Ice Pellets': 'Snow',\n",
        "    'Blowing Snow': 'Snow', 'Drifting Snow / Windy': 'Snow', 'Blowing Snow / Windy': 'Snow',\n",
        "    'Snow and Thunder': 'Snow', 'Wintry Mix / Windy': 'Snow', 'Heavy Sleet': 'Snow',\n",
        "    'Light Snow Grains': 'Snow', 'Light Blowing Snow': 'Snow', 'Light Ice Pellets': 'Snow',\n",
        "\n",
        "    'Fog': 'Fog / Low Visibility', 'Shallow Fog': 'Fog / Low Visibility', 'Mist': 'Fog / Low Visibility',\n",
        "    'Light Freezing Fog': 'Fog / Low Visibility', 'Fog / Windy': 'Fog / Low Visibility',\n",
        "    'Partial Fog / Windy': 'Fog / Low Visibility', 'Drizzle and Fog': 'Fog / Low Visibility',\n",
        "    'Patches of Fog': 'Fog / Low Visibility', 'Haze / Windy': 'Fog / Low Visibility',\n",
        "    'Partial Fog': 'Fog / Low Visibility', 'Smoke': 'Fog / Low Visibility', 'Haze': 'Fog / Low Visibility',\n",
        "    'Blowing Dust': 'Fog / Low Visibility', 'Blowing Dust / Windy': 'Fog / Low Visibility',\n",
        "    'Sand / Dust Whirlwinds': 'Fog / Low Visibility', 'Widespread Dust': 'Fog / Low Visibility',\n",
        "    'Smoke / Windy': 'Fog / Low Visibility', 'Widespread Dust / Windy': 'Fog / Low Visibility',\n",
        "\n",
        "    'Thunderstorm': 'Thunderstorms / Severe Weather', 'T-Storm': 'Thunderstorms / Severe Weather',\n",
        "    'Heavy T-Storm': 'Thunderstorms / Severe Weather', 'Thunderstorms and Rain': 'Thunderstorms / Severe Weather',\n",
        "    'Light Thunderstorms and Rain': 'Thunderstorms / Severe Weather', 'Thunder / Windy': 'Thunderstorms / Severe Weather',\n",
        "    'Thunder in the Vicinity': 'Thunderstorms / Severe Weather', 'Heavy Thunderstorms and Rain': 'Thunderstorms / Severe Weather',\n",
        "    'Tornado': 'Thunderstorms / Severe Weather', 'Thunder / Wintry Mix': 'Thunderstorms / Severe Weather', 'Light Thunderstorms and Snow': 'Thunderstorms / Severe Weather',\n",
        "    'Wintry Mix': 'Thunderstorms / Severe Weather', 'Thunder': 'Thunderstorms / Severe Weather', 'T-Storm / Windy': 'Thunderstorms / Severe Weather',\n",
        "    'Heavy T-Storm / Windy': 'Thunderstorms / Severe Weather', 'Funnel Cloud': 'Thunderstorms / Severe Weather', 'Thunder and Hail': 'Thunderstorms / Severe Weather',\n",
        "    'Hail': 'Thunderstorms / Severe Weather', 'Squalls': 'Thunderstorms / Severe Weather', 'Volcanic Ash': 'Thunderstorms / Severe Weather',\n",
        "    'Squalls / Windy': 'Thunderstorms / Severe Weather', 'Small Hail': 'Thunderstorms / Severe Weather', 'Light Hail': 'Thunderstorms / Severe Weather',\n",
        "\n",
        "    # Grouping other categories as \"Others\"\n",
        "    'N/A Precipitation': 'Others'\n",
        "}\n",
        "\n",
        "sampled_data['Weather_Condition'] = sampled_data['Weather_Condition'].map(weather_mapping).fillna('Others')\n"
      ]
    },
    {
      "cell_type": "code",
      "execution_count": 407,
      "metadata": {
        "colab": {
          "base_uri": "https://localhost:8080/"
        },
        "id": "p27JEAV4SkS8",
        "outputId": "fc8c450f-44b3-4c1c-bebd-0719765771f5"
      },
      "outputs": [
        {
          "name": "stdout",
          "output_type": "stream",
          "text": [
            "239235    Clear / Cloudy\n",
            "355666    Clear / Cloudy\n",
            "246955    Clear / Cloudy\n",
            "264362    Clear / Cloudy\n",
            "195152    Clear / Cloudy\n",
            "               ...      \n",
            "395634    Clear / Cloudy\n",
            "492951    Clear / Cloudy\n",
            "15664     Clear / Cloudy\n",
            "393801    Clear / Cloudy\n",
            "423606    Clear / Cloudy\n",
            "Name: Weather_Condition, Length: 10000, dtype: object\n"
          ]
        }
      ],
      "source": [
        "print(sampled_data['Weather_Condition'])"
      ]
    },
    {
      "cell_type": "code",
      "execution_count": 409,
      "metadata": {
        "colab": {
          "base_uri": "https://localhost:8080/"
        },
        "id": "aqmJOfC-Ww7A",
        "outputId": "2204c745-e04b-42e1-f93e-104d6b62e662"
      },
      "outputs": [
        {
          "name": "stdout",
          "output_type": "stream",
          "text": [
            "        Severity  Start_Time  End_Time  Distance(mi)    Weather_Timestamp  \\\n",
            "239235         1          33        63          0.00  2020-06-24 00:53:00   \n",
            "355666         1         484       499          0.00  2020-03-29 07:56:00   \n",
            "246955         1         809       839          0.15  2022-08-10 13:08:00   \n",
            "264362         1         458       488          0.00  2022-04-29 07:52:00   \n",
            "195152         1         349       426          0.00  2022-05-23 05:53:00   \n",
            "\n",
            "        Temperature(F)  Humidity(%)  Pressure(in)  Visibility(mi)  \\\n",
            "239235            56.0         90.0         29.71            10.0   \n",
            "355666            52.0         86.0         30.10             8.0   \n",
            "246955            68.0         83.0         29.71            10.0   \n",
            "264362            56.0         20.0         24.61            10.0   \n",
            "195152            79.0         77.0         30.07            10.0   \n",
            "\n",
            "       Wind_Direction  ...  City_Los Angeles  City_Miami  City_Orlando  \\\n",
            "239235              S  ...                 0           0             0   \n",
            "355666            SSE  ...                 0           0             0   \n",
            "246955             SW  ...                 0           0             0   \n",
            "264362              W  ...                 0           0             0   \n",
            "195152            ESE  ...                 0           1             0   \n",
            "\n",
            "        City_Others  Weather_Condition_Clear / Cloudy  \\\n",
            "239235            1                                 1   \n",
            "355666            1                                 1   \n",
            "246955            1                                 1   \n",
            "264362            1                                 1   \n",
            "195152            0                                 1   \n",
            "\n",
            "        Weather_Condition_Fog / Low Visibility  Weather_Condition_Others  \\\n",
            "239235                                       0                         0   \n",
            "355666                                       0                         0   \n",
            "246955                                       0                         0   \n",
            "264362                                       0                         0   \n",
            "195152                                       0                         0   \n",
            "\n",
            "        Weather_Condition_Rain  Weather_Condition_Snow  \\\n",
            "239235                       0                       0   \n",
            "355666                       0                       0   \n",
            "246955                       0                       0   \n",
            "264362                       0                       0   \n",
            "195152                       0                       0   \n",
            "\n",
            "        Weather_Condition_Thunderstorms / Severe Weather  \n",
            "239235                                                 0  \n",
            "355666                                                 0  \n",
            "246955                                                 0  \n",
            "264362                                                 0  \n",
            "195152                                                 0  \n",
            "\n",
            "[5 rows x 43 columns]\n"
          ]
        }
      ],
      "source": [
        "# Perform One-Hot Encoding on the 'Weather_Condition' column\n",
        "weather_condition_dummies = pd.get_dummies(sampled_data['Weather_Condition'], prefix='Weather_Condition')\n",
        "\n",
        "# Convert True/False to 1/0 explicitly\n",
        "weather_condition_dummies = weather_condition_dummies.astype(int)\n",
        "\n",
        "# Concatenate the new columns with the original dataframe\n",
        "sampled_data = pd.concat([sampled_data, weather_condition_dummies], axis=1)\n",
        "\n",
        "# Drop the original 'Weather_Condition' column\n",
        "sampled_data.drop(columns=['Weather_Condition'], inplace=True)\n",
        "\n",
        "print(sampled_data.head())"
      ]
    },
    {
      "cell_type": "markdown",
      "metadata": {},
      "source": [
        "## Extract Features from Weather Timestamp"
      ]
    },
    {
      "cell_type": "code",
      "execution_count": 317,
      "metadata": {},
      "outputs": [],
      "source": [
        "def encode_timestamp(df):\n",
        "  df['Weather_Timestamp'] = pd.to_datetime(df['Weather_Timestamp'], errors='coerce')\n",
        "\n",
        "  # Extract features\n",
        "  df['Weather_Year'] = df['Weather_Timestamp'].dt.year\n",
        "  df['Weather_Month'] = df['Weather_Timestamp'].dt.month\n",
        "  df['Weather_Day'] = df['Weather_Timestamp'].dt.day\n",
        "  df['Weather_Hour'] = df['Weather_Timestamp'].dt.hour\n",
        "  df['Weather_Day_of_Week'] = df['Weather_Timestamp'].dt.day_name()  # Monday, Tuesday\n",
        "\n",
        "  df.drop(columns=['Weather_Timestamp'], inplace=True)\n",
        "  return df"
      ]
    },
    {
      "cell_type": "code",
      "execution_count": 318,
      "metadata": {},
      "outputs": [],
      "source": [
        "sampled_data = encode_timestamp(sampled_data)"
      ]
    },
    {
      "cell_type": "markdown",
      "metadata": {},
      "source": [
        "## Encode Wind Direction, Weather Day of Week"
      ]
    },
    {
      "cell_type": "code",
      "execution_count": 319,
      "metadata": {},
      "outputs": [
        {
          "name": "stdout",
          "output_type": "stream",
          "text": [
            "        Severity  Start_Time  End_Time  Distance(mi)  Temperature(F)  \\\n",
            "239235         1          33        63          0.00            56.0   \n",
            "355666         1         484       499          0.00            52.0   \n",
            "246955         1         809       839          0.15            68.0   \n",
            "264362         1         458       488          0.00            56.0   \n",
            "195152         1         349       426          0.00            79.0   \n",
            "\n",
            "        Humidity(%)  Pressure(in)  Visibility(mi)  Wind_Speed(mph)  \\\n",
            "239235         90.0         29.71            10.0              3.0   \n",
            "355666         86.0         30.10             8.0              3.0   \n",
            "246955         83.0         29.71            10.0             13.0   \n",
            "264362         20.0         24.61            10.0              7.0   \n",
            "195152         77.0         30.07            10.0             10.0   \n",
            "\n",
            "        Precipitation(in)  ...  Wind_Direction_SSE  Wind_Direction_SSW  \\\n",
            "239235                0.0  ...                   0                   0   \n",
            "355666                0.0  ...                   1                   0   \n",
            "246955                0.0  ...                   0                   0   \n",
            "264362                0.0  ...                   0                   0   \n",
            "195152                0.0  ...                   0                   0   \n",
            "\n",
            "        Wind_Direction_SW  Wind_Direction_South  Wind_Direction_VAR  \\\n",
            "239235                  0                     0                   0   \n",
            "355666                  0                     0                   0   \n",
            "246955                  1                     0                   0   \n",
            "264362                  0                     0                   0   \n",
            "195152                  0                     0                   0   \n",
            "\n",
            "        Wind_Direction_Variable  Wind_Direction_W  Wind_Direction_WNW  \\\n",
            "239235                        0                 0                   0   \n",
            "355666                        0                 0                   0   \n",
            "246955                        0                 0                   0   \n",
            "264362                        0                 1                   0   \n",
            "195152                        0                 0                   0   \n",
            "\n",
            "        Wind_Direction_WSW  Wind_Direction_West  \n",
            "239235                   0                    0  \n",
            "355666                   0                    0  \n",
            "246955                   0                    0  \n",
            "264362                   0                    0  \n",
            "195152                   0                    0  \n",
            "\n",
            "[5 rows x 69 columns]\n"
          ]
        }
      ],
      "source": [
        "# Perform One-Hot Encoding on the 'Wind_Direction' column\n",
        "wind_direction_dummies = pd.get_dummies(sampled_data['Wind_Direction'], prefix='Wind_Direction')\n",
        "\n",
        "# Convert True/False to 1/0 explicitly\n",
        "wind_direction_dummies = wind_direction_dummies.astype(int)\n",
        "\n",
        "# Concatenate the new columns with the original dataframe\n",
        "sampled_data = pd.concat([sampled_data, wind_direction_dummies], axis=1)\n",
        "\n",
        "# Drop the original 'Wind_Direction' column\n",
        "sampled_data.drop(columns=['Wind_Direction'], inplace=True)\n",
        "\n",
        "print(sampled_data.head())"
      ]
    },
    {
      "cell_type": "code",
      "execution_count": 320,
      "metadata": {},
      "outputs": [
        {
          "name": "stdout",
          "output_type": "stream",
          "text": [
            "        Severity  Start_Time  End_Time  Distance(mi)  Temperature(F)  \\\n",
            "239235         1          33        63          0.00            56.0   \n",
            "355666         1         484       499          0.00            52.0   \n",
            "246955         1         809       839          0.15            68.0   \n",
            "264362         1         458       488          0.00            56.0   \n",
            "195152         1         349       426          0.00            79.0   \n",
            "\n",
            "        Humidity(%)  Pressure(in)  Visibility(mi)  Wind_Speed(mph)  \\\n",
            "239235         90.0         29.71            10.0              3.0   \n",
            "355666         86.0         30.10             8.0              3.0   \n",
            "246955         83.0         29.71            10.0             13.0   \n",
            "264362         20.0         24.61            10.0              7.0   \n",
            "195152         77.0         30.07            10.0             10.0   \n",
            "\n",
            "        Precipitation(in)  ...  Wind_Direction_WNW  Wind_Direction_WSW  \\\n",
            "239235                0.0  ...                   0                   0   \n",
            "355666                0.0  ...                   0                   0   \n",
            "246955                0.0  ...                   0                   0   \n",
            "264362                0.0  ...                   0                   0   \n",
            "195152                0.0  ...                   0                   0   \n",
            "\n",
            "        Wind_Direction_West  Weather_Day_of_Week_Friday  \\\n",
            "239235                    0                           0   \n",
            "355666                    0                           0   \n",
            "246955                    0                           0   \n",
            "264362                    0                           1   \n",
            "195152                    0                           0   \n",
            "\n",
            "        Weather_Day_of_Week_Monday  Weather_Day_of_Week_Saturday  \\\n",
            "239235                           0                             0   \n",
            "355666                           0                             0   \n",
            "246955                           0                             0   \n",
            "264362                           0                             0   \n",
            "195152                           1                             0   \n",
            "\n",
            "        Weather_Day_of_Week_Sunday  Weather_Day_of_Week_Thursday  \\\n",
            "239235                           0                             0   \n",
            "355666                           1                             0   \n",
            "246955                           0                             0   \n",
            "264362                           0                             0   \n",
            "195152                           0                             0   \n",
            "\n",
            "        Weather_Day_of_Week_Tuesday  Weather_Day_of_Week_Wednesday  \n",
            "239235                            0                              1  \n",
            "355666                            0                              0  \n",
            "246955                            0                              1  \n",
            "264362                            0                              0  \n",
            "195152                            0                              0  \n",
            "\n",
            "[5 rows x 75 columns]\n"
          ]
        }
      ],
      "source": [
        "# Perform One-Hot Encoding on the 'Weather_Day_of_Week' column\n",
        "weather_day_of_week_dummies = pd.get_dummies(sampled_data['Weather_Day_of_Week'], prefix='Weather_Day_of_Week')\n",
        "\n",
        "# Convert True/False to 1/0 explicitly\n",
        "weather_day_of_week_dummies = weather_day_of_week_dummies.astype(int)\n",
        "\n",
        "# Concatenate the new columns with the original dataframe\n",
        "sampled_data = pd.concat([sampled_data, weather_day_of_week_dummies], axis=1)\n",
        "\n",
        "# Drop the original 'Weather_Day_of_Week' column\n",
        "sampled_data.drop(columns=['Weather_Day_of_Week'], inplace=True)\n",
        "\n",
        "print(sampled_data.head())"
      ]
    },
    {
      "cell_type": "markdown",
      "metadata": {
        "id": "OiFYN0C8oOuJ"
      },
      "source": [
        "## Convert Boolean Columns from \"True\"/\"False\" to 1/0"
      ]
    },
    {
      "cell_type": "code",
      "execution_count": 321,
      "metadata": {
        "id": "CwInDuBioZZz"
      },
      "outputs": [],
      "source": [
        "boolean_columns = [\n",
        "    'Amenity', 'Bump', 'Crossing', 'Give_Way', 'Junction', 'No_Exit', 'Railway',\n",
        "    'Roundabout', 'Station', 'Stop', 'Traffic_Calming', 'Traffic_Signal', 'Turning_Loop'\n",
        "]\n",
        "\n",
        "# Convert string 'True'/'False' to actual boolean values\n",
        "sampled_data[boolean_columns] = sampled_data[boolean_columns].replace({'True': True, 'False': False})\n",
        "\n",
        "# Convert True/False to 1/0 for the specified columns\n",
        "sampled_data[boolean_columns] = sampled_data[boolean_columns].astype(int)\n",
        "\n",
        "# print(sampled_data[boolean_columns].head())"
      ]
    },
    {
      "cell_type": "markdown",
      "metadata": {
        "id": "lWYxj_Q0Xnb8"
      },
      "source": [
        "# Train, Validate, Test Split (80-10-10)"
      ]
    },
    {
      "cell_type": "code",
      "execution_count": 322,
      "metadata": {
        "colab": {
          "base_uri": "https://localhost:8080/"
        },
        "id": "_kuEJsqeS-vN",
        "outputId": "d04d5787-8716-4efc-b6fe-23a809e25010"
      },
      "outputs": [
        {
          "name": "stdout",
          "output_type": "stream",
          "text": [
            "Training Set Shape: (8000, 75)\n",
            "Validation Set Shape: (1000, 75)\n",
            "Test Set Shape: (1000, 75)\n"
          ]
        },
        {
          "name": "stderr",
          "output_type": "stream",
          "text": [
            "/var/folders/m_/kb9mf0b90hb2fvtfccyd41fr0000gn/T/ipykernel_51433/1617880872.py:1: DeprecationWarning: DataFrameGroupBy.apply operated on the grouping columns. This behavior is deprecated, and in a future version of pandas the grouping columns will be excluded from the operation. Either pass `include_groups=False` to exclude the groupings or explicitly select the grouping columns after groupby to silence this warning.\n",
            "  train_data = sampled_data.groupby('Severity', group_keys=False).apply(lambda x: x.sample(2000, random_state=42))\n"
          ]
        }
      ],
      "source": [
        "train_data = sampled_data.groupby('Severity', group_keys=False).apply(lambda x: x.sample(2000, random_state=42))\n",
        "\n",
        "valid_test_data = sampled_data.drop(train_data.index)\n",
        "\n",
        "validate_data, test_data = train_test_split(valid_test_data, test_size=0.5, random_state=42)\n",
        "\n",
        "print(\"Training Set Shape:\", train_data.shape)\n",
        "print(\"Validation Set Shape:\", validate_data.shape)\n",
        "print(\"Test Set Shape:\", test_data.shape)"
      ]
    },
    {
      "cell_type": "code",
      "execution_count": 271,
      "metadata": {
        "colab": {
          "base_uri": "https://localhost:8080/"
        },
        "id": "7az52zLlYB_0",
        "outputId": "c359313c-781c-4b25-876e-0d9a2b7a56b5"
      },
      "outputs": [],
      "source": [
        "# # Split the data into training (80%) and temporary set (20%)\n",
        "# train_data, temp_data = train_test_split(sampled_data, test_size=0.2, random_state=42)\n",
        "\n",
        "# # Split the temporary set into validation (50%) and test (50%) — both 10% of the total data\n",
        "# validate_data, test_data = train_test_split(temp_data, test_size=0.5, random_state=42)\n",
        "\n",
        "# # Check the shapes of the resulting sets\n",
        "# print(\"Training Set Shape:\", train_data.shape)\n",
        "# print(\"Validation Set Shape:\", validate_data.shape)\n",
        "# print(\"Test Set Shape:\", test_data.shape)"
      ]
    },
    {
      "cell_type": "code",
      "execution_count": 323,
      "metadata": {
        "colab": {
          "base_uri": "https://localhost:8080/"
        },
        "id": "UYWTVq3gsr9R",
        "outputId": "988b660d-b7e6-4663-d265-76bd7f1de3ae"
      },
      "outputs": [
        {
          "data": {
            "text/plain": [
              "(8000, 75)"
            ]
          },
          "execution_count": 323,
          "metadata": {},
          "output_type": "execute_result"
        }
      ],
      "source": [
        "train_data.shape"
      ]
    },
    {
      "cell_type": "code",
      "execution_count": 324,
      "metadata": {
        "id": "8DBzl80hfaSi"
      },
      "outputs": [],
      "source": [
        "save_file_path = '../../data'\n",
        "# Save the training dataset\n",
        "train_data.to_csv(f\"{save_file_path}/train_data_v2.csv\", index=False)\n",
        "\n",
        "# Save the validation dataset\n",
        "validate_data.to_csv(f\"{save_file_path}/validate_data_v2.csv\", index=False)\n",
        "\n",
        "# Save the test dataset\n",
        "test_data.to_csv(f\"{save_file_path}/test_data_v2.csv\", index=False)"
      ]
    },
    {
      "cell_type": "code",
      "execution_count": 325,
      "metadata": {
        "colab": {
          "base_uri": "https://localhost:8080/"
        },
        "id": "uIYp4bkVmwHN",
        "outputId": "7f77f9e4-c3e0-4a15-eb00-cbe64ee204bd"
      },
      "outputs": [
        {
          "name": "stdout",
          "output_type": "stream",
          "text": [
            "Number of duplicates between train and test: 0\n"
          ]
        }
      ],
      "source": [
        "# Check for duplicate samples between training and test sets\n",
        "duplicates = pd.DataFrame(train_data).merge(pd.DataFrame(test_data), how='inner')\n",
        "print(\"Number of duplicates between train and test:\", len(duplicates))"
      ]
    },
    {
      "cell_type": "code",
      "execution_count": 326,
      "metadata": {
        "colab": {
          "base_uri": "https://localhost:8080/"
        },
        "id": "TJJk2y4Tm0kq",
        "outputId": "79504f1f-eefe-49de-c123-5c9590317f88"
      },
      "outputs": [
        {
          "name": "stdout",
          "output_type": "stream",
          "text": [
            "Number of duplicates between train and test: 0\n"
          ]
        }
      ],
      "source": [
        "duplicates = pd.DataFrame(train_data).merge(pd.DataFrame(validate_data), how='inner')\n",
        "print(\"Number of duplicates between train and test:\", len(duplicates))"
      ]
    },
    {
      "cell_type": "code",
      "execution_count": 327,
      "metadata": {
        "colab": {
          "base_uri": "https://localhost:8080/"
        },
        "id": "4SealVxnm7u7",
        "outputId": "a28bb688-d450-4ac4-a311-f588d7d29b88"
      },
      "outputs": [
        {
          "name": "stdout",
          "output_type": "stream",
          "text": [
            "Number of duplicates between train and test: 0\n"
          ]
        }
      ],
      "source": [
        "duplicates = pd.DataFrame(validate_data).merge(pd.DataFrame(test_data), how='inner')\n",
        "print(\"Number of duplicates between train and test:\", len(duplicates))"
      ]
    }
  ],
  "metadata": {
    "colab": {
      "provenance": []
    },
    "kernelspec": {
      "display_name": "venv",
      "language": "python",
      "name": "python3"
    },
    "language_info": {
      "codemirror_mode": {
        "name": "ipython",
        "version": 3
      },
      "file_extension": ".py",
      "mimetype": "text/x-python",
      "name": "python",
      "nbconvert_exporter": "python",
      "pygments_lexer": "ipython3",
      "version": "3.13.2"
    }
  },
  "nbformat": 4,
  "nbformat_minor": 0
}
