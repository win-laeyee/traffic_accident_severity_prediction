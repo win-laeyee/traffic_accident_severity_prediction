{
 "cells": [
  {
   "cell_type": "markdown",
   "metadata": {},
   "source": [
    "# Import Libraries"
   ]
  },
  {
   "cell_type": "code",
   "execution_count": 8,
   "metadata": {},
   "outputs": [],
   "source": [
    "import pandas as pd\n",
    "import matplotlib.pyplot as plt\n",
    "from sklearn.model_selection import train_test_split\n",
    "from sklearn.ensemble import RandomForestClassifier\n",
    "from sklearn.preprocessing import LabelEncoder, label_binarize\n",
    "from sklearn.metrics import classification_report, accuracy_score, f1_score, confusion_matrix, roc_curve, auc\n"
   ]
  },
  {
   "cell_type": "markdown",
   "metadata": {},
   "source": [
    "# Data Processing"
   ]
  },
  {
   "cell_type": "code",
   "execution_count": 5,
   "metadata": {},
   "outputs": [],
   "source": [
    "df = pd.read_csv(\"data/accidents.csv\")"
   ]
  },
  {
   "cell_type": "code",
   "execution_count": 6,
   "metadata": {},
   "outputs": [
    {
     "data": {
      "application/vnd.microsoft.datawrangler.viewer.v0+json": {
       "columns": [
        {
         "name": "index",
         "rawType": "int64",
         "type": "integer"
        },
        {
         "name": "ID",
         "rawType": "object",
         "type": "string"
        },
        {
         "name": "Source",
         "rawType": "object",
         "type": "string"
        },
        {
         "name": "Severity",
         "rawType": "int64",
         "type": "integer"
        },
        {
         "name": "Start_Time",
         "rawType": "object",
         "type": "string"
        },
        {
         "name": "End_Time",
         "rawType": "object",
         "type": "string"
        },
        {
         "name": "Start_Lat",
         "rawType": "float64",
         "type": "float"
        },
        {
         "name": "Start_Lng",
         "rawType": "float64",
         "type": "float"
        },
        {
         "name": "End_Lat",
         "rawType": "float64",
         "type": "float"
        },
        {
         "name": "End_Lng",
         "rawType": "float64",
         "type": "float"
        },
        {
         "name": "Distance(mi)",
         "rawType": "float64",
         "type": "float"
        },
        {
         "name": "Description",
         "rawType": "object",
         "type": "string"
        },
        {
         "name": "Street",
         "rawType": "object",
         "type": "string"
        },
        {
         "name": "City",
         "rawType": "object",
         "type": "string"
        },
        {
         "name": "County",
         "rawType": "object",
         "type": "string"
        },
        {
         "name": "State",
         "rawType": "object",
         "type": "string"
        },
        {
         "name": "Zipcode",
         "rawType": "object",
         "type": "string"
        },
        {
         "name": "Country",
         "rawType": "object",
         "type": "string"
        },
        {
         "name": "Timezone",
         "rawType": "object",
         "type": "string"
        },
        {
         "name": "Airport_Code",
         "rawType": "object",
         "type": "string"
        },
        {
         "name": "Weather_Timestamp",
         "rawType": "object",
         "type": "string"
        },
        {
         "name": "Temperature(F)",
         "rawType": "float64",
         "type": "float"
        },
        {
         "name": "Wind_Chill(F)",
         "rawType": "float64",
         "type": "float"
        },
        {
         "name": "Humidity(%)",
         "rawType": "float64",
         "type": "float"
        },
        {
         "name": "Pressure(in)",
         "rawType": "float64",
         "type": "float"
        },
        {
         "name": "Visibility(mi)",
         "rawType": "float64",
         "type": "float"
        },
        {
         "name": "Wind_Direction",
         "rawType": "object",
         "type": "string"
        },
        {
         "name": "Wind_Speed(mph)",
         "rawType": "float64",
         "type": "float"
        },
        {
         "name": "Precipitation(in)",
         "rawType": "float64",
         "type": "float"
        },
        {
         "name": "Weather_Condition",
         "rawType": "object",
         "type": "string"
        },
        {
         "name": "Amenity",
         "rawType": "bool",
         "type": "boolean"
        },
        {
         "name": "Bump",
         "rawType": "bool",
         "type": "boolean"
        },
        {
         "name": "Crossing",
         "rawType": "bool",
         "type": "boolean"
        },
        {
         "name": "Give_Way",
         "rawType": "bool",
         "type": "boolean"
        },
        {
         "name": "Junction",
         "rawType": "bool",
         "type": "boolean"
        },
        {
         "name": "No_Exit",
         "rawType": "bool",
         "type": "boolean"
        },
        {
         "name": "Railway",
         "rawType": "bool",
         "type": "boolean"
        },
        {
         "name": "Roundabout",
         "rawType": "bool",
         "type": "boolean"
        },
        {
         "name": "Station",
         "rawType": "bool",
         "type": "boolean"
        },
        {
         "name": "Stop",
         "rawType": "bool",
         "type": "boolean"
        },
        {
         "name": "Traffic_Calming",
         "rawType": "bool",
         "type": "boolean"
        },
        {
         "name": "Traffic_Signal",
         "rawType": "bool",
         "type": "boolean"
        },
        {
         "name": "Turning_Loop",
         "rawType": "bool",
         "type": "boolean"
        },
        {
         "name": "Sunrise_Sunset",
         "rawType": "object",
         "type": "string"
        },
        {
         "name": "Civil_Twilight",
         "rawType": "object",
         "type": "string"
        },
        {
         "name": "Nautical_Twilight",
         "rawType": "object",
         "type": "string"
        },
        {
         "name": "Astronomical_Twilight",
         "rawType": "object",
         "type": "string"
        }
       ],
       "conversionMethod": "pd.DataFrame",
       "ref": "d53982c1-e4d8-41ff-b29b-f9d27e603c90",
       "rows": [
        [
         "0",
         "A-1",
         "Source2",
         "3",
         "2016-02-08 05:46:00",
         "2016-02-08 11:00:00",
         "39.865147",
         "-84.058723",
         null,
         null,
         "0.01",
         "Right lane blocked due to accident on I-70 Eastbound at Exit 41 OH-235 State Route 4.",
         "I-70 E",
         "Dayton",
         "Montgomery",
         "OH",
         "45424",
         "US",
         "US/Eastern",
         "KFFO",
         "2016-02-08 05:58:00",
         "36.9",
         null,
         "91.0",
         "29.68",
         "10.0",
         "Calm",
         null,
         "0.02",
         "Light Rain",
         "False",
         "False",
         "False",
         "False",
         "False",
         "False",
         "False",
         "False",
         "False",
         "False",
         "False",
         "False",
         "False",
         "Night",
         "Night",
         "Night",
         "Night"
        ],
        [
         "1",
         "A-2",
         "Source2",
         "2",
         "2016-02-08 06:07:59",
         "2016-02-08 06:37:59",
         "39.92805900000001",
         "-82.831184",
         null,
         null,
         "0.01",
         "Accident on Brice Rd at Tussing Rd. Expect delays.",
         "Brice Rd",
         "Reynoldsburg",
         "Franklin",
         "OH",
         "43068-3402",
         "US",
         "US/Eastern",
         "KCMH",
         "2016-02-08 05:51:00",
         "37.9",
         null,
         "100.0",
         "29.65",
         "10.0",
         "Calm",
         null,
         "0.0",
         "Light Rain",
         "False",
         "False",
         "False",
         "False",
         "False",
         "False",
         "False",
         "False",
         "False",
         "False",
         "False",
         "False",
         "False",
         "Night",
         "Night",
         "Night",
         "Day"
        ],
        [
         "2",
         "A-3",
         "Source2",
         "2",
         "2016-02-08 06:49:27",
         "2016-02-08 07:19:27",
         "39.063148",
         "-84.032608",
         null,
         null,
         "0.01",
         "Accident on OH-32 State Route 32 Westbound at Dela Palma Rd. Expect delays.",
         "State Route 32",
         "Williamsburg",
         "Clermont",
         "OH",
         "45176",
         "US",
         "US/Eastern",
         "KI69",
         "2016-02-08 06:56:00",
         "36.0",
         "33.3",
         "100.0",
         "29.67",
         "10.0",
         "SW",
         "3.5",
         null,
         "Overcast",
         "False",
         "False",
         "False",
         "False",
         "False",
         "False",
         "False",
         "False",
         "False",
         "False",
         "False",
         "True",
         "False",
         "Night",
         "Night",
         "Day",
         "Day"
        ],
        [
         "3",
         "A-4",
         "Source2",
         "3",
         "2016-02-08 07:23:34",
         "2016-02-08 07:53:34",
         "39.747753",
         "-84.20558199999998",
         null,
         null,
         "0.01",
         "Accident on I-75 Southbound at Exits 52 52B US-35. Expect delays.",
         "I-75 S",
         "Dayton",
         "Montgomery",
         "OH",
         "45417",
         "US",
         "US/Eastern",
         "KDAY",
         "2016-02-08 07:38:00",
         "35.1",
         "31.0",
         "96.0",
         "29.64",
         "9.0",
         "SW",
         "4.6",
         null,
         "Mostly Cloudy",
         "False",
         "False",
         "False",
         "False",
         "False",
         "False",
         "False",
         "False",
         "False",
         "False",
         "False",
         "False",
         "False",
         "Night",
         "Day",
         "Day",
         "Day"
        ],
        [
         "4",
         "A-5",
         "Source2",
         "2",
         "2016-02-08 07:39:07",
         "2016-02-08 08:09:07",
         "39.627781",
         "-84.188354",
         null,
         null,
         "0.01",
         "Accident on McEwen Rd at OH-725 Miamisburg Centerville Rd. Expect delays.",
         "Miamisburg Centerville Rd",
         "Dayton",
         "Montgomery",
         "OH",
         "45459",
         "US",
         "US/Eastern",
         "KMGY",
         "2016-02-08 07:53:00",
         "36.0",
         "33.3",
         "89.0",
         "29.65",
         "6.0",
         "SW",
         "3.5",
         null,
         "Mostly Cloudy",
         "False",
         "False",
         "False",
         "False",
         "False",
         "False",
         "False",
         "False",
         "False",
         "False",
         "False",
         "True",
         "False",
         "Day",
         "Day",
         "Day",
         "Day"
        ]
       ],
       "shape": {
        "columns": 46,
        "rows": 5
       }
      },
      "text/html": [
       "<div>\n",
       "<style scoped>\n",
       "    .dataframe tbody tr th:only-of-type {\n",
       "        vertical-align: middle;\n",
       "    }\n",
       "\n",
       "    .dataframe tbody tr th {\n",
       "        vertical-align: top;\n",
       "    }\n",
       "\n",
       "    .dataframe thead th {\n",
       "        text-align: right;\n",
       "    }\n",
       "</style>\n",
       "<table border=\"1\" class=\"dataframe\">\n",
       "  <thead>\n",
       "    <tr style=\"text-align: right;\">\n",
       "      <th></th>\n",
       "      <th>ID</th>\n",
       "      <th>Source</th>\n",
       "      <th>Severity</th>\n",
       "      <th>Start_Time</th>\n",
       "      <th>End_Time</th>\n",
       "      <th>Start_Lat</th>\n",
       "      <th>Start_Lng</th>\n",
       "      <th>End_Lat</th>\n",
       "      <th>End_Lng</th>\n",
       "      <th>Distance(mi)</th>\n",
       "      <th>...</th>\n",
       "      <th>Roundabout</th>\n",
       "      <th>Station</th>\n",
       "      <th>Stop</th>\n",
       "      <th>Traffic_Calming</th>\n",
       "      <th>Traffic_Signal</th>\n",
       "      <th>Turning_Loop</th>\n",
       "      <th>Sunrise_Sunset</th>\n",
       "      <th>Civil_Twilight</th>\n",
       "      <th>Nautical_Twilight</th>\n",
       "      <th>Astronomical_Twilight</th>\n",
       "    </tr>\n",
       "  </thead>\n",
       "  <tbody>\n",
       "    <tr>\n",
       "      <th>0</th>\n",
       "      <td>A-1</td>\n",
       "      <td>Source2</td>\n",
       "      <td>3</td>\n",
       "      <td>2016-02-08 05:46:00</td>\n",
       "      <td>2016-02-08 11:00:00</td>\n",
       "      <td>39.865147</td>\n",
       "      <td>-84.058723</td>\n",
       "      <td>NaN</td>\n",
       "      <td>NaN</td>\n",
       "      <td>0.01</td>\n",
       "      <td>...</td>\n",
       "      <td>False</td>\n",
       "      <td>False</td>\n",
       "      <td>False</td>\n",
       "      <td>False</td>\n",
       "      <td>False</td>\n",
       "      <td>False</td>\n",
       "      <td>Night</td>\n",
       "      <td>Night</td>\n",
       "      <td>Night</td>\n",
       "      <td>Night</td>\n",
       "    </tr>\n",
       "    <tr>\n",
       "      <th>1</th>\n",
       "      <td>A-2</td>\n",
       "      <td>Source2</td>\n",
       "      <td>2</td>\n",
       "      <td>2016-02-08 06:07:59</td>\n",
       "      <td>2016-02-08 06:37:59</td>\n",
       "      <td>39.928059</td>\n",
       "      <td>-82.831184</td>\n",
       "      <td>NaN</td>\n",
       "      <td>NaN</td>\n",
       "      <td>0.01</td>\n",
       "      <td>...</td>\n",
       "      <td>False</td>\n",
       "      <td>False</td>\n",
       "      <td>False</td>\n",
       "      <td>False</td>\n",
       "      <td>False</td>\n",
       "      <td>False</td>\n",
       "      <td>Night</td>\n",
       "      <td>Night</td>\n",
       "      <td>Night</td>\n",
       "      <td>Day</td>\n",
       "    </tr>\n",
       "    <tr>\n",
       "      <th>2</th>\n",
       "      <td>A-3</td>\n",
       "      <td>Source2</td>\n",
       "      <td>2</td>\n",
       "      <td>2016-02-08 06:49:27</td>\n",
       "      <td>2016-02-08 07:19:27</td>\n",
       "      <td>39.063148</td>\n",
       "      <td>-84.032608</td>\n",
       "      <td>NaN</td>\n",
       "      <td>NaN</td>\n",
       "      <td>0.01</td>\n",
       "      <td>...</td>\n",
       "      <td>False</td>\n",
       "      <td>False</td>\n",
       "      <td>False</td>\n",
       "      <td>False</td>\n",
       "      <td>True</td>\n",
       "      <td>False</td>\n",
       "      <td>Night</td>\n",
       "      <td>Night</td>\n",
       "      <td>Day</td>\n",
       "      <td>Day</td>\n",
       "    </tr>\n",
       "    <tr>\n",
       "      <th>3</th>\n",
       "      <td>A-4</td>\n",
       "      <td>Source2</td>\n",
       "      <td>3</td>\n",
       "      <td>2016-02-08 07:23:34</td>\n",
       "      <td>2016-02-08 07:53:34</td>\n",
       "      <td>39.747753</td>\n",
       "      <td>-84.205582</td>\n",
       "      <td>NaN</td>\n",
       "      <td>NaN</td>\n",
       "      <td>0.01</td>\n",
       "      <td>...</td>\n",
       "      <td>False</td>\n",
       "      <td>False</td>\n",
       "      <td>False</td>\n",
       "      <td>False</td>\n",
       "      <td>False</td>\n",
       "      <td>False</td>\n",
       "      <td>Night</td>\n",
       "      <td>Day</td>\n",
       "      <td>Day</td>\n",
       "      <td>Day</td>\n",
       "    </tr>\n",
       "    <tr>\n",
       "      <th>4</th>\n",
       "      <td>A-5</td>\n",
       "      <td>Source2</td>\n",
       "      <td>2</td>\n",
       "      <td>2016-02-08 07:39:07</td>\n",
       "      <td>2016-02-08 08:09:07</td>\n",
       "      <td>39.627781</td>\n",
       "      <td>-84.188354</td>\n",
       "      <td>NaN</td>\n",
       "      <td>NaN</td>\n",
       "      <td>0.01</td>\n",
       "      <td>...</td>\n",
       "      <td>False</td>\n",
       "      <td>False</td>\n",
       "      <td>False</td>\n",
       "      <td>False</td>\n",
       "      <td>True</td>\n",
       "      <td>False</td>\n",
       "      <td>Day</td>\n",
       "      <td>Day</td>\n",
       "      <td>Day</td>\n",
       "      <td>Day</td>\n",
       "    </tr>\n",
       "  </tbody>\n",
       "</table>\n",
       "<p>5 rows × 46 columns</p>\n",
       "</div>"
      ],
      "text/plain": [
       "    ID   Source  Severity           Start_Time             End_Time  \\\n",
       "0  A-1  Source2         3  2016-02-08 05:46:00  2016-02-08 11:00:00   \n",
       "1  A-2  Source2         2  2016-02-08 06:07:59  2016-02-08 06:37:59   \n",
       "2  A-3  Source2         2  2016-02-08 06:49:27  2016-02-08 07:19:27   \n",
       "3  A-4  Source2         3  2016-02-08 07:23:34  2016-02-08 07:53:34   \n",
       "4  A-5  Source2         2  2016-02-08 07:39:07  2016-02-08 08:09:07   \n",
       "\n",
       "   Start_Lat  Start_Lng  End_Lat  End_Lng  Distance(mi)  ... Roundabout  \\\n",
       "0  39.865147 -84.058723      NaN      NaN          0.01  ...      False   \n",
       "1  39.928059 -82.831184      NaN      NaN          0.01  ...      False   \n",
       "2  39.063148 -84.032608      NaN      NaN          0.01  ...      False   \n",
       "3  39.747753 -84.205582      NaN      NaN          0.01  ...      False   \n",
       "4  39.627781 -84.188354      NaN      NaN          0.01  ...      False   \n",
       "\n",
       "  Station   Stop Traffic_Calming Traffic_Signal Turning_Loop Sunrise_Sunset  \\\n",
       "0   False  False           False          False        False          Night   \n",
       "1   False  False           False          False        False          Night   \n",
       "2   False  False           False           True        False          Night   \n",
       "3   False  False           False          False        False          Night   \n",
       "4   False  False           False           True        False            Day   \n",
       "\n",
       "  Civil_Twilight Nautical_Twilight Astronomical_Twilight  \n",
       "0          Night             Night                 Night  \n",
       "1          Night             Night                   Day  \n",
       "2          Night               Day                   Day  \n",
       "3            Day               Day                   Day  \n",
       "4            Day               Day                   Day  \n",
       "\n",
       "[5 rows x 46 columns]"
      ]
     },
     "execution_count": 6,
     "metadata": {},
     "output_type": "execute_result"
    }
   ],
   "source": [
    "df.head()"
   ]
  },
  {
   "cell_type": "code",
   "execution_count": 7,
   "metadata": {},
   "outputs": [
    {
     "data": {
      "text/plain": [
       "ID                        object\n",
       "Source                    object\n",
       "Severity                   int64\n",
       "Start_Time                object\n",
       "End_Time                  object\n",
       "Start_Lat                float64\n",
       "Start_Lng                float64\n",
       "End_Lat                  float64\n",
       "End_Lng                  float64\n",
       "Distance(mi)             float64\n",
       "Description               object\n",
       "Street                    object\n",
       "City                      object\n",
       "County                    object\n",
       "State                     object\n",
       "Zipcode                   object\n",
       "Country                   object\n",
       "Timezone                  object\n",
       "Airport_Code              object\n",
       "Weather_Timestamp         object\n",
       "Temperature(F)           float64\n",
       "Wind_Chill(F)            float64\n",
       "Humidity(%)              float64\n",
       "Pressure(in)             float64\n",
       "Visibility(mi)           float64\n",
       "Wind_Direction            object\n",
       "Wind_Speed(mph)          float64\n",
       "Precipitation(in)        float64\n",
       "Weather_Condition         object\n",
       "Amenity                     bool\n",
       "Bump                        bool\n",
       "Crossing                    bool\n",
       "Give_Way                    bool\n",
       "Junction                    bool\n",
       "No_Exit                     bool\n",
       "Railway                     bool\n",
       "Roundabout                  bool\n",
       "Station                     bool\n",
       "Stop                        bool\n",
       "Traffic_Calming             bool\n",
       "Traffic_Signal              bool\n",
       "Turning_Loop                bool\n",
       "Sunrise_Sunset            object\n",
       "Civil_Twilight            object\n",
       "Nautical_Twilight         object\n",
       "Astronomical_Twilight     object\n",
       "dtype: object"
      ]
     },
     "execution_count": 7,
     "metadata": {},
     "output_type": "execute_result"
    }
   ],
   "source": [
    "df.dtypes"
   ]
  },
  {
   "cell_type": "code",
   "execution_count": 9,
   "metadata": {},
   "outputs": [],
   "source": [
    "irrelevant_columns = [\"ID\", \"Description\", \"Street\", \"City\", \"County\", \"State\", \"Zipcode\", \"Country\", \"Airport_Code\", \"Weather_Timestamp\"]\n",
    "df = df.drop(columns=irrelevant_columns, errors='ignore')\n",
    "\n",
    "df = df.fillna(df.median(numeric_only=True))  # Fill numerical columns with median\n",
    "df = df.fillna(df.mode().iloc[0])  # Fill categorical columns with mode\n",
    "\n",
    "# Encode categorical features\n",
    "categorical_columns = df.select_dtypes(include=[\"object\", \"bool\"]).columns\n",
    "for col in categorical_columns:\n",
    "    df[col] = LabelEncoder().fit_transform(df[col])\n"
   ]
  },
  {
   "cell_type": "markdown",
   "metadata": {},
   "source": [
    "# Model"
   ]
  },
  {
   "cell_type": "code",
   "execution_count": null,
   "metadata": {},
   "outputs": [],
   "source": [
    "# Define features and target\n",
    "X = df.drop(columns=[\"Severity\"])\n",
    "y = df[\"Severity\"]\n",
    "\n",
    "# Split the data\n",
    "X_train, X_test, y_train, y_test = train_test_split(X, y, test_size=0.2, random_state=42)\n",
    "\n",
    "# Train the Random Forest model\n",
    "model = RandomForestClassifier(n_estimators=100, random_state=42)\n",
    "model.fit(X_train, y_train)\n",
    "\n",
    "# Make predictions\n",
    "y_pred = model.predict(X_test)"
   ]
  },
  {
   "cell_type": "markdown",
   "metadata": {},
   "source": [
    "# Evaluation"
   ]
  },
  {
   "cell_type": "code",
   "execution_count": 11,
   "metadata": {},
   "outputs": [
    {
     "name": "stdout",
     "output_type": "stream",
     "text": [
      "Accuracy: 0.8794846795485997\n",
      "F1 Score: 0.8748019056294422\n",
      "Classification Report:\n",
      "               precision    recall  f1-score   support\n",
      "\n",
      "           1       0.73      0.68      0.71     13509\n",
      "           2       0.91      0.95      0.93   1230523\n",
      "           3       0.75      0.65      0.70    260525\n",
      "           4       0.53      0.36      0.43     41122\n",
      "\n",
      "    accuracy                           0.88   1545679\n",
      "   macro avg       0.73      0.66      0.69   1545679\n",
      "weighted avg       0.87      0.88      0.87   1545679\n",
      "\n",
      "Confusion Matrix:\n",
      " [[   9251    3139    1096      23]\n",
      " [   2469 1164883   51447   11724]\n",
      " [    840   87691  170419    1575]\n",
      " [     46   22799    3429   14848]]\n"
     ]
    },
    {
     "data": {
      "image/png": "[encoded data removed]",
      "text/plain": [
       "<Figure size 640x480 with 1 Axes>"
      ]
     },
     "metadata": {},
     "output_type": "display_data"
    }
   ],
   "source": [
    "# Evaluate the model\n",
    "print(\"Accuracy:\", accuracy_score(y_test, y_pred))\n",
    "print(\"F1 Score:\", f1_score(y_test, y_pred, average='weighted'))\n",
    "print(\"Classification Report:\\n\", classification_report(y_test, y_pred))\n",
    "\n",
    "# Compute and display confusion matrix\n",
    "conf_matrix = confusion_matrix(y_test, y_pred)\n",
    "print(\"Confusion Matrix:\\n\", conf_matrix)\n",
    "\n",
    "# Compute AUC-ROC curve\n",
    "y_test_bin = label_binarize(y_test, classes=[1, 2, 3, 4])\n",
    "y_pred_prob = model.predict_proba(X_test)\n",
    "n_classes = y_test_bin.shape[1]\n",
    "\n",
    "plt.figure()\n",
    "for i in range(n_classes):\n",
    "    fpr, tpr, _ = roc_curve(y_test_bin[:, i], y_pred_prob[:, i])\n",
    "    plt.plot(fpr, tpr, label=f'Class {i+1} (AUC = {auc(fpr, tpr):.2f})')\n",
    "\n",
    "plt.plot([0, 1], [0, 1], 'k--')\n",
    "plt.xlabel('False Positive Rate')\n",
    "plt.ylabel('True Positive Rate')\n",
    "plt.title('Multi-Class ROC Curve')\n",
    "plt.legend(loc='best')\n",
    "plt.show()\n"
   ]
  }
 ],
 "metadata": {
  "kernelspec": {
   "display_name": "venv",
   "language": "python",
   "name": "python3"
  },
  "language_info": {
   "codemirror_mode": {
    "name": "ipython",
    "version": 3
   },
   "file_extension": ".py",
   "mimetype": "text/x-python",
   "name": "python",
   "nbconvert_exporter": "python",
   "pygments_lexer": "ipython3",
   "version": "3.13.1"
  }
 },
 "nbformat": 4,
 "nbformat_minor": 2
}
